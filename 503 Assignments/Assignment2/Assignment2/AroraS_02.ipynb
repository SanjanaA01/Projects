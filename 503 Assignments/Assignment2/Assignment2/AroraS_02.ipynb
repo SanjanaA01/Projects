{
  "nbformat": 4,
  "nbformat_minor": 0,
  "metadata": {
    "colab": {
      "name": "AroraS02A2.ipynb",
      "provenance": [],
      "collapsed_sections": []
    },
    "kernelspec": {
      "name": "python3",
      "display_name": "Python 3"
    },
    "language_info": {
      "name": "python"
    }
  },
  "cells": [
    {
      "cell_type": "markdown",
      "metadata": {
        "id": "nk0-c2ImR4EL"
      },
      "source": [
        "# Student: Arora, Sanjana (V00966221)\n",
        "Question 2"
      ]
    },
    {
      "cell_type": "code",
      "metadata": {
        "id": "M27DCYKbDeGT"
      },
      "source": [
        "import pandas as pd\n",
        "import numpy as np\n",
        "from sklearn.svm import SVC\n",
        "from sklearn.metrics import accuracy_score\n",
        "import seaborn as sns\n",
        "from matplotlib import pyplot as plt"
      ],
      "execution_count": null,
      "outputs": []
    },
    {
      "cell_type": "code",
      "metadata": {
        "id": "5DpvrzK9EQ4I",
        "colab": {
          "base_uri": "https://localhost:8080/"
        },
        "outputId": "12c790f0-6d91-41fb-c753-75368bf2bd38"
      },
      "source": [
        "# loading the MNIST dataset\n",
        "from keras.datasets import mnist\n",
        "(train_X, train_y), (test_X, test_y) = mnist.load_data()"
      ],
      "execution_count": null,
      "outputs": [
        {
          "output_type": "stream",
          "text": [
            "Downloading data from https://storage.googleapis.com/tensorflow/tf-keras-datasets/mnist.npz\n",
            "11493376/11490434 [==============================] - 0s 0us/step\n",
            "11501568/11490434 [==============================] - 0s 0us/step\n"
          ],
          "name": "stdout"
        }
      ]
    },
    {
      "cell_type": "code",
      "metadata": {
        "id": "TPz1431VMpDk"
      },
      "source": [
        "# data preprocessing\n",
        "train_X = train_X.reshape(train_X.shape[0], 28*28)\n",
        "test_X = test_X.reshape(test_X.shape[0], 28*28)"
      ],
      "execution_count": null,
      "outputs": []
    },
    {
      "cell_type": "code",
      "metadata": {
        "id": "6UWHtYjEM95r"
      },
      "source": [
        "train_X = train_X / 255\n",
        "test_X = test_X / 255"
      ],
      "execution_count": null,
      "outputs": []
    },
    {
      "cell_type": "markdown",
      "metadata": {
        "id": "6-O5MbLhRuq3"
      },
      "source": [
        "# Selecting images corresponding to 1 and 7"
      ]
    },
    {
      "cell_type": "code",
      "metadata": {
        "id": "qM41KN9JE-p8"
      },
      "source": [
        "train_filter = np.where((train_y == 1 ) | (train_y == 7))\n",
        "test_filter = np.where((test_y == 1) | (test_y == 7))\n",
        "train_X, train_y = train_X[train_filter], train_y[train_filter]\n",
        "test_X, test_y = test_X[test_filter], test_y[test_filter]"
      ],
      "execution_count": null,
      "outputs": []
    },
    {
      "cell_type": "markdown",
      "metadata": {
        "id": "5zlfLnVnWe88"
      },
      "source": [
        "# 2.1 Hard Margin SVM"
      ]
    },
    {
      "cell_type": "code",
      "metadata": {
        "id": "CM8p_KqQHTeh"
      },
      "source": [
        "model_hard=SVC(kernel= 'linear', C=10**10)"
      ],
      "execution_count": null,
      "outputs": []
    },
    {
      "cell_type": "code",
      "metadata": {
        "colab": {
          "base_uri": "https://localhost:8080/"
        },
        "id": "OE7g114aIxKq",
        "outputId": "6431829c-22a1-4486-ccf9-b1d846f0d51f"
      },
      "source": [
        "model_hard.fit(train_X,train_y)"
      ],
      "execution_count": null,
      "outputs": [
        {
          "output_type": "execute_result",
          "data": {
            "text/plain": [
              "SVC(C=10000000000, break_ties=False, cache_size=200, class_weight=None,\n",
              "    coef0=0.0, decision_function_shape='ovr', degree=3, gamma='scale',\n",
              "    kernel='linear', max_iter=-1, probability=False, random_state=None,\n",
              "    shrinking=True, tol=0.001, verbose=False)"
            ]
          },
          "metadata": {
            "tags": []
          },
          "execution_count": 30
        }
      ]
    },
    {
      "cell_type": "code",
      "metadata": {
        "id": "8biGtCICNiVG"
      },
      "source": [
        "y_pred = model_hard.predict(test_X)"
      ],
      "execution_count": null,
      "outputs": []
    },
    {
      "cell_type": "code",
      "metadata": {
        "id": "Jmyk3_1OH8oS"
      },
      "source": [
        "y_pred_train = model_hard.predict(train_X)"
      ],
      "execution_count": null,
      "outputs": []
    },
    {
      "cell_type": "code",
      "metadata": {
        "colab": {
          "base_uri": "https://localhost:8080/"
        },
        "id": "mpan_iNiPL0B",
        "outputId": "e0c8b90f-b00d-44fd-d19d-304864a6aa1f"
      },
      "source": [
        "#testing accuracy score\n",
        "accuracy_score(test_y, y_pred)"
      ],
      "execution_count": null,
      "outputs": [
        {
          "output_type": "execute_result",
          "data": {
            "text/plain": [
              "0.9916782246879334"
            ]
          },
          "metadata": {
            "tags": []
          },
          "execution_count": 11
        }
      ]
    },
    {
      "cell_type": "code",
      "metadata": {
        "colab": {
          "base_uri": "https://localhost:8080/"
        },
        "id": "DszVAKDZIEl7",
        "outputId": "1b51e932-d61c-4e08-806a-a01ff5433e52"
      },
      "source": [
        "#training accuracy score\n",
        "accuracy_score(train_y, y_pred_train)"
      ],
      "execution_count": null,
      "outputs": [
        {
          "output_type": "execute_result",
          "data": {
            "text/plain": [
              "1.0"
            ]
          },
          "metadata": {
            "tags": []
          },
          "execution_count": 12
        }
      ]
    },
    {
      "cell_type": "markdown",
      "metadata": {
        "id": "IldEHcfLP9qO"
      },
      "source": [
        "As indicated by the training and testing scores for the hard margin SVM above, the hard margin SVM performs really well in classifying the MNIST dataset. "
      ]
    },
    {
      "cell_type": "markdown",
      "metadata": {
        "id": "y5GVyvtK1ft7"
      },
      "source": [
        "# 2.2 Soft Margin SVM\n",
        "Tested the performance of the SVM using different values of C and based on the accuracy score of each of the C parameters, the C with value 0.1 is performing the best"
      ]
    },
    {
      "cell_type": "code",
      "metadata": {
        "id": "7SjuwABQVrmc",
        "colab": {
          "base_uri": "https://localhost:8080/"
        },
        "outputId": "abb4d011-2501-44cd-9e50-315d160e2720"
      },
      "source": [
        "from sklearn.model_selection import cross_val_score\n",
        "c = [0.1, 0.25, 0.5,1,2]\n",
        "for i in c:   \n",
        "  model_soft=SVC(kernel= 'linear',C=i)\n",
        "  model_soft.fit(train_X,train_y)\n",
        "  accuracies = cross_val_score(estimator = model_soft, X = train_X, y = train_y, cv = 5)\n",
        "  print(\"\\nThe accuracy with C:{:.2f}:\".format(i), accuracies.mean())"
      ],
      "execution_count": null,
      "outputs": [
        {
          "output_type": "stream",
          "text": [
            "\n",
            "The accuracy with C:0.10: 0.9958482532438154\n",
            "\n",
            "The accuracy with C:0.25: 0.9956176318397022\n",
            "\n",
            "The accuracy with C:0.50: 0.9954638152830121\n",
            "\n",
            "The accuracy with C:1.00: 0.99531011693309\n",
            "\n",
            "The accuracy with C:2.00: 0.9946951166715575\n"
          ],
          "name": "stdout"
        }
      ]
    },
    {
      "cell_type": "code",
      "metadata": {
        "colab": {
          "base_uri": "https://localhost:8080/"
        },
        "id": "CZXqP1fvekSP",
        "outputId": "a82ee020-dc1b-40eb-be6e-daac0284ce63"
      },
      "source": [
        "from sklearn.model_selection import cross_val_score\n",
        "c = [25,30,35]\n",
        "for i in c:   \n",
        "  model_soft=SVC(kernel= 'linear',C=i)\n",
        "  model_soft.fit(train_X,train_y)\n",
        "  accuracies = cross_val_score(estimator = model_soft, X = train_X, y = train_y, cv = 5)\n",
        "  print(\"\\nThe accuracy with C:{}:\".format(i), accuracies.mean())\n"
      ],
      "execution_count": null,
      "outputs": [
        {
          "output_type": "stream",
          "text": [
            "\n",
            "The accuracy with C:25: 0.9943107082624463\n",
            "\n",
            "The accuracy with C:30: 0.9943107082624463\n",
            "\n",
            "The accuracy with C:35: 0.9943107082624463\n"
          ],
          "name": "stdout"
        }
      ]
    },
    {
      "cell_type": "markdown",
      "metadata": {
        "id": "p29FgT9VJvQU"
      },
      "source": [
        "Implementing the soft margin SVM using the selected hyperparameters"
      ]
    },
    {
      "cell_type": "code",
      "metadata": {
        "id": "mkFqnljjgdkR"
      },
      "source": [
        "model_soft = SVC(kernel= 'linear',C=0.1)\n",
        "model_soft.fit(train_X,train_y)\n",
        "y_pred_test = model_soft.predict(test_X)\n",
        "y_pred_train = model_soft.predict(train_X)"
      ],
      "execution_count": null,
      "outputs": []
    },
    {
      "cell_type": "code",
      "metadata": {
        "colab": {
          "base_uri": "https://localhost:8080/"
        },
        "id": "6mhJuzG2g8Hm",
        "outputId": "728bde8b-4c1c-4132-bddd-dfe7956a27a4"
      },
      "source": [
        "#training accuracy score\n",
        "accuracy_score(train_y, y_pred_train)"
      ],
      "execution_count": null,
      "outputs": [
        {
          "output_type": "execute_result",
          "data": {
            "text/plain": [
              "0.9977704313062197"
            ]
          },
          "metadata": {
            "tags": []
          },
          "execution_count": 16
        }
      ]
    },
    {
      "cell_type": "code",
      "metadata": {
        "colab": {
          "base_uri": "https://localhost:8080/"
        },
        "id": "lZNru8Lhg-mm",
        "outputId": "386f4507-882c-450b-d282-b91545ffc53a"
      },
      "source": [
        "#testing accuracy score\n",
        "accuracy_score(test_y, y_pred_test)"
      ],
      "execution_count": null,
      "outputs": [
        {
          "output_type": "execute_result",
          "data": {
            "text/plain": [
              "0.9944521497919556"
            ]
          },
          "metadata": {
            "tags": []
          },
          "execution_count": 17
        }
      ]
    },
    {
      "cell_type": "markdown",
      "metadata": {
        "id": "5DT8WgZwhJFK"
      },
      "source": [
        "**Observation**: The training accuracy achieved with hard margin SVM (1) is higher than the soft margin accuracy .9977704313062197. While the testing accuracy has improved slightly for soft margin SVM .9944 as compared to the .9915 achieved using hard margin SVM.\n",
        "\n",
        "I believe overall classification performance of soft margin SVM is slightly better than the hard margin SVM in this case.In general, the soft margin classifiers are better than the hard margin SVMs as the hard margin SVMS are not able to generalize the data and are sensitive to outliers."
      ]
    },
    {
      "cell_type": "markdown",
      "metadata": {
        "id": "ElTVEZYYDNT0"
      },
      "source": [
        "# 2.3 a) Polynomial kernel SVM"
      ]
    },
    {
      "cell_type": "code",
      "metadata": {
        "id": "hMhmDUVYDVOv",
        "colab": {
          "base_uri": "https://localhost:8080/"
        },
        "outputId": "60b179d3-78d2-4bff-b726-298f89fa4534"
      },
      "source": [
        "degree = [1,3,4]\n",
        "for d in degree:\n",
        "  clf = SVC(kernel='poly', degree=d, C=0.1)\n",
        "  clf.fit(train_X,train_y)\n",
        "  print(\"\\nThe testing accuracy with degree:{}:\".format(d), clf.score(train_X,train_y))\n",
        "  print(\"\\nThe training accuracy with degree:{}:\".format(d), clf.score(test_X, test_y))"
      ],
      "execution_count": null,
      "outputs": [
        {
          "output_type": "stream",
          "text": [
            "\n",
            "The testing accuracy with degree:1: 0.9938494656723302\n",
            "\n",
            "The training accuracy with degree:1: 0.989828941285252\n",
            "\n",
            "The testing accuracy with degree:3: 0.9931575305604674\n",
            "\n",
            "The training accuracy with degree:3: 0.9893666204345816\n",
            "\n",
            "The testing accuracy with degree:4: 0.9896978550011533\n",
            "\n",
            "The training accuracy with degree:4: 0.9833564493758669\n"
          ],
          "name": "stdout"
        }
      ]
    },
    {
      "cell_type": "markdown",
      "metadata": {
        "id": "UMb3MK7vM2N4"
      },
      "source": [
        "Based on the training and testing scores above, it is indicated that the polynomial kernel with degree 1 is having the highest training and testing accuracy."
      ]
    },
    {
      "cell_type": "markdown",
      "metadata": {
        "id": "jx3lWeojwRJP"
      },
      "source": [
        "# 2.3 b) Gaussian Kernel"
      ]
    },
    {
      "cell_type": "code",
      "metadata": {
        "id": "p0mSebIaEUuK",
        "colab": {
          "base_uri": "https://localhost:8080/"
        },
        "outputId": "88ec5123-47dc-4e9e-98f5-5dec7ba7acf5"
      },
      "source": [
        "from sklearn.svm import SVC\n",
        "gamma = [0.001, 0.01,1]\n",
        "for g in gamma:\n",
        "  model_gamma = SVC(kernel='rbf', gamma=g, C=0.1)\n",
        "  model_gamma.fit(train_X,train_y)\n",
        "  print(\"\\nThe testing accuracy with gamma:{}:\".format(g), model_gamma.score(train_X,train_y))\n",
        "  print(\"\\nThe training accuracy with gamma:{}:\".format(g), model_gamma.score(test_X,test_y))"
      ],
      "execution_count": null,
      "outputs": [
        {
          "output_type": "stream",
          "text": [
            "\n",
            "The testing accuracy with gamma:0.001: 0.9864688244791266\n",
            "\n",
            "The training accuracy with gamma:0.001: 0.9805825242718447\n",
            "\n",
            "The testing accuracy with gamma:0.01: 0.9943876374260013\n",
            "\n",
            "The training accuracy with gamma:0.01: 0.9907535829865927\n",
            "\n",
            "The testing accuracy with gamma:1: 0.5183362804643653\n",
            "\n",
            "The training accuracy with gamma:1: 0.5247341655108645\n"
          ],
          "name": "stdout"
        }
      ]
    },
    {
      "cell_type": "markdown",
      "metadata": {
        "id": "5E4OHPmlNku8"
      },
      "source": [
        "The gaussian kernel with gamma 0.01 is having the highest training and testing accuracy scores. "
      ]
    },
    {
      "cell_type": "markdown",
      "metadata": {
        "id": "K0MnQ3UZwF1c"
      },
      "source": [
        "# 2.3 c) Linear kernel"
      ]
    },
    {
      "cell_type": "code",
      "metadata": {
        "id": "38hIWHpolFo1",
        "colab": {
          "base_uri": "https://localhost:8080/"
        },
        "outputId": "be97f2ed-bdff-43e8-ac64-8f2a8d5b5aaf"
      },
      "source": [
        "model=SVC(kernel= 'linear', C = 0.1)\n",
        "model.fit(train_X,train_y)"
      ],
      "execution_count": null,
      "outputs": [
        {
          "output_type": "execute_result",
          "data": {
            "text/plain": [
              "SVC(C=0.1, break_ties=False, cache_size=200, class_weight=None, coef0=0.0,\n",
              "    decision_function_shape='ovr', degree=3, gamma='scale', kernel='linear',\n",
              "    max_iter=-1, probability=False, random_state=None, shrinking=True,\n",
              "    tol=0.001, verbose=False)"
            ]
          },
          "metadata": {
            "tags": []
          },
          "execution_count": 7
        }
      ]
    },
    {
      "cell_type": "code",
      "metadata": {
        "id": "UzPvaOXplV3E",
        "colab": {
          "base_uri": "https://localhost:8080/"
        },
        "outputId": "0f0ea174-7ff8-4ba2-c5a3-aa5ef5c99023"
      },
      "source": [
        "y_pred = model.predict(test_X)\n",
        "#test accuracy score\n",
        "accuracy_score(test_y, y_pred)"
      ],
      "execution_count": null,
      "outputs": [
        {
          "output_type": "execute_result",
          "data": {
            "text/plain": [
              "0.9944521497919556"
            ]
          },
          "metadata": {
            "tags": []
          },
          "execution_count": 8
        }
      ]
    },
    {
      "cell_type": "code",
      "metadata": {
        "id": "lq5MO58FlT2Y",
        "colab": {
          "base_uri": "https://localhost:8080/"
        },
        "outputId": "4d9aed72-2b10-4e01-d7d2-af3d6e727ecc"
      },
      "source": [
        "#train accuracy score\n",
        "y_pred_train = model.predict(train_X)\n",
        "accuracy_score(train_y, y_pred_train)"
      ],
      "execution_count": null,
      "outputs": [
        {
          "output_type": "execute_result",
          "data": {
            "text/plain": [
              "0.9977704313062197"
            ]
          },
          "metadata": {
            "tags": []
          },
          "execution_count": 9
        }
      ]
    },
    {
      "cell_type": "markdown",
      "metadata": {
        "id": "Oq8laxpnhYkW"
      },
      "source": [
        "Based on the comparison between the best polynomial kernel, gaussian kernel and linear kernel soft margin classifiers, the linear classifier is performing the best with 99.4% testing accuracy and 99.77% training accuracy."
      ]
    },
    {
      "cell_type": "markdown",
      "metadata": {
        "id": "zbaQ06hswdxt"
      },
      "source": [
        "# 2.4 AVA"
      ]
    },
    {
      "cell_type": "code",
      "metadata": {
        "id": "s1lHIQ7wEJBZ",
        "colab": {
          "base_uri": "https://localhost:8080/"
        },
        "outputId": "8c51689d-5502-4c42-ca6d-07b1b750bda4"
      },
      "source": [
        "from keras.datasets import mnist\n",
        "(train_X, train_y), (test_X, test_y) = mnist.load_data()\n",
        "unique_label = np.unique(train_y)\n"
      ],
      "execution_count": null,
      "outputs": [
        {
          "output_type": "stream",
          "text": [
            "Downloading data from https://storage.googleapis.com/tensorflow/tf-keras-datasets/mnist.npz\n",
            "11493376/11490434 [==============================] - 0s 0us/step\n",
            "11501568/11490434 [==============================] - 0s 0us/step\n"
          ],
          "name": "stdout"
        }
      ]
    },
    {
      "cell_type": "code",
      "metadata": {
        "colab": {
          "base_uri": "https://localhost:8080/"
        },
        "id": "itLtWJVPj5sE",
        "outputId": "9495802d-9805-4050-bbea-619e26391a0f"
      },
      "source": [
        "unique_label"
      ],
      "execution_count": null,
      "outputs": [
        {
          "output_type": "execute_result",
          "data": {
            "text/plain": [
              "array([0, 1, 2, 3, 4, 5, 6, 7, 8, 9], dtype=uint8)"
            ]
          },
          "metadata": {
            "tags": []
          },
          "execution_count": 3
        }
      ]
    },
    {
      "cell_type": "code",
      "metadata": {
        "id": "h8HeIeumFS5l"
      },
      "source": [
        "# data preprocessing\n",
        "train_X = train_X.reshape(train_X.shape[0], 28*28)\n",
        "test_X = test_X.reshape(test_X.shape[0], 28*28)\n",
        "train_X = train_X / 255\n",
        "test_X = test_X / 255"
      ],
      "execution_count": null,
      "outputs": []
    },
    {
      "cell_type": "code",
      "metadata": {
        "id": "DYeu-BlGEy9V"
      },
      "source": [
        "# creating a second class list\n",
        "second_class_list = unique_label"
      ],
      "execution_count": null,
      "outputs": []
    },
    {
      "cell_type": "code",
      "metadata": {
        "id": "58yOuxTcJc1x"
      },
      "source": [
        "# data from to store the accuracy scores corresponding to the classes being considered by the classifier model\n",
        "df = pd.DataFrame(columns=['Class_1','Class_2','Training_Accuracy_Score','Test_Accuracy_Score'])"
      ],
      "execution_count": null,
      "outputs": []
    },
    {
      "cell_type": "code",
      "metadata": {
        "id": "7e78qyh8u52f"
      },
      "source": [
        "for first_class in unique_label:\n",
        "  first_class_list=np.array([first_class])\n",
        "  # subtracting the class being considered from the second class list\n",
        "     # this is done to ensure that two classes being considered are not same\n",
        "  second_class_list = np.setdiff1d(second_class_list,first_class_list)\n",
        "  for second_class in second_class_list:\n",
        "      train_filter = np.where((train_y==second_class) | (train_y == first_class ))[0]\n",
        "      test_filter = np.where((test_y ==second_class) | (test_y == first_class ))[0]\n",
        "      train_XX, train_yy = train_X[train_filter], train_y[train_filter]\n",
        "      test_XX, test_yy = test_X[test_filter], test_y[test_filter]\n",
        "      clf_AVA = SVC(kernel='linear', C =0.1)\n",
        "      clf_AVA.fit(train_XX, train_yy)\n",
        "      train_score = clf_AVA.score(train_XX, train_yy)\n",
        "      test_score  = clf_AVA.score(test_XX, test_yy) \n",
        "      df = df.append({'Class_1': first_class, 'Class_2': second_class, 'Training_Accuracy_Score':train_score, 'Test_Accuracy_Score':test_score}, ignore_index=True)\n"
      ],
      "execution_count": null,
      "outputs": []
    },
    {
      "cell_type": "code",
      "metadata": {
        "colab": {
          "base_uri": "https://localhost:8080/",
          "height": 1000
        },
        "id": "KUpZ5TFSQpQI",
        "outputId": "6f6bec4c-8180-4a41-80e5-28b185cf0a72"
      },
      "source": [
        "df[['Class_1','Class_2','Training_Accuracy_Score','Test_Accuracy_Score']].head(45)"
      ],
      "execution_count": null,
      "outputs": [
        {
          "output_type": "execute_result",
          "data": {
            "text/html": [
              "<div>\n",
              "<style scoped>\n",
              "    .dataframe tbody tr th:only-of-type {\n",
              "        vertical-align: middle;\n",
              "    }\n",
              "\n",
              "    .dataframe tbody tr th {\n",
              "        vertical-align: top;\n",
              "    }\n",
              "\n",
              "    .dataframe thead th {\n",
              "        text-align: right;\n",
              "    }\n",
              "</style>\n",
              "<table border=\"1\" class=\"dataframe\">\n",
              "  <thead>\n",
              "    <tr style=\"text-align: right;\">\n",
              "      <th></th>\n",
              "      <th>Class_1</th>\n",
              "      <th>Class_2</th>\n",
              "      <th>Training_Accuracy_Score</th>\n",
              "      <th>Test_Accuracy_Score</th>\n",
              "    </tr>\n",
              "  </thead>\n",
              "  <tbody>\n",
              "    <tr>\n",
              "      <th>0</th>\n",
              "      <td>0.0</td>\n",
              "      <td>1.0</td>\n",
              "      <td>0.999842</td>\n",
              "      <td>0.999054</td>\n",
              "    </tr>\n",
              "    <tr>\n",
              "      <th>1</th>\n",
              "      <td>0.0</td>\n",
              "      <td>2.0</td>\n",
              "      <td>0.995371</td>\n",
              "      <td>0.992048</td>\n",
              "    </tr>\n",
              "    <tr>\n",
              "      <th>2</th>\n",
              "      <td>0.0</td>\n",
              "      <td>3.0</td>\n",
              "      <td>0.997428</td>\n",
              "      <td>0.997487</td>\n",
              "    </tr>\n",
              "    <tr>\n",
              "      <th>3</th>\n",
              "      <td>0.0</td>\n",
              "      <td>4.0</td>\n",
              "      <td>0.998300</td>\n",
              "      <td>0.998471</td>\n",
              "    </tr>\n",
              "    <tr>\n",
              "      <th>4</th>\n",
              "      <td>0.0</td>\n",
              "      <td>5.0</td>\n",
              "      <td>0.991714</td>\n",
              "      <td>0.990919</td>\n",
              "    </tr>\n",
              "    <tr>\n",
              "      <th>5</th>\n",
              "      <td>0.0</td>\n",
              "      <td>6.0</td>\n",
              "      <td>0.995524</td>\n",
              "      <td>0.990196</td>\n",
              "    </tr>\n",
              "    <tr>\n",
              "      <th>6</th>\n",
              "      <td>0.0</td>\n",
              "      <td>7.0</td>\n",
              "      <td>0.999344</td>\n",
              "      <td>0.996016</td>\n",
              "    </tr>\n",
              "    <tr>\n",
              "      <th>7</th>\n",
              "      <td>0.0</td>\n",
              "      <td>8.0</td>\n",
              "      <td>0.996433</td>\n",
              "      <td>0.992323</td>\n",
              "    </tr>\n",
              "    <tr>\n",
              "      <th>8</th>\n",
              "      <td>0.0</td>\n",
              "      <td>9.0</td>\n",
              "      <td>0.997726</td>\n",
              "      <td>0.993464</td>\n",
              "    </tr>\n",
              "    <tr>\n",
              "      <th>9</th>\n",
              "      <td>1.0</td>\n",
              "      <td>2.0</td>\n",
              "      <td>0.995669</td>\n",
              "      <td>0.994462</td>\n",
              "    </tr>\n",
              "    <tr>\n",
              "      <th>10</th>\n",
              "      <td>1.0</td>\n",
              "      <td>3.0</td>\n",
              "      <td>0.996194</td>\n",
              "      <td>0.997203</td>\n",
              "    </tr>\n",
              "    <tr>\n",
              "      <th>11</th>\n",
              "      <td>1.0</td>\n",
              "      <td>4.0</td>\n",
              "      <td>0.998172</td>\n",
              "      <td>0.999055</td>\n",
              "    </tr>\n",
              "    <tr>\n",
              "      <th>12</th>\n",
              "      <td>1.0</td>\n",
              "      <td>5.0</td>\n",
              "      <td>0.998602</td>\n",
              "      <td>0.995560</td>\n",
              "    </tr>\n",
              "    <tr>\n",
              "      <th>13</th>\n",
              "      <td>1.0</td>\n",
              "      <td>6.0</td>\n",
              "      <td>0.999605</td>\n",
              "      <td>0.997611</td>\n",
              "    </tr>\n",
              "    <tr>\n",
              "      <th>14</th>\n",
              "      <td>1.0</td>\n",
              "      <td>7.0</td>\n",
              "      <td>0.997770</td>\n",
              "      <td>0.994452</td>\n",
              "    </tr>\n",
              "    <tr>\n",
              "      <th>15</th>\n",
              "      <td>1.0</td>\n",
              "      <td>8.0</td>\n",
              "      <td>0.989359</td>\n",
              "      <td>0.991465</td>\n",
              "    </tr>\n",
              "    <tr>\n",
              "      <th>16</th>\n",
              "      <td>1.0</td>\n",
              "      <td>9.0</td>\n",
              "      <td>0.997873</td>\n",
              "      <td>0.996269</td>\n",
              "    </tr>\n",
              "    <tr>\n",
              "      <th>17</th>\n",
              "      <td>2.0</td>\n",
              "      <td>3.0</td>\n",
              "      <td>0.980809</td>\n",
              "      <td>0.978452</td>\n",
              "    </tr>\n",
              "    <tr>\n",
              "      <th>18</th>\n",
              "      <td>2.0</td>\n",
              "      <td>4.0</td>\n",
              "      <td>0.992034</td>\n",
              "      <td>0.985104</td>\n",
              "    </tr>\n",
              "    <tr>\n",
              "      <th>19</th>\n",
              "      <td>2.0</td>\n",
              "      <td>5.0</td>\n",
              "      <td>0.987609</td>\n",
              "      <td>0.985447</td>\n",
              "    </tr>\n",
              "    <tr>\n",
              "      <th>20</th>\n",
              "      <td>2.0</td>\n",
              "      <td>6.0</td>\n",
              "      <td>0.991327</td>\n",
              "      <td>0.984925</td>\n",
              "    </tr>\n",
              "    <tr>\n",
              "      <th>21</th>\n",
              "      <td>2.0</td>\n",
              "      <td>7.0</td>\n",
              "      <td>0.992719</td>\n",
              "      <td>0.981068</td>\n",
              "    </tr>\n",
              "    <tr>\n",
              "      <th>22</th>\n",
              "      <td>2.0</td>\n",
              "      <td>8.0</td>\n",
              "      <td>0.982640</td>\n",
              "      <td>0.981057</td>\n",
              "    </tr>\n",
              "    <tr>\n",
              "      <th>23</th>\n",
              "      <td>2.0</td>\n",
              "      <td>9.0</td>\n",
              "      <td>0.995045</td>\n",
              "      <td>0.988731</td>\n",
              "    </tr>\n",
              "    <tr>\n",
              "      <th>24</th>\n",
              "      <td>3.0</td>\n",
              "      <td>4.0</td>\n",
              "      <td>0.997578</td>\n",
              "      <td>0.996988</td>\n",
              "    </tr>\n",
              "    <tr>\n",
              "      <th>25</th>\n",
              "      <td>3.0</td>\n",
              "      <td>5.0</td>\n",
              "      <td>0.969616</td>\n",
              "      <td>0.968454</td>\n",
              "    </tr>\n",
              "    <tr>\n",
              "      <th>26</th>\n",
              "      <td>3.0</td>\n",
              "      <td>6.0</td>\n",
              "      <td>0.999087</td>\n",
              "      <td>0.994411</td>\n",
              "    </tr>\n",
              "    <tr>\n",
              "      <th>27</th>\n",
              "      <td>3.0</td>\n",
              "      <td>7.0</td>\n",
              "      <td>0.993385</td>\n",
              "      <td>0.983317</td>\n",
              "    </tr>\n",
              "    <tr>\n",
              "      <th>28</th>\n",
              "      <td>3.0</td>\n",
              "      <td>8.0</td>\n",
              "      <td>0.976465</td>\n",
              "      <td>0.970766</td>\n",
              "    </tr>\n",
              "    <tr>\n",
              "      <th>29</th>\n",
              "      <td>3.0</td>\n",
              "      <td>9.0</td>\n",
              "      <td>0.990811</td>\n",
              "      <td>0.987122</td>\n",
              "    </tr>\n",
              "    <tr>\n",
              "      <th>30</th>\n",
              "      <td>4.0</td>\n",
              "      <td>5.0</td>\n",
              "      <td>0.994495</td>\n",
              "      <td>0.994130</td>\n",
              "    </tr>\n",
              "    <tr>\n",
              "      <th>31</th>\n",
              "      <td>4.0</td>\n",
              "      <td>6.0</td>\n",
              "      <td>0.996003</td>\n",
              "      <td>0.992784</td>\n",
              "    </tr>\n",
              "    <tr>\n",
              "      <th>32</th>\n",
              "      <td>4.0</td>\n",
              "      <td>7.0</td>\n",
              "      <td>0.994136</td>\n",
              "      <td>0.991045</td>\n",
              "    </tr>\n",
              "    <tr>\n",
              "      <th>33</th>\n",
              "      <td>4.0</td>\n",
              "      <td>8.0</td>\n",
              "      <td>0.996579</td>\n",
              "      <td>0.992843</td>\n",
              "    </tr>\n",
              "    <tr>\n",
              "      <th>34</th>\n",
              "      <td>4.0</td>\n",
              "      <td>9.0</td>\n",
              "      <td>0.976508</td>\n",
              "      <td>0.970367</td>\n",
              "    </tr>\n",
              "    <tr>\n",
              "      <th>35</th>\n",
              "      <td>5.0</td>\n",
              "      <td>6.0</td>\n",
              "      <td>0.988800</td>\n",
              "      <td>0.978919</td>\n",
              "    </tr>\n",
              "    <tr>\n",
              "      <th>36</th>\n",
              "      <td>5.0</td>\n",
              "      <td>7.0</td>\n",
              "      <td>0.997262</td>\n",
              "      <td>0.991146</td>\n",
              "    </tr>\n",
              "    <tr>\n",
              "      <th>37</th>\n",
              "      <td>5.0</td>\n",
              "      <td>8.0</td>\n",
              "      <td>0.972764</td>\n",
              "      <td>0.961415</td>\n",
              "    </tr>\n",
              "    <tr>\n",
              "      <th>38</th>\n",
              "      <td>5.0</td>\n",
              "      <td>9.0</td>\n",
              "      <td>0.992260</td>\n",
              "      <td>0.988427</td>\n",
              "    </tr>\n",
              "    <tr>\n",
              "      <th>39</th>\n",
              "      <td>6.0</td>\n",
              "      <td>7.0</td>\n",
              "      <td>0.999918</td>\n",
              "      <td>0.997986</td>\n",
              "    </tr>\n",
              "    <tr>\n",
              "      <th>40</th>\n",
              "      <td>6.0</td>\n",
              "      <td>8.0</td>\n",
              "      <td>0.995157</td>\n",
              "      <td>0.991718</td>\n",
              "    </tr>\n",
              "    <tr>\n",
              "      <th>41</th>\n",
              "      <td>6.0</td>\n",
              "      <td>9.0</td>\n",
              "      <td>0.999663</td>\n",
              "      <td>0.996950</td>\n",
              "    </tr>\n",
              "    <tr>\n",
              "      <th>42</th>\n",
              "      <td>7.0</td>\n",
              "      <td>8.0</td>\n",
              "      <td>0.996699</td>\n",
              "      <td>0.989510</td>\n",
              "    </tr>\n",
              "    <tr>\n",
              "      <th>43</th>\n",
              "      <td>7.0</td>\n",
              "      <td>9.0</td>\n",
              "      <td>0.970362</td>\n",
              "      <td>0.971527</td>\n",
              "    </tr>\n",
              "    <tr>\n",
              "      <th>44</th>\n",
              "      <td>8.0</td>\n",
              "      <td>9.0</td>\n",
              "      <td>0.990593</td>\n",
              "      <td>0.980333</td>\n",
              "    </tr>\n",
              "  </tbody>\n",
              "</table>\n",
              "</div>"
            ],
            "text/plain": [
              "    Class_1  Class_2  Training_Accuracy_Score  Test_Accuracy_Score\n",
              "0       0.0      1.0                 0.999842             0.999054\n",
              "1       0.0      2.0                 0.995371             0.992048\n",
              "2       0.0      3.0                 0.997428             0.997487\n",
              "3       0.0      4.0                 0.998300             0.998471\n",
              "4       0.0      5.0                 0.991714             0.990919\n",
              "5       0.0      6.0                 0.995524             0.990196\n",
              "6       0.0      7.0                 0.999344             0.996016\n",
              "7       0.0      8.0                 0.996433             0.992323\n",
              "8       0.0      9.0                 0.997726             0.993464\n",
              "9       1.0      2.0                 0.995669             0.994462\n",
              "10      1.0      3.0                 0.996194             0.997203\n",
              "11      1.0      4.0                 0.998172             0.999055\n",
              "12      1.0      5.0                 0.998602             0.995560\n",
              "13      1.0      6.0                 0.999605             0.997611\n",
              "14      1.0      7.0                 0.997770             0.994452\n",
              "15      1.0      8.0                 0.989359             0.991465\n",
              "16      1.0      9.0                 0.997873             0.996269\n",
              "17      2.0      3.0                 0.980809             0.978452\n",
              "18      2.0      4.0                 0.992034             0.985104\n",
              "19      2.0      5.0                 0.987609             0.985447\n",
              "20      2.0      6.0                 0.991327             0.984925\n",
              "21      2.0      7.0                 0.992719             0.981068\n",
              "22      2.0      8.0                 0.982640             0.981057\n",
              "23      2.0      9.0                 0.995045             0.988731\n",
              "24      3.0      4.0                 0.997578             0.996988\n",
              "25      3.0      5.0                 0.969616             0.968454\n",
              "26      3.0      6.0                 0.999087             0.994411\n",
              "27      3.0      7.0                 0.993385             0.983317\n",
              "28      3.0      8.0                 0.976465             0.970766\n",
              "29      3.0      9.0                 0.990811             0.987122\n",
              "30      4.0      5.0                 0.994495             0.994130\n",
              "31      4.0      6.0                 0.996003             0.992784\n",
              "32      4.0      7.0                 0.994136             0.991045\n",
              "33      4.0      8.0                 0.996579             0.992843\n",
              "34      4.0      9.0                 0.976508             0.970367\n",
              "35      5.0      6.0                 0.988800             0.978919\n",
              "36      5.0      7.0                 0.997262             0.991146\n",
              "37      5.0      8.0                 0.972764             0.961415\n",
              "38      5.0      9.0                 0.992260             0.988427\n",
              "39      6.0      7.0                 0.999918             0.997986\n",
              "40      6.0      8.0                 0.995157             0.991718\n",
              "41      6.0      9.0                 0.999663             0.996950\n",
              "42      7.0      8.0                 0.996699             0.989510\n",
              "43      7.0      9.0                 0.970362             0.971527\n",
              "44      8.0      9.0                 0.990593             0.980333"
            ]
          },
          "metadata": {
            "tags": []
          },
          "execution_count": 8
        }
      ]
    },
    {
      "cell_type": "markdown",
      "metadata": {
        "id": "FcVboAJeiYPn"
      },
      "source": [
        "Heatmap showing the training accuracy scores of the 45 classifiers"
      ]
    },
    {
      "cell_type": "code",
      "metadata": {
        "colab": {
          "base_uri": "https://localhost:8080/",
          "height": 606
        },
        "id": "-a04HIS-PBqA",
        "outputId": "fd84140d-6278-49b6-9ca0-2e2c98fa7e95"
      },
      "source": [
        "training_subset = df.pivot(\"Class_1\",\"Class_2\",\"Training_Accuracy_Score\")\n",
        "plt.figure(figsize=(12, 10))\n",
        "sns.heatmap(training_subset, ax = plt.axes(), annot=True)\n",
        "ax.set_title('Heatmap of Training Accuracy Score of the 45 classifiers')\n",
        "plt.show()"
      ],
      "execution_count": null,
      "outputs": [
        {
          "output_type": "display_data",
          "data": {
            "image/png": "[encoded data removed]",
            "text/plain": [
              "<Figure size 864x720 with 2 Axes>"
            ]
          },
          "metadata": {
            "tags": [],
            "needs_background": "light"
          }
        }
      ]
    },
    {
      "cell_type": "markdown",
      "metadata": {
        "id": "8ehba6QnifEM"
      },
      "source": [
        "Heatmap showing the testing accuracy scores of the 45 classifiers"
      ]
    },
    {
      "cell_type": "code",
      "metadata": {
        "colab": {
          "base_uri": "https://localhost:8080/",
          "height": 622
        },
        "id": "TAgzfFMgPlI0",
        "outputId": "5922c1d1-1bc6-4bf3-e85b-7ceb3ca3ffb8"
      },
      "source": [
        "testing_subset = df.pivot(\"Class_1\",\"Class_2\",\"Test_Accuracy_Score\")\n",
        "plt.figure(figsize=(12, 10))\n",
        "ax = plt.axes()\n",
        "sns.heatmap(testing_subset, ax = ax, annot=True)\n",
        "ax.set_title('Heatmap of Testing Accuracy Score of the 45 classifiers')\n",
        "plt.show()"
      ],
      "execution_count": null,
      "outputs": [
        {
          "output_type": "display_data",
          "data": {
            "image/png": "[encoded data removed]",
            "text/plain": [
              "<Figure size 864x720 with 2 Axes>"
            ]
          },
          "metadata": {
            "tags": [],
            "needs_background": "light"
          }
        }
      ]
    }
  ]
}