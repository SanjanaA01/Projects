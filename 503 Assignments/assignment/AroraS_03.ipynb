{
  "nbformat": 4,
  "nbformat_minor": 0,
  "metadata": {
    "colab": {
      "name": "AroraS_03.ipynb",
      "provenance": [],
      "collapsed_sections": []
    },
    "kernelspec": {
      "name": "python3",
      "display_name": "Python 3"
    },
    "language_info": {
      "name": "python"
    }
  },
  "cells": [
    {
      "cell_type": "markdown",
      "metadata": {
        "id": "zcvHlQLPDd9A"
      },
      "source": [
        "**Bonus Question 3**\n",
        "Student : Arora, Sanjana (V00966221)"
      ]
    },
    {
      "cell_type": "code",
      "metadata": {
        "id": "qr2vysoSGULN"
      },
      "source": [
        "import pandas as pd\n",
        "import numpy as np\n",
        "import matplotlib.pyplot as plt\n",
        "import seaborn as sns"
      ],
      "execution_count": 108,
      "outputs": []
    },
    {
      "cell_type": "markdown",
      "metadata": {
        "id": "1s24t-oWOtny"
      },
      "source": [
        "**The below mentioned codes are repeated from solution for question 2 untill futher text**\n",
        "\n",
        "Please upload the election_clean file as provided in zipped folder"
      ]
    },
    {
      "cell_type": "code",
      "metadata": {
        "id": "seSSNdIKNrmW"
      },
      "source": [
        "df = pd.read_csv('elections_clean.csv')"
      ],
      "execution_count": 109,
      "outputs": []
    },
    {
      "cell_type": "code",
      "metadata": {
        "colab": {
          "base_uri": "https://localhost:8080/"
        },
        "id": "eXEUAmndNus1",
        "outputId": "50d3920b-01cd-4363-bd0e-d1b92d5ef888"
      },
      "source": [
        "df.columns"
      ],
      "execution_count": 110,
      "outputs": [
        {
          "output_type": "execute_result",
          "data": {
            "text/plain": [
              "Index(['Unnamed: 0', 'votes', 'UnemploymentRate2015', 'MedHHInc2014',\n",
              "       'PerCapitaInc', 'PovertyAllAgesPct2014', 'Deep_Pov_All', 'Population',\n",
              "       'Area in square miles - Total area', 'PopDensity', 'TOT_MALE_rate',\n",
              "       'TOT_FEMALE_rate', 'voter_turnout_rate', 'Democrat', 'State', 'County',\n",
              "       'Education', 'Religion', 'Old', 'Young', 'Adult', 'EthnicMale',\n",
              "       'EthnicFemale'],\n",
              "      dtype='object')"
            ]
          },
          "metadata": {
            "tags": []
          },
          "execution_count": 110
        }
      ]
    },
    {
      "cell_type": "code",
      "metadata": {
        "id": "AeJQ14m6Nx36"
      },
      "source": [
        "subset = df[['Education', 'Religion', 'EthnicMale', 'EthnicFemale', 'Democrat']].copy()"
      ],
      "execution_count": 111,
      "outputs": []
    },
    {
      "cell_type": "code",
      "metadata": {
        "colab": {
          "base_uri": "https://localhost:8080/"
        },
        "id": "RSVirxCzNz2b",
        "outputId": "362a09c8-912a-4e25-8984-5ec038c66655"
      },
      "source": [
        "subset.columns"
      ],
      "execution_count": 112,
      "outputs": [
        {
          "output_type": "execute_result",
          "data": {
            "text/plain": [
              "Index(['Education', 'Religion', 'EthnicMale', 'EthnicFemale', 'Democrat'], dtype='object')"
            ]
          },
          "metadata": {
            "tags": []
          },
          "execution_count": 112
        }
      ]
    },
    {
      "cell_type": "code",
      "metadata": {
        "colab": {
          "base_uri": "https://localhost:8080/",
          "height": 204
        },
        "id": "uSCfjvDMN1pS",
        "outputId": "a888bf7c-e4c4-47e5-fc54-89a6ed7509f2"
      },
      "source": [
        "subset.head()"
      ],
      "execution_count": 113,
      "outputs": [
        {
          "output_type": "execute_result",
          "data": {
            "text/html": [
              "<div>\n",
              "<style scoped>\n",
              "    .dataframe tbody tr th:only-of-type {\n",
              "        vertical-align: middle;\n",
              "    }\n",
              "\n",
              "    .dataframe tbody tr th {\n",
              "        vertical-align: top;\n",
              "    }\n",
              "\n",
              "    .dataframe thead th {\n",
              "        text-align: right;\n",
              "    }\n",
              "</style>\n",
              "<table border=\"1\" class=\"dataframe\">\n",
              "  <thead>\n",
              "    <tr style=\"text-align: right;\">\n",
              "      <th></th>\n",
              "      <th>Education</th>\n",
              "      <th>Religion</th>\n",
              "      <th>EthnicMale</th>\n",
              "      <th>EthnicFemale</th>\n",
              "      <th>Democrat</th>\n",
              "    </tr>\n",
              "  </thead>\n",
              "  <tbody>\n",
              "    <tr>\n",
              "      <th>0</th>\n",
              "      <td>OnlyDiploma</td>\n",
              "      <td>Other Misc</td>\n",
              "      <td>WHITE_MALE_rate</td>\n",
              "      <td>WHITE_FEMALE_rate</td>\n",
              "      <td>0</td>\n",
              "    </tr>\n",
              "    <tr>\n",
              "      <th>1</th>\n",
              "      <td>OnlyDiploma</td>\n",
              "      <td>Catholic</td>\n",
              "      <td>WHITE_MALE_rate</td>\n",
              "      <td>WHITE_FEMALE_rate</td>\n",
              "      <td>0</td>\n",
              "    </tr>\n",
              "    <tr>\n",
              "      <th>2</th>\n",
              "      <td>College</td>\n",
              "      <td>Christian Generic</td>\n",
              "      <td>WHITE_MALE_rate</td>\n",
              "      <td>WHITE_FEMALE_rate</td>\n",
              "      <td>0</td>\n",
              "    </tr>\n",
              "    <tr>\n",
              "      <th>3</th>\n",
              "      <td>OnlyDiploma</td>\n",
              "      <td>Catholic</td>\n",
              "      <td>WHITE_MALE_rate</td>\n",
              "      <td>WHITE_FEMALE_rate</td>\n",
              "      <td>0</td>\n",
              "    </tr>\n",
              "    <tr>\n",
              "      <th>4</th>\n",
              "      <td>College</td>\n",
              "      <td>Catholic</td>\n",
              "      <td>WHITE_MALE_rate</td>\n",
              "      <td>WHITE_FEMALE_rate</td>\n",
              "      <td>0</td>\n",
              "    </tr>\n",
              "  </tbody>\n",
              "</table>\n",
              "</div>"
            ],
            "text/plain": [
              "     Education           Religion       EthnicMale       EthnicFemale  Democrat\n",
              "0  OnlyDiploma         Other Misc  WHITE_MALE_rate  WHITE_FEMALE_rate         0\n",
              "1  OnlyDiploma           Catholic  WHITE_MALE_rate  WHITE_FEMALE_rate         0\n",
              "2      College  Christian Generic  WHITE_MALE_rate  WHITE_FEMALE_rate         0\n",
              "3  OnlyDiploma           Catholic  WHITE_MALE_rate  WHITE_FEMALE_rate         0\n",
              "4      College           Catholic  WHITE_MALE_rate  WHITE_FEMALE_rate         0"
            ]
          },
          "metadata": {
            "tags": []
          },
          "execution_count": 113
        }
      ]
    },
    {
      "cell_type": "code",
      "metadata": {
        "id": "xWxcEjIeN39i"
      },
      "source": [
        "#Calculating the entropy\n",
        "\n",
        "def entropy(Y): # Y is the Target Columns\n",
        "  values, counts = np.unique(Y,return_counts = True)\n",
        "  for i in range(len(values)):\n",
        "    prob = counts[i]/np.sum(counts) # calculating the probability\n",
        "    h = np.sum(-(prob)*np.log2(prob))\n",
        "  return h"
      ],
      "execution_count": 114,
      "outputs": []
    },
    {
      "cell_type": "code",
      "metadata": {
        "id": "3B2yk9P0N5-e"
      },
      "source": [
        "#Calculating the Information Gain\n",
        "def InfoGain(dataset,split_feature_name, Y):\n",
        "  total_h = entropy(dataset[Y]) \n",
        "  values, counts = np.unique(dataset[split_feature_name],return_counts = True)\n",
        "  weighted_h = 0\n",
        "  for i in range(len(values)):\n",
        "    prob = counts[i]/np.sum(counts)\n",
        "    feature = dataset.where(dataset[split_feature_name]==values[i]).dropna()[Y]\n",
        "    h = entropy(feature)\n",
        "    weighted_h = weighted_h + prob*h\n",
        "  IG = total_h - weighted_h\n",
        "  return IG"
      ],
      "execution_count": 115,
      "outputs": []
    },
    {
      "cell_type": "code",
      "metadata": {
        "id": "kZU4g3Oer698"
      },
      "source": [
        "def DecisionClassifier(dataset,originaldata,features,Y,depth=20,filter_node_class = None,height=-1, length=[], feat=[]):\n",
        "      \n",
        "      #Storing and Adding the length of the tree\n",
        "      height=height\n",
        "      length.append(height)\n",
        "      \n",
        "      # Checking if all target values have same values left\n",
        "      if (len(np.unique(dataset[Y])) <= 1):\n",
        "          \n",
        "          return np.unique(dataset[Y])[0], length, feat # return the value and length of the tree\n",
        "      \n",
        "      # if dataset has got empty\n",
        "      elif (len(dataset)==0 or height==depth) :\n",
        "        \n",
        "        # index of the mode target feature value in dataset\n",
        "        index = np.argmax(np.unique(originaldata[Y],return_counts=True)[1])\n",
        "        mode = np.unique(originaldata[Y])[index]\n",
        "        return mode, length,feat #returning the target feature value occuring maximum number of times in original dataset\n",
        "      \n",
        "      # if the number of features have got zero, returning the mode target feature value indicated by the parent node that called the DecisionClassifier recursion\n",
        "      elif (len(features) ==0):\n",
        "        return filter_node_class, length,feat\n",
        "      \n",
        "      \n",
        "      # if none of the conditions are true, growing the tree\n",
        "      else:\n",
        "        \n",
        "        # growing the tree\n",
        "        # assigning parent node class feature values as the selected target feature value having max. no. of occurrences\n",
        "          index = np.argmax(np.unique(dataset[Y],return_counts=True)[1])\n",
        "          filter_node_class  = np.unique(dataset[Y])[index]\n",
        "          \n",
        "         # selecting the feature which best splits the dataset \n",
        "          item_vals = [InfoGain(dataset,feature,Y) for feature in features]\n",
        "          \n",
        "          # best feature is the feature having maximum information gain about the target feature\n",
        "          best_featureindex = np.argmax(item_vals)\n",
        "          best_feature = features[best_featureindex]\n",
        "         \n",
        "          # tree structure\n",
        "          tree = {best_feature:{}}\n",
        "          feat.append(best_feature)\n",
        "          # iterating over all features except for the best feature\n",
        "          features = [i for i in features if i != best_feature]\n",
        "        # Adding the height as a feature is getting added to the decision stump\n",
        "          height+= 1\n",
        "          \n",
        "        \n",
        "          \n",
        "            #finding the dataset corresponding the best feature for further analysis\n",
        "          for vals in np.unique(dataset[best_feature]):\n",
        "              \n",
        "              sub_data = dataset.where(dataset[best_feature] == vals).dropna()  \n",
        "              subtree, length, feat = DecisionClassifier(sub_data,dataset,features,Y,depth,filter_node_class,height=height, length=length,feat=feat)\n",
        "            \n",
        "            \n",
        "            # adding subtree, under the grown tree\n",
        "              tree[best_feature][vals] = subtree\n",
        "          return tree, length, feat "
      ],
      "execution_count": 116,
      "outputs": []
    },
    {
      "cell_type": "code",
      "metadata": {
        "id": "12t0661LOBXL"
      },
      "source": [
        "def prediction(query,tree,default = 1):\n",
        "    for key in list(query.keys()):\n",
        "        #check for every key in the query, if the feature exists in the keys of the tree\n",
        "        if key in list(tree.keys()):\n",
        "            \n",
        "            try:\n",
        "                result = tree[key][query[key]] \n",
        "            except:\n",
        "              #if the feature does not exist return default value\n",
        "                return default\n",
        "  \n",
        "            \n",
        "            result = tree[key][query[key]]\n",
        "            \n",
        "            if isinstance(result,dict):\n",
        "                return prediction(query,result)\n",
        "\n",
        "            else:\n",
        "                return result"
      ],
      "execution_count": 117,
      "outputs": []
    },
    {
      "cell_type": "code",
      "metadata": {
        "id": "FcliU-Q0OESL"
      },
      "source": [
        "def error_calc(data,tree,target_attribute_name):\n",
        "    # generating new queries as dictionaries from the dataset that is devoid of the target feature\n",
        "    queries = data.iloc[:,:-1].to_dict(orient = \"records\")\n",
        "    \n",
        "    # dataframe capturing predicted target values\n",
        "    predicted = pd.DataFrame(columns=[\"predicted\"])  \n",
        "\n",
        "    #Calculate the prediction accuracy and error rates\n",
        "    for i in range(len(data)):\n",
        "        predicted.loc[i,\"predicted\"] = prediction(queries[i],tree,1)\n",
        "        # Calculate Mean Absolute Error\n",
        "    MAE = np.mean(np.square(predicted[\"predicted\"] - np.array(data[target_attribute_name])))\n",
        "    return MAE\n",
        "    # print('The prediction accuracy is: ',(np.sum(predicted[\"predicted\"] == data[target_attribute_name])/len(data))*100,'%')\n",
        "    # print('The Mean Absolute Error: ', np.mean(np.square(predicted[\"predicted\"] - np.array(data[target_attribute_name]))))"
      ],
      "execution_count": 118,
      "outputs": []
    },
    {
      "cell_type": "code",
      "metadata": {
        "id": "eeNwEZXDOHU8"
      },
      "source": [
        "def train_validation_split(dataset):\n",
        "    validation_split = .3\n",
        "    dataset_size = len(dataset)\n",
        "    split = int(np.floor(validation_split * dataset_size))\n",
        "    training_data = dataset.iloc[split:].reset_index(drop=True)\n",
        "    validation_data = dataset.iloc[:split].reset_index(drop=True)\n",
        "    return training_data,validation_data"
      ],
      "execution_count": 119,
      "outputs": []
    },
    {
      "cell_type": "code",
      "metadata": {
        "colab": {
          "base_uri": "https://localhost:8080/"
        },
        "id": "9Vmhnpb9OJRL",
        "outputId": "5da0cd24-51c8-459d-91a8-76caa2b420d1"
      },
      "source": [
        "subset = subset.sample(frac = 1)\n",
        "training_data = train_validation_split(subset)[0]\n",
        "validation_data = train_validation_split(subset)[1] \n",
        "print(training_data.shape,validation_data.shape )"
      ],
      "execution_count": 120,
      "outputs": [
        {
          "output_type": "stream",
          "text": [
            "(2202, 5) (943, 5)\n"
          ],
          "name": "stdout"
        }
      ]
    },
    {
      "cell_type": "markdown",
      "metadata": {
        "id": "JRy7dYNMO_2j"
      },
      "source": [
        "**Pre-prune the tree by specifying the depth of the tree during the ID3 function call**\n",
        "\n",
        "Since, the maximum depth observed during question 2 is 3, I am demonstrating the pre-pruning by specifying depth as 3, 2 and 1"
      ]
    },
    {
      "cell_type": "code",
      "metadata": {
        "colab": {
          "base_uri": "https://localhost:8080/"
        },
        "id": "aQ0HpIgrOMgW",
        "outputId": "15691155-2e7e-49a5-aa17-1045f3b687f8"
      },
      "source": [
        "tree3, length3, feat3 = DecisionClassifier(training_data,training_data,training_data.columns[:-1],'Democrat',depth = 3)\n",
        "import pprint\n",
        "pprint.pprint(tree3)\n",
        "print('The max depth of the tree is:', max(length3))"
      ],
      "execution_count": 121,
      "outputs": [
        {
          "output_type": "stream",
          "text": [
            "{'Education': {'BachelorOrHigher': {'Religion': {'Amish': 0.0,\n",
            "                                                 'Catholic': {'EthnicMale': {'ASIAN_MALE_rate': 1.0,\n",
            "                                                                             'BLACK_MALE_rate': 1.0,\n",
            "                                                                             'WHITE_MALE_rate': {'EthnicFemale': {'BLACK_FEMALE_rate': 1.0,\n",
            "                                                                                                                  'WHITE_FEMALE_rate': 1.0}}}},\n",
            "                                                 'Christian Generic': {'EthnicFemale': {'BLACK_FEMALE_rate': 1.0,\n",
            "                                                                                        'WHITE_FEMALE_rate': {'EthnicMale': {'WHITE_MALE_rate': 0.0}}}},\n",
            "                                                 'Mormon': 0.0,\n",
            "                                                 'Other': {'EthnicMale': {'WHITE_MALE_rate': {'EthnicFemale': {'WHITE_FEMALE_rate': 0.0}}}}}},\n",
            "               'College': {'EthnicFemale': {'BLACK_FEMALE_rate': 1.0,\n",
            "                                            'NATIVE_AMERICAN_FEMALE_rate': {'Religion': {'Catholic': {'EthnicMale': {'NATIVE_AMERICAN_MALE_rate': 1.0,\n",
            "                                                                                                                     'WHITE_MALE_rate': 0.0}},\n",
            "                                                                                         'Christian Generic': 0.0}},\n",
            "                                            'WHITE_FEMALE_rate': {'Religion': {'Catholic': {'EthnicMale': {'WHITE_MALE_rate': 0.0}},\n",
            "                                                                               'Christian Generic': {'EthnicMale': {'BLACK_MALE_rate': 0.0,\n",
            "                                                                                                                    'WHITE_MALE_rate': 0.0}},\n",
            "                                                                               'Mormon': 0.0,\n",
            "                                                                               'Other': 0.0}}}},\n",
            "               'LessthanDiploma': {'EthnicFemale': {'BLACK_FEMALE_rate': 1.0,\n",
            "                                                    'WHITE_FEMALE_rate': {'Religion': {'Catholic': {'EthnicMale': {'WHITE_MALE_rate': 1.0}},\n",
            "                                                                                       'Christian Generic': 0.0}}}},\n",
            "               'OnlyDiploma': {'EthnicFemale': {'BLACK_FEMALE_rate': {'EthnicMale': {'BLACK_MALE_rate': {'Religion': {'Catholic': 1.0,\n",
            "                                                                                                                      'Christian Generic': 1.0}},\n",
            "                                                                                     'WHITE_MALE_rate': {'Religion': {'Catholic': 1.0,\n",
            "                                                                                                                      'Christian Generic': 1.0}}}},\n",
            "                                                'NATIVE_AMERICAN_FEMALE_rate': {'Religion': {'Catholic': {'EthnicMale': {'NATIVE_AMERICAN_MALE_rate': 1.0}},\n",
            "                                                                                             'Christian Generic': 0.0}},\n",
            "                                                'WHITE_FEMALE_rate': {'Religion': {'Catholic': {'EthnicMale': {'WHITE_MALE_rate': 0.0}},\n",
            "                                                                                   'Christian Generic': {'EthnicMale': {'BLACK_MALE_rate': 0.0,\n",
            "                                                                                                                        'WHITE_MALE_rate': 0.0}},\n",
            "                                                                                   'Mormon': 0.0,\n",
            "                                                                                   'Other': 0.0,\n",
            "                                                                                   'Other Misc': 0.0}}}}}}\n",
            "The max depth of the tree is: 3\n"
          ],
          "name": "stdout"
        }
      ]
    },
    {
      "cell_type": "code",
      "metadata": {
        "id": "SL9MvoolOQF8",
        "colab": {
          "base_uri": "https://localhost:8080/"
        },
        "outputId": "01ec14e7-e1ae-4f3f-937f-85fda695e86e"
      },
      "source": [
        "# Training Error\n",
        "MAE3 = error_calc(training_data,tree3,'Democrat')\n",
        "print('The training error is:', MAE3)"
      ],
      "execution_count": 122,
      "outputs": [
        {
          "output_type": "stream",
          "text": [
            "The training error is: 0.09037238873751136\n"
          ],
          "name": "stdout"
        }
      ]
    },
    {
      "cell_type": "code",
      "metadata": {
        "id": "E4AJPexwORsz",
        "colab": {
          "base_uri": "https://localhost:8080/"
        },
        "outputId": "bfb485b4-65df-4291-bdea-dcdbfa39b8fc"
      },
      "source": [
        "# Validation Error\n",
        "MAE3_Test = error_calc(validation_data,tree3,'Democrat')\n",
        "print('The testing error is:', MAE3_Test)"
      ],
      "execution_count": 123,
      "outputs": [
        {
          "output_type": "stream",
          "text": [
            "The testing error is: 0.07741251325556733\n"
          ],
          "name": "stdout"
        }
      ]
    },
    {
      "cell_type": "markdown",
      "metadata": {
        "id": "qQknVxYBEX2e"
      },
      "source": [
        "**Inputting Depth as 5:**\n",
        "As the maximum depth of the tree is 3, as seen in below codes, the max depth output by the classifier is 3 and there is no change in error metrics. "
      ]
    },
    {
      "cell_type": "code",
      "metadata": {
        "colab": {
          "base_uri": "https://localhost:8080/"
        },
        "id": "dlXOqavKDygu",
        "outputId": "de6d7ba8-e747-4f27-8fe1-0df40d2f2bfc"
      },
      "source": [
        "tree5, length5, feat5 = DecisionClassifier(training_data,training_data,training_data.columns[:-1],'Democrat',depth = 5)\n",
        "print('The max depth of the tree is:', max(length5))"
      ],
      "execution_count": 124,
      "outputs": [
        {
          "output_type": "stream",
          "text": [
            "The max depth of the tree is: 3\n"
          ],
          "name": "stdout"
        }
      ]
    },
    {
      "cell_type": "code",
      "metadata": {
        "id": "HVMgfwSbEPEe",
        "colab": {
          "base_uri": "https://localhost:8080/"
        },
        "outputId": "fc6fc3e9-c1c8-4237-b95e-866098c868f5"
      },
      "source": [
        "# Training error with depth = 5\n",
        "MAE5 = error_calc(training_data,tree5,'Democrat')\n",
        "print('The training error is:', MAE5)"
      ],
      "execution_count": 125,
      "outputs": [
        {
          "output_type": "stream",
          "text": [
            "The training error is: 0.09037238873751136\n"
          ],
          "name": "stdout"
        }
      ]
    },
    {
      "cell_type": "code",
      "metadata": {
        "id": "55AlItP5GqC8",
        "colab": {
          "base_uri": "https://localhost:8080/"
        },
        "outputId": "2934b698-15a4-4a8a-d936-f1a91da34313"
      },
      "source": [
        "# Validation Error\n",
        "MAE5_Test = error_calc(validation_data,tree5,'Democrat')\n",
        "print('The testing error is:', MAE5_Test)"
      ],
      "execution_count": 126,
      "outputs": [
        {
          "output_type": "stream",
          "text": [
            "The testing error is: 0.07741251325556733\n"
          ],
          "name": "stdout"
        }
      ]
    },
    {
      "cell_type": "markdown",
      "metadata": {
        "id": "CqVY2A8-GwcV"
      },
      "source": [
        "Since, there won't be any changes, reporting and plotting error metrics for depth = 2 and 1"
      ]
    },
    {
      "cell_type": "code",
      "metadata": {
        "colab": {
          "base_uri": "https://localhost:8080/"
        },
        "id": "L7NKCK7XOSYC",
        "outputId": "27deb787-35bc-4139-aa33-e5a47c1384a4"
      },
      "source": [
        "tree2, length2, feat2 = DecisionClassifier(training_data,training_data,training_data.columns[:-1],'Democrat',depth = 2)\n",
        "import pprint\n",
        "pprint.pprint(tree2)"
      ],
      "execution_count": 127,
      "outputs": [
        {
          "output_type": "stream",
          "text": [
            "{'Education': {'BachelorOrHigher': {'Religion': {'Amish': 0.0,\n",
            "                                                 'Catholic': {'EthnicMale': {'ASIAN_MALE_rate': 1.0,\n",
            "                                                                             'BLACK_MALE_rate': 1.0,\n",
            "                                                                             'WHITE_MALE_rate': 1.0}},\n",
            "                                                 'Christian Generic': {'EthnicFemale': {'BLACK_FEMALE_rate': 1.0,\n",
            "                                                                                        'WHITE_FEMALE_rate': 0.0}},\n",
            "                                                 'Mormon': 0.0,\n",
            "                                                 'Other': {'EthnicMale': {'WHITE_MALE_rate': 0.0}}}},\n",
            "               'College': {'EthnicFemale': {'BLACK_FEMALE_rate': 1.0,\n",
            "                                            'NATIVE_AMERICAN_FEMALE_rate': {'Religion': {'Catholic': 0.0,\n",
            "                                                                                         'Christian Generic': 0.0}},\n",
            "                                            'WHITE_FEMALE_rate': {'Religion': {'Catholic': 0.0,\n",
            "                                                                               'Christian Generic': 0.0,\n",
            "                                                                               'Mormon': 0.0,\n",
            "                                                                               'Other': 0.0}}}},\n",
            "               'LessthanDiploma': {'EthnicFemale': {'BLACK_FEMALE_rate': 1.0,\n",
            "                                                    'WHITE_FEMALE_rate': {'Religion': {'Catholic': 0.0,\n",
            "                                                                                       'Christian Generic': 0.0}}}},\n",
            "               'OnlyDiploma': {'EthnicFemale': {'BLACK_FEMALE_rate': {'EthnicMale': {'BLACK_MALE_rate': 1.0,\n",
            "                                                                                     'WHITE_MALE_rate': 1.0}},\n",
            "                                                'NATIVE_AMERICAN_FEMALE_rate': {'Religion': {'Catholic': 1.0,\n",
            "                                                                                             'Christian Generic': 0.0}},\n",
            "                                                'WHITE_FEMALE_rate': {'Religion': {'Catholic': 0.0,\n",
            "                                                                                   'Christian Generic': 0.0,\n",
            "                                                                                   'Mormon': 0.0,\n",
            "                                                                                   'Other': 0.0,\n",
            "                                                                                   'Other Misc': 0.0}}}}}}\n"
          ],
          "name": "stdout"
        }
      ]
    },
    {
      "cell_type": "code",
      "metadata": {
        "id": "f_EyX5rjOWx8",
        "colab": {
          "base_uri": "https://localhost:8080/"
        },
        "outputId": "2cae4720-984a-4389-d6f8-853566002501"
      },
      "source": [
        "# Training error with depth = 2\n",
        "MAE2 = error_calc(training_data,tree2,'Democrat')\n",
        "print('The training error is:', MAE2)"
      ],
      "execution_count": 128,
      "outputs": [
        {
          "output_type": "stream",
          "text": [
            "The training error is: 0.09491371480472298\n"
          ],
          "name": "stdout"
        }
      ]
    },
    {
      "cell_type": "code",
      "metadata": {
        "id": "PqdyFPXHOYD6",
        "colab": {
          "base_uri": "https://localhost:8080/"
        },
        "outputId": "7b3537c8-6718-41aa-89db-77e64ad77638"
      },
      "source": [
        "# Validation Error\n",
        "MAE2_Test=error_calc(validation_data,tree2,'Democrat')\n",
        "print('The testing error is:', MAE2_Test)"
      ],
      "execution_count": 129,
      "outputs": [
        {
          "output_type": "stream",
          "text": [
            "The testing error is: 0.08271474019088017\n"
          ],
          "name": "stdout"
        }
      ]
    },
    {
      "cell_type": "code",
      "metadata": {
        "colab": {
          "base_uri": "https://localhost:8080/"
        },
        "id": "yswp2_SOOZ9E",
        "outputId": "87018ddd-3402-4fbd-dd67-f6cff0e3259e"
      },
      "source": [
        "tree1, length1, feat1 = DecisionClassifier(training_data,training_data,training_data.columns[:-1],'Democrat',depth = 1)\n",
        "import pprint\n",
        "pprint.pprint(tree1)"
      ],
      "execution_count": 130,
      "outputs": [
        {
          "output_type": "stream",
          "text": [
            "{'Education': {'BachelorOrHigher': {'Religion': {'Amish': 0.0,\n",
            "                                                 'Catholic': 1.0,\n",
            "                                                 'Christian Generic': 1.0,\n",
            "                                                 'Mormon': 0.0,\n",
            "                                                 'Other': 1.0}},\n",
            "               'College': {'EthnicFemale': {'BLACK_FEMALE_rate': 1.0,\n",
            "                                            'NATIVE_AMERICAN_FEMALE_rate': 0.0,\n",
            "                                            'WHITE_FEMALE_rate': 0.0}},\n",
            "               'LessthanDiploma': {'EthnicFemale': {'BLACK_FEMALE_rate': 1.0,\n",
            "                                                    'WHITE_FEMALE_rate': 1.0}},\n",
            "               'OnlyDiploma': {'EthnicFemale': {'BLACK_FEMALE_rate': 0.0,\n",
            "                                                'NATIVE_AMERICAN_FEMALE_rate': 0.0,\n",
            "                                                'WHITE_FEMALE_rate': 0.0}}}}\n"
          ],
          "name": "stdout"
        }
      ]
    },
    {
      "cell_type": "code",
      "metadata": {
        "id": "MujE0lmXOb_s",
        "colab": {
          "base_uri": "https://localhost:8080/"
        },
        "outputId": "c437d66f-60d4-4f1f-88bb-c2269ed4b73d"
      },
      "source": [
        "# Training error with depth = 1\n",
        "MAE1 = error_calc(training_data,tree1,'Democrat')\n",
        "print('The training error is:', MAE1)"
      ],
      "execution_count": 131,
      "outputs": [
        {
          "output_type": "stream",
          "text": [
            "The training error is: 0.12806539509536785\n"
          ],
          "name": "stdout"
        }
      ]
    },
    {
      "cell_type": "code",
      "metadata": {
        "id": "0EwplGc0OdJy",
        "colab": {
          "base_uri": "https://localhost:8080/"
        },
        "outputId": "d8ac60b5-068e-48d5-cebc-cba308c0b10c"
      },
      "source": [
        "# Validation Error\n",
        "MAE1_Test = error_calc(validation_data,tree1,'Democrat')\n",
        "print('The testing error is:', MAE1_Test)"
      ],
      "execution_count": 132,
      "outputs": [
        {
          "output_type": "stream",
          "text": [
            "The testing error is: 0.1071049840933192\n"
          ],
          "name": "stdout"
        }
      ]
    },
    {
      "cell_type": "markdown",
      "metadata": {
        "id": "eIML1iLLToGX"
      },
      "source": [
        "**Plotting the changes in error metrics**"
      ]
    },
    {
      "cell_type": "code",
      "metadata": {
        "colab": {
          "base_uri": "https://localhost:8080/",
          "height": 296
        },
        "id": "o7sjcSRnSWoI",
        "outputId": "c83557b8-9cb4-48a9-85ed-5cab0973d6af"
      },
      "source": [
        "X = [MAE1,MAE2, MAE3]\n",
        "Y = ['Size','Size2','Size3']\n",
        "plt.bar(Y,X, 0.4)\n",
        "plt.title('Training MAE with change in Tree depth')\n",
        "plt.xlabel('X_values')\n",
        "plt.ylabel(\"Y_points\")\n",
        "plt.show();"
      ],
      "execution_count": 133,
      "outputs": [
        {
          "output_type": "display_data",
          "data": {
            "image/png": "[encoded data removed]",
            "text/plain": [
              "<Figure size 432x288 with 1 Axes>"
            ]
          },
          "metadata": {
            "tags": [],
            "needs_background": "light"
          }
        }
      ]
    },
    {
      "cell_type": "code",
      "metadata": {
        "colab": {
          "base_uri": "https://localhost:8080/",
          "height": 296
        },
        "id": "x4iGg-vUV56d",
        "outputId": "4a63a927-3e71-46eb-fd39-afb7af2c8b30"
      },
      "source": [
        "Z =  [MAE1_Test,MAE2_Test, MAE3_Test]\n",
        "Y = ['Size1','Size2','Size3']\n",
        "plt.bar(Y,X, 0.4)\n",
        "plt.title('Validation MSE with change in Tree depth')\n",
        "plt.xlabel('X_values')\n",
        "plt.ylabel(\"Y_points\")\n",
        "plt.show();"
      ],
      "execution_count": 134,
      "outputs": [
        {
          "output_type": "display_data",
          "data": {
            "image/png": "[encoded data removed]",
            "text/plain": [
              "<Figure size 432x288 with 1 Axes>"
            ]
          },
          "metadata": {
            "tags": [],
            "needs_background": "light"
          }
        }
      ]
    },
    {
      "cell_type": "markdown",
      "metadata": {
        "id": "W2G-QTh0XaHA"
      },
      "source": [
        "As can be observed from the above graphs, with the increase in size of tree, the testing error and validation error reduce significantly. After increasing the size of the trees from 1 to 2, there is not much change in the error metrics."
      ]
    }
  ]
}