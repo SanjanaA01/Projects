{
  "nbformat": 4,
  "nbformat_minor": 0,
  "metadata": {
    "colab": {
      "name": "AroraS_08.ipynb",
      "provenance": [],
      "collapsed_sections": []
    },
    "kernelspec": {
      "name": "python3",
      "display_name": "Python 3"
    },
    "language_info": {
      "name": "python"
    }
  },
  "cells": [
    {
      "cell_type": "markdown",
      "metadata": {
        "id": "k2LxBTH52Mn1"
      },
      "source": [
        "Student: Arora, Sanjana\n",
        "V00966221\n",
        "\n",
        "Problem 8"
      ]
    },
    {
      "cell_type": "code",
      "metadata": {
        "id": "MfTiWBVUtcIe"
      },
      "source": [
        "import pandas as pd\n",
        "import numpy as np\n",
        "import seaborn as sns\n",
        "import matplotlib.pyplot as plt"
      ],
      "execution_count": null,
      "outputs": []
    },
    {
      "cell_type": "code",
      "metadata": {
        "colab": {
          "base_uri": "https://localhost:8080/"
        },
        "id": "H4yMEW_-tkm5",
        "outputId": "654e6d79-69a6-407b-9340-d0aaebfa19b3"
      },
      "source": [
        "!wget \"https://raw.githubusercontent.com/fivethirtyeight/data/master/candy-power-ranking/candy-data.csv\"\n",
        "df = pd.read_csv(\"candy-data.csv\")"
      ],
      "execution_count": null,
      "outputs": [
        {
          "output_type": "stream",
          "text": [
            "--2021-06-06 20:23:40--  https://raw.githubusercontent.com/fivethirtyeight/data/master/candy-power-ranking/candy-data.csv\n",
            "Resolving raw.githubusercontent.com (raw.githubusercontent.com)... 185.199.108.133, 185.199.109.133, 185.199.110.133, ...\n",
            "Connecting to raw.githubusercontent.com (raw.githubusercontent.com)|185.199.108.133|:443... connected.\n",
            "HTTP request sent, awaiting response... 200 OK\n",
            "Length: 5205 (5.1K) [text/plain]\n",
            "Saving to: ‘candy-data.csv’\n",
            "\n",
            "\rcandy-data.csv        0%[                    ]       0  --.-KB/s               \rcandy-data.csv      100%[===================>]   5.08K  --.-KB/s    in 0s      \n",
            "\n",
            "2021-06-06 20:23:40 (53.8 MB/s) - ‘candy-data.csv’ saved [5205/5205]\n",
            "\n"
          ],
          "name": "stdout"
        }
      ]
    },
    {
      "cell_type": "code",
      "metadata": {
        "colab": {
          "base_uri": "https://localhost:8080/"
        },
        "id": "6TtfCyHF3hRi",
        "outputId": "a8c14b79-c200-4754-b507-19de24e44b86"
      },
      "source": [
        "df.columns"
      ],
      "execution_count": null,
      "outputs": [
        {
          "output_type": "execute_result",
          "data": {
            "text/plain": [
              "Index(['competitorname', 'chocolate', 'fruity', 'caramel', 'peanutyalmondy',\n",
              "       'nougat', 'crispedricewafer', 'hard', 'bar', 'pluribus', 'sugarpercent',\n",
              "       'pricepercent', 'winpercent'],\n",
              "      dtype='object')"
            ]
          },
          "metadata": {
            "tags": []
          },
          "execution_count": 3
        }
      ]
    },
    {
      "cell_type": "code",
      "metadata": {
        "colab": {
          "base_uri": "https://localhost:8080/",
          "height": 318
        },
        "id": "Bo3T1Iwk3mrJ",
        "outputId": "1d69473e-f89a-4aff-bcce-b4efb850670d"
      },
      "source": [
        "df.describe()"
      ],
      "execution_count": null,
      "outputs": [
        {
          "output_type": "execute_result",
          "data": {
            "text/html": [
              "<div>\n",
              "<style scoped>\n",
              "    .dataframe tbody tr th:only-of-type {\n",
              "        vertical-align: middle;\n",
              "    }\n",
              "\n",
              "    .dataframe tbody tr th {\n",
              "        vertical-align: top;\n",
              "    }\n",
              "\n",
              "    .dataframe thead th {\n",
              "        text-align: right;\n",
              "    }\n",
              "</style>\n",
              "<table border=\"1\" class=\"dataframe\">\n",
              "  <thead>\n",
              "    <tr style=\"text-align: right;\">\n",
              "      <th></th>\n",
              "      <th>chocolate</th>\n",
              "      <th>fruity</th>\n",
              "      <th>caramel</th>\n",
              "      <th>peanutyalmondy</th>\n",
              "      <th>nougat</th>\n",
              "      <th>crispedricewafer</th>\n",
              "      <th>hard</th>\n",
              "      <th>bar</th>\n",
              "      <th>pluribus</th>\n",
              "      <th>sugarpercent</th>\n",
              "      <th>pricepercent</th>\n",
              "      <th>winpercent</th>\n",
              "    </tr>\n",
              "  </thead>\n",
              "  <tbody>\n",
              "    <tr>\n",
              "      <th>count</th>\n",
              "      <td>85.000000</td>\n",
              "      <td>85.000000</td>\n",
              "      <td>85.000000</td>\n",
              "      <td>85.000000</td>\n",
              "      <td>85.000000</td>\n",
              "      <td>85.000000</td>\n",
              "      <td>85.000000</td>\n",
              "      <td>85.000000</td>\n",
              "      <td>85.000000</td>\n",
              "      <td>85.000000</td>\n",
              "      <td>85.000000</td>\n",
              "      <td>85.000000</td>\n",
              "    </tr>\n",
              "    <tr>\n",
              "      <th>mean</th>\n",
              "      <td>0.435294</td>\n",
              "      <td>0.447059</td>\n",
              "      <td>0.164706</td>\n",
              "      <td>0.164706</td>\n",
              "      <td>0.082353</td>\n",
              "      <td>0.082353</td>\n",
              "      <td>0.176471</td>\n",
              "      <td>0.247059</td>\n",
              "      <td>0.517647</td>\n",
              "      <td>0.478647</td>\n",
              "      <td>0.468882</td>\n",
              "      <td>50.316764</td>\n",
              "    </tr>\n",
              "    <tr>\n",
              "      <th>std</th>\n",
              "      <td>0.498738</td>\n",
              "      <td>0.500140</td>\n",
              "      <td>0.373116</td>\n",
              "      <td>0.373116</td>\n",
              "      <td>0.276533</td>\n",
              "      <td>0.276533</td>\n",
              "      <td>0.383482</td>\n",
              "      <td>0.433861</td>\n",
              "      <td>0.502654</td>\n",
              "      <td>0.282778</td>\n",
              "      <td>0.285740</td>\n",
              "      <td>14.714357</td>\n",
              "    </tr>\n",
              "    <tr>\n",
              "      <th>min</th>\n",
              "      <td>0.000000</td>\n",
              "      <td>0.000000</td>\n",
              "      <td>0.000000</td>\n",
              "      <td>0.000000</td>\n",
              "      <td>0.000000</td>\n",
              "      <td>0.000000</td>\n",
              "      <td>0.000000</td>\n",
              "      <td>0.000000</td>\n",
              "      <td>0.000000</td>\n",
              "      <td>0.011000</td>\n",
              "      <td>0.011000</td>\n",
              "      <td>22.445341</td>\n",
              "    </tr>\n",
              "    <tr>\n",
              "      <th>25%</th>\n",
              "      <td>0.000000</td>\n",
              "      <td>0.000000</td>\n",
              "      <td>0.000000</td>\n",
              "      <td>0.000000</td>\n",
              "      <td>0.000000</td>\n",
              "      <td>0.000000</td>\n",
              "      <td>0.000000</td>\n",
              "      <td>0.000000</td>\n",
              "      <td>0.000000</td>\n",
              "      <td>0.220000</td>\n",
              "      <td>0.255000</td>\n",
              "      <td>39.141056</td>\n",
              "    </tr>\n",
              "    <tr>\n",
              "      <th>50%</th>\n",
              "      <td>0.000000</td>\n",
              "      <td>0.000000</td>\n",
              "      <td>0.000000</td>\n",
              "      <td>0.000000</td>\n",
              "      <td>0.000000</td>\n",
              "      <td>0.000000</td>\n",
              "      <td>0.000000</td>\n",
              "      <td>0.000000</td>\n",
              "      <td>1.000000</td>\n",
              "      <td>0.465000</td>\n",
              "      <td>0.465000</td>\n",
              "      <td>47.829754</td>\n",
              "    </tr>\n",
              "    <tr>\n",
              "      <th>75%</th>\n",
              "      <td>1.000000</td>\n",
              "      <td>1.000000</td>\n",
              "      <td>0.000000</td>\n",
              "      <td>0.000000</td>\n",
              "      <td>0.000000</td>\n",
              "      <td>0.000000</td>\n",
              "      <td>0.000000</td>\n",
              "      <td>0.000000</td>\n",
              "      <td>1.000000</td>\n",
              "      <td>0.732000</td>\n",
              "      <td>0.651000</td>\n",
              "      <td>59.863998</td>\n",
              "    </tr>\n",
              "    <tr>\n",
              "      <th>max</th>\n",
              "      <td>1.000000</td>\n",
              "      <td>1.000000</td>\n",
              "      <td>1.000000</td>\n",
              "      <td>1.000000</td>\n",
              "      <td>1.000000</td>\n",
              "      <td>1.000000</td>\n",
              "      <td>1.000000</td>\n",
              "      <td>1.000000</td>\n",
              "      <td>1.000000</td>\n",
              "      <td>0.988000</td>\n",
              "      <td>0.976000</td>\n",
              "      <td>84.180290</td>\n",
              "    </tr>\n",
              "  </tbody>\n",
              "</table>\n",
              "</div>"
            ],
            "text/plain": [
              "       chocolate     fruity    caramel  ...  sugarpercent  pricepercent  winpercent\n",
              "count  85.000000  85.000000  85.000000  ...     85.000000     85.000000   85.000000\n",
              "mean    0.435294   0.447059   0.164706  ...      0.478647      0.468882   50.316764\n",
              "std     0.498738   0.500140   0.373116  ...      0.282778      0.285740   14.714357\n",
              "min     0.000000   0.000000   0.000000  ...      0.011000      0.011000   22.445341\n",
              "25%     0.000000   0.000000   0.000000  ...      0.220000      0.255000   39.141056\n",
              "50%     0.000000   0.000000   0.000000  ...      0.465000      0.465000   47.829754\n",
              "75%     1.000000   1.000000   0.000000  ...      0.732000      0.651000   59.863998\n",
              "max     1.000000   1.000000   1.000000  ...      0.988000      0.976000   84.180290\n",
              "\n",
              "[8 rows x 12 columns]"
            ]
          },
          "metadata": {
            "tags": []
          },
          "execution_count": 4
        }
      ]
    },
    {
      "cell_type": "code",
      "metadata": {
        "colab": {
          "base_uri": "https://localhost:8080/",
          "height": 224
        },
        "id": "lD-gBDqn33Fw",
        "outputId": "586fa0a2-7846-4d35-8315-8bc6fe19465a"
      },
      "source": [
        "df.head()"
      ],
      "execution_count": null,
      "outputs": [
        {
          "output_type": "execute_result",
          "data": {
            "text/html": [
              "<div>\n",
              "<style scoped>\n",
              "    .dataframe tbody tr th:only-of-type {\n",
              "        vertical-align: middle;\n",
              "    }\n",
              "\n",
              "    .dataframe tbody tr th {\n",
              "        vertical-align: top;\n",
              "    }\n",
              "\n",
              "    .dataframe thead th {\n",
              "        text-align: right;\n",
              "    }\n",
              "</style>\n",
              "<table border=\"1\" class=\"dataframe\">\n",
              "  <thead>\n",
              "    <tr style=\"text-align: right;\">\n",
              "      <th></th>\n",
              "      <th>competitorname</th>\n",
              "      <th>chocolate</th>\n",
              "      <th>fruity</th>\n",
              "      <th>caramel</th>\n",
              "      <th>peanutyalmondy</th>\n",
              "      <th>nougat</th>\n",
              "      <th>crispedricewafer</th>\n",
              "      <th>hard</th>\n",
              "      <th>bar</th>\n",
              "      <th>pluribus</th>\n",
              "      <th>sugarpercent</th>\n",
              "      <th>pricepercent</th>\n",
              "      <th>winpercent</th>\n",
              "    </tr>\n",
              "  </thead>\n",
              "  <tbody>\n",
              "    <tr>\n",
              "      <th>0</th>\n",
              "      <td>100 Grand</td>\n",
              "      <td>1</td>\n",
              "      <td>0</td>\n",
              "      <td>1</td>\n",
              "      <td>0</td>\n",
              "      <td>0</td>\n",
              "      <td>1</td>\n",
              "      <td>0</td>\n",
              "      <td>1</td>\n",
              "      <td>0</td>\n",
              "      <td>0.732</td>\n",
              "      <td>0.860</td>\n",
              "      <td>66.971725</td>\n",
              "    </tr>\n",
              "    <tr>\n",
              "      <th>1</th>\n",
              "      <td>3 Musketeers</td>\n",
              "      <td>1</td>\n",
              "      <td>0</td>\n",
              "      <td>0</td>\n",
              "      <td>0</td>\n",
              "      <td>1</td>\n",
              "      <td>0</td>\n",
              "      <td>0</td>\n",
              "      <td>1</td>\n",
              "      <td>0</td>\n",
              "      <td>0.604</td>\n",
              "      <td>0.511</td>\n",
              "      <td>67.602936</td>\n",
              "    </tr>\n",
              "    <tr>\n",
              "      <th>2</th>\n",
              "      <td>One dime</td>\n",
              "      <td>0</td>\n",
              "      <td>0</td>\n",
              "      <td>0</td>\n",
              "      <td>0</td>\n",
              "      <td>0</td>\n",
              "      <td>0</td>\n",
              "      <td>0</td>\n",
              "      <td>0</td>\n",
              "      <td>0</td>\n",
              "      <td>0.011</td>\n",
              "      <td>0.116</td>\n",
              "      <td>32.261086</td>\n",
              "    </tr>\n",
              "    <tr>\n",
              "      <th>3</th>\n",
              "      <td>One quarter</td>\n",
              "      <td>0</td>\n",
              "      <td>0</td>\n",
              "      <td>0</td>\n",
              "      <td>0</td>\n",
              "      <td>0</td>\n",
              "      <td>0</td>\n",
              "      <td>0</td>\n",
              "      <td>0</td>\n",
              "      <td>0</td>\n",
              "      <td>0.011</td>\n",
              "      <td>0.511</td>\n",
              "      <td>46.116505</td>\n",
              "    </tr>\n",
              "    <tr>\n",
              "      <th>4</th>\n",
              "      <td>Air Heads</td>\n",
              "      <td>0</td>\n",
              "      <td>1</td>\n",
              "      <td>0</td>\n",
              "      <td>0</td>\n",
              "      <td>0</td>\n",
              "      <td>0</td>\n",
              "      <td>0</td>\n",
              "      <td>0</td>\n",
              "      <td>0</td>\n",
              "      <td>0.906</td>\n",
              "      <td>0.511</td>\n",
              "      <td>52.341465</td>\n",
              "    </tr>\n",
              "  </tbody>\n",
              "</table>\n",
              "</div>"
            ],
            "text/plain": [
              "  competitorname  chocolate  fruity  ...  sugarpercent  pricepercent  winpercent\n",
              "0      100 Grand          1       0  ...         0.732         0.860   66.971725\n",
              "1   3 Musketeers          1       0  ...         0.604         0.511   67.602936\n",
              "2       One dime          0       0  ...         0.011         0.116   32.261086\n",
              "3    One quarter          0       0  ...         0.011         0.511   46.116505\n",
              "4      Air Heads          0       1  ...         0.906         0.511   52.341465\n",
              "\n",
              "[5 rows x 13 columns]"
            ]
          },
          "metadata": {
            "tags": []
          },
          "execution_count": 5
        }
      ]
    },
    {
      "cell_type": "code",
      "metadata": {
        "colab": {
          "base_uri": "https://localhost:8080/"
        },
        "id": "07BL04On4Q34",
        "outputId": "30f7fc3b-0382-4950-9e7a-3231043c1589"
      },
      "source": [
        "df.shape"
      ],
      "execution_count": null,
      "outputs": [
        {
          "output_type": "execute_result",
          "data": {
            "text/plain": [
              "(85, 13)"
            ]
          },
          "metadata": {
            "tags": []
          },
          "execution_count": 6
        }
      ]
    },
    {
      "cell_type": "markdown",
      "metadata": {
        "id": "SL28URERbsiB"
      },
      "source": [
        "**8a. Closed matrix form of linear regression**"
      ]
    },
    {
      "cell_type": "code",
      "metadata": {
        "colab": {
          "base_uri": "https://localhost:8080/",
          "height": 483
        },
        "id": "rRH029zGkLSn",
        "outputId": "cd711af9-10ff-4388-85f7-cb707840b7d2"
      },
      "source": [
        "X = df['sugarpercent'].values\n",
        "Y = df['winpercent'].values\n",
        "X_one = np.vstack((np.ones(X.shape[0]),X)).T\n",
        "# calculate coefficients using closed-form solution\n",
        "coeffs = np.linalg.inv(X_one.transpose().dot(X_one)).dot(X_one.transpose()).dot(Y)\n",
        "Y_pred = X_one.dot(coeffs)\n",
        "plt.figure(figsize=(10,8));\n",
        "plt.scatter(X, Y);\n",
        "plt.plot(X, Y_pred);"
      ],
      "execution_count": null,
      "outputs": [
        {
          "output_type": "display_data",
          "data": {
            "image/png": "[encoded data removed]",
            "text/plain": [
              "<Figure size 720x576 with 1 Axes>"
            ]
          },
          "metadata": {
            "tags": [],
            "needs_background": "light"
          }
        }
      ]
    },
    {
      "cell_type": "markdown",
      "metadata": {
        "id": "VSO5vAG-8PhS"
      },
      "source": [
        "**Problem 8.b** **Linear Regression using skLearn Library**"
      ]
    },
    {
      "cell_type": "code",
      "metadata": {
        "id": "FpNwh9u942jN"
      },
      "source": [
        "from sklearn.linear_model import LinearRegression"
      ],
      "execution_count": null,
      "outputs": []
    },
    {
      "cell_type": "code",
      "metadata": {
        "id": "BoCclnlg5-By"
      },
      "source": [
        "X1 = df['sugarpercent'].values.reshape(-1,1)"
      ],
      "execution_count": null,
      "outputs": []
    },
    {
      "cell_type": "code",
      "metadata": {
        "id": "k4sZ2KaP6IaZ"
      },
      "source": [
        "Y = df['winpercent']"
      ],
      "execution_count": null,
      "outputs": []
    },
    {
      "cell_type": "code",
      "metadata": {
        "id": "Mvd4tRoO6NAf"
      },
      "source": [
        "model = LinearRegression()"
      ],
      "execution_count": null,
      "outputs": []
    },
    {
      "cell_type": "code",
      "metadata": {
        "colab": {
          "base_uri": "https://localhost:8080/"
        },
        "id": "Kp2kCLY26ROa",
        "outputId": "5f1d610e-c6b8-4b7d-8470-78946e1c7f41"
      },
      "source": [
        "model.fit(X1, Y)"
      ],
      "execution_count": null,
      "outputs": [
        {
          "output_type": "execute_result",
          "data": {
            "text/plain": [
              "LinearRegression(copy_X=True, fit_intercept=True, n_jobs=None, normalize=False)"
            ]
          },
          "metadata": {
            "tags": []
          },
          "execution_count": 46
        }
      ]
    },
    {
      "cell_type": "code",
      "metadata": {
        "colab": {
          "base_uri": "https://localhost:8080/"
        },
        "id": "sgJMyfsT6erP",
        "outputId": "8fa4bef5-feae-4776-ff13-2310c486b019"
      },
      "source": [
        "model.coef_"
      ],
      "execution_count": null,
      "outputs": [
        {
          "output_type": "execute_result",
          "data": {
            "text/plain": [
              "array([11.92386329])"
            ]
          },
          "metadata": {
            "tags": []
          },
          "execution_count": 47
        }
      ]
    },
    {
      "cell_type": "code",
      "metadata": {
        "colab": {
          "base_uri": "https://localhost:8080/"
        },
        "id": "JWzT6KGh6hNJ",
        "outputId": "42fde561-a45b-4b63-dfb2-e856453ff454"
      },
      "source": [
        "model.intercept_"
      ],
      "execution_count": null,
      "outputs": [
        {
          "output_type": "execute_result",
          "data": {
            "text/plain": [
              "44.609441807534644"
            ]
          },
          "metadata": {
            "tags": []
          },
          "execution_count": 48
        }
      ]
    },
    {
      "cell_type": "code",
      "metadata": {
        "colab": {
          "base_uri": "https://localhost:8080/",
          "height": 497
        },
        "id": "XZZT6ydj6lJp",
        "outputId": "eba1b484-2b7d-4d3b-a721-cd1ace6bbe57"
      },
      "source": [
        "Y_pred2 = model.predict(X1)\n",
        "plt.figure(figsize=(12,8));\n",
        "plt.scatter(X1, Y);\n",
        "plt.plot(X1, Y_pred2);\n",
        "plt.xlabel('sugarpercent')\n",
        "plt.ylabel(\"Popularity of Candy\")\n",
        "plt.show();"
      ],
      "execution_count": null,
      "outputs": [
        {
          "output_type": "display_data",
          "data": {
            "image/png": "[encoded data removed]",
            "text/plain": [
              "<Figure size 864x576 with 1 Axes>"
            ]
          },
          "metadata": {
            "tags": [],
            "needs_background": "light"
          }
        }
      ]
    },
    {
      "cell_type": "code",
      "metadata": {
        "id": "Cor2ej3QTZjC"
      },
      "source": [
        "from sklearn.model_selection import train_test_split\n",
        "X_train, X_test, Y_train, Y_test = train_test_split(X1, Y, test_size=0.3,shuffle = True)"
      ],
      "execution_count": null,
      "outputs": []
    },
    {
      "cell_type": "markdown",
      "metadata": {
        "id": "pUeTUKgBSgvv"
      },
      "source": [
        "Q8.C **Polynomial Regression with Quadratic Polynomial**"
      ]
    },
    {
      "cell_type": "code",
      "metadata": {
        "id": "nDNd9kR3OMT5"
      },
      "source": [
        "from sklearn.preprocessing import PolynomialFeatures\n",
        "poly_reg = PolynomialFeatures(degree=3)\n",
        "X_train_poly = poly_reg.fit_transform(X_train)\n",
        "lin_reg_2 = LinearRegression()\n",
        "lin_reg_2.fit(X_train_poly, Y_train)\n",
        "Y_train_pred = lin_reg_2.predict(X_train_poly)"
      ],
      "execution_count": null,
      "outputs": []
    },
    {
      "cell_type": "code",
      "metadata": {
        "id": "udHDjccwTXom"
      },
      "source": [
        "X_test_poly = poly_reg.transform(X_test)\n",
        "Y_test_pred = lin_reg_2.predict(X_test_poly)"
      ],
      "execution_count": null,
      "outputs": []
    },
    {
      "cell_type": "code",
      "metadata": {
        "colab": {
          "base_uri": "https://localhost:8080/"
        },
        "id": "bzgh17apVOsu",
        "outputId": "9ad57da8-7cf2-4577-ea1d-c324f09cd6e8"
      },
      "source": [
        "#Calculating the errors\n",
        "from sklearn.metrics import mean_absolute_error\n",
        "print ('The training MAE:', mean_absolute_error(Y_train, Y_train_pred))"
      ],
      "execution_count": null,
      "outputs": [
        {
          "output_type": "stream",
          "text": [
            "The training MAE: 11.016333252750956\n"
          ],
          "name": "stdout"
        }
      ]
    },
    {
      "cell_type": "code",
      "metadata": {
        "colab": {
          "base_uri": "https://localhost:8080/"
        },
        "id": "YPlqpAQnVgE2",
        "outputId": "beeb4575-a757-4e94-d4fc-4f172c96f862"
      },
      "source": [
        "print ('The testing MAE:', mean_absolute_error(Y_test, Y_test_pred))"
      ],
      "execution_count": null,
      "outputs": [
        {
          "output_type": "stream",
          "text": [
            "The testing MAE: 12.595777009818082\n"
          ],
          "name": "stdout"
        }
      ]
    },
    {
      "cell_type": "code",
      "metadata": {
        "colab": {
          "base_uri": "https://localhost:8080/",
          "height": 483
        },
        "id": "S2Ve9fHBOtqM",
        "outputId": "ce59715b-da9e-4d87-8a66-0114eedad738"
      },
      "source": [
        "plt.figure(figsize=(10,8));\n",
        "plt.scatter(X_train,Y_train);\n",
        "plt.plot(X_train, Y_train_pred);"
      ],
      "execution_count": null,
      "outputs": [
        {
          "output_type": "display_data",
          "data": {
            "image/png": "[encoded data removed]",
            "text/plain": [
              "<Figure size 720x576 with 1 Axes>"
            ]
          },
          "metadata": {
            "tags": [],
            "needs_background": "light"
          }
        }
      ]
    },
    {
      "cell_type": "code",
      "metadata": {
        "colab": {
          "base_uri": "https://localhost:8080/",
          "height": 483
        },
        "id": "oFBfIanz5GEQ",
        "outputId": "d677ddea-b706-4e57-d60c-0755a6487f6d"
      },
      "source": [
        "plt.figure(figsize=(10,8));\n",
        "plt.scatter(X_test,Y_test);\n",
        "plt.plot(X_test, Y_test_pred);"
      ],
      "execution_count": null,
      "outputs": [
        {
          "output_type": "display_data",
          "data": {
            "image/png": "[encoded data removed]",
            "text/plain": [
              "<Figure size 720x576 with 1 Axes>"
            ]
          },
          "metadata": {
            "tags": [],
            "needs_background": "light"
          }
        }
      ]
    },
    {
      "cell_type": "markdown",
      "metadata": {
        "id": "1dIKtXT06ZT5"
      },
      "source": [
        "**8D Linear Regression with extra feature + regression plane**"
      ]
    },
    {
      "cell_type": "code",
      "metadata": {
        "id": "7ChbOuGS1Fz5"
      },
      "source": [
        "X2 = df[['pricepercent', 'sugarpercent']]\n",
        "lin_reg_3 = LinearRegression()\n",
        "lin_reg_3.fit(X2, Y)\n",
        "y_pred3 = lin_reg_3.predict(X2)\n",
        "coefs = lin_reg_3.coef_\n",
        "intercept = lin_reg_3.intercept_\n",
        "from mpl_toolkits.mplot3d import Axes3D\n",
        "import random"
      ],
      "execution_count": null,
      "outputs": []
    },
    {
      "cell_type": "code",
      "metadata": {
        "colab": {
          "base_uri": "https://localhost:8080/",
          "height": 466
        },
        "id": "pz1y2oUR-151",
        "outputId": "a32ca2c7-1abc-4279-e6b4-ef0d7980bbe5"
      },
      "source": [
        "fig = plt.figure(figsize=(10,8))\n",
        "ax = fig.add_subplot(111, projection='3d')\n",
        "ax.scatter(X2['pricepercent'], X2['sugarpercent'], Y, c='red', marker='o')\n",
        "# taking the two features on two different axes\n",
        "xs = np.tile(X2['pricepercent'], (1,1))\n",
        "ys = np.tile(X2['sugarpercent'], (1,1)).T\n",
        "zs = xs*coefs[0]+ys*coefs[1]+intercept\n",
        "ax.plot_surface(xs,ys,zs, alpha=0.5)\n",
        "ax.set_xlabel('X Label')\n",
        "ax.set_ylabel('Y Label')\n",
        "ax.set_zlabel('Z Label')\n",
        "plt.show() "
      ],
      "execution_count": null,
      "outputs": [
        {
          "output_type": "display_data",
          "data": {
            "image/png": "[encoded data removed]",
            "text/plain": [
              "<Figure size 720x576 with 1 Axes>"
            ]
          },
          "metadata": {
            "tags": [],
            "needs_background": "light"
          }
        }
      ]
    },
    {
      "cell_type": "markdown",
      "metadata": {
        "id": "JE7BgCy1W_Uw"
      },
      "source": [
        "**8E. Ridge Regression**"
      ]
    },
    {
      "cell_type": "code",
      "metadata": {
        "colab": {
          "base_uri": "https://localhost:8080/"
        },
        "id": "yKExD1l5XFoz",
        "outputId": "5e5783ff-b5d2-4467-dccc-7075bd2fc4a3"
      },
      "source": [
        "df_transformed = pd.get_dummies(df['competitorname'])\n",
        "result = pd.concat([df,df_transformed], axis=1).reindex(df_transformed.index)\n",
        "result.drop(['competitorname'], axis=1, inplace= True)\n",
        "\n",
        "result = result[['chocolate', 'fruity', 'caramel', 'peanutyalmondy', 'nougat',\n",
        "       'crispedricewafer', 'hard', 'bar', 'pluribus', 'sugarpercent',\n",
        "       'pricepercent', '100 Grand', '3 Musketeers', 'Air Heads',\n",
        "       'Almond Joy', 'Baby Ruth', 'Boston Baked Beans', 'Candy Corn',\n",
        "       'Caramel Apple Pops', 'Charleston Chew', 'Chewey Lemonhead Fruit Mix',\n",
        "       'Chiclets', 'Dots', 'Dum Dums', 'Fruit Chews', 'Fun Dip', 'Gobstopper',\n",
        "       'Haribo Gold Bears', 'Haribo Happy Cola', 'Haribo Sour Bears',\n",
        "       'Haribo Twin Snakes', 'HersheyÕs Kisses', 'HersheyÕs Krackel',\n",
        "       'HersheyÕs Milk Chocolate', 'HersheyÕs Special Dark', 'Jawbusters',\n",
        "       'Junior Mints', 'Kit Kat', 'Laffy Taffy', 'Lemonhead',\n",
        "       'Lifesavers big ring gummies', 'M&MÕs', 'Mike & Ike', 'Milk Duds',\n",
        "       'Milky Way', 'Milky Way Midnight', 'Milky Way Simply Caramel', 'Mounds',\n",
        "       'Mr Good Bar', 'Nerds', 'Nestle Butterfinger', 'Nestle Crunch',\n",
        "       'Nestle Smarties', 'Nik L Nip', 'Now & Later', 'One dime',\n",
        "       'One quarter', 'Payday', 'Peanut M&Ms', 'Peanut butter M&MÕs',\n",
        "       'Pixie Sticks', 'Pop Rocks', 'Red vines', 'ReeseÕs Miniatures',\n",
        "       'ReeseÕs Peanut Butter cup', 'ReeseÕs pieces',\n",
        "       'ReeseÕs stuffed with pieces', 'Ring pop', 'Rolo', 'Root Beer Barrels',\n",
        "       'Runts', 'Sixlets', 'Skittles original', 'Skittles wildberry',\n",
        "       'Smarties candy', 'Snickers', 'Snickers Crisper', 'Sour Patch Kids',\n",
        "       'Sour Patch Tricksters', 'Starburst', 'Strawberry bon bons',\n",
        "       'Sugar Babies', 'Sugar Daddy', 'Super Bubble', 'Swedish Fish',\n",
        "       'Tootsie Pop', 'Tootsie Roll Juniors', 'Tootsie Roll Midgies',\n",
        "       'Tootsie Roll Snack Bars', 'Trolli Sour Bites', 'Twix', 'Twizzlers',\n",
        "       'Warheads', 'WelchÕs Fruit Snacks', 'WertherÕs Original Caramel',\n",
        "       'Whoppers','winpercent',]]\n",
        "print(result.columns)\n",
        "from sklearn import linear_model\n",
        "X = result.iloc[:, :-1]\n",
        "from sklearn.model_selection import train_test_split\n",
        "X_train, X_test, Y_train, Y_test = train_test_split(X, Y, test_size=0.3, train_size=0.7,shuffle=True, random_state=42)\n",
        "alphas = np.array([0.1, 1, 2])\n",
        "MAE =[]\n",
        "MAE1 =[]\n",
        "for a in alphas:\n",
        "  ridge = linear_model.Ridge(alpha=a)\n",
        "  ridge.fit(X_train, Y_train)\n",
        "  y_predTrain = ridge.predict(X_train)\n",
        "  y_pred = ridge.predict(X_test)\n",
        "  acc1 = mean_absolute_error(Y_test,y_pred)\n",
        "  acc2 = mean_absolute_error(Y_train,y_predTrain)\n",
        "  MAE.append(acc1)\n",
        "  MAE1.append(acc2)"
      ],
      "execution_count": null,
      "outputs": [
        {
          "output_type": "stream",
          "text": [
            "Index(['chocolate', 'fruity', 'caramel', 'peanutyalmondy', 'nougat',\n",
            "       'crispedricewafer', 'hard', 'bar', 'pluribus', 'sugarpercent',\n",
            "       'pricepercent', '100 Grand', '3 Musketeers', 'Air Heads', 'Almond Joy',\n",
            "       'Baby Ruth', 'Boston Baked Beans', 'Candy Corn', 'Caramel Apple Pops',\n",
            "       'Charleston Chew', 'Chewey Lemonhead Fruit Mix', 'Chiclets', 'Dots',\n",
            "       'Dum Dums', 'Fruit Chews', 'Fun Dip', 'Gobstopper', 'Haribo Gold Bears',\n",
            "       'Haribo Happy Cola', 'Haribo Sour Bears', 'Haribo Twin Snakes',\n",
            "       'HersheyÕs Kisses', 'HersheyÕs Krackel', 'HersheyÕs Milk Chocolate',\n",
            "       'HersheyÕs Special Dark', 'Jawbusters', 'Junior Mints', 'Kit Kat',\n",
            "       'Laffy Taffy', 'Lemonhead', 'Lifesavers big ring gummies', 'M&MÕs',\n",
            "       'Mike & Ike', 'Milk Duds', 'Milky Way', 'Milky Way Midnight',\n",
            "       'Milky Way Simply Caramel', 'Mounds', 'Mr Good Bar', 'Nerds',\n",
            "       'Nestle Butterfinger', 'Nestle Crunch', 'Nestle Smarties', 'Nik L Nip',\n",
            "       'Now & Later', 'One dime', 'One quarter', 'Payday', 'Peanut M&Ms',\n",
            "       'Peanut butter M&MÕs', 'Pixie Sticks', 'Pop Rocks', 'Red vines',\n",
            "       'ReeseÕs Miniatures', 'ReeseÕs Peanut Butter cup', 'ReeseÕs pieces',\n",
            "       'ReeseÕs stuffed with pieces', 'Ring pop', 'Rolo', 'Root Beer Barrels',\n",
            "       'Runts', 'Sixlets', 'Skittles original', 'Skittles wildberry',\n",
            "       'Smarties candy', 'Snickers', 'Snickers Crisper', 'Sour Patch Kids',\n",
            "       'Sour Patch Tricksters', 'Starburst', 'Strawberry bon bons',\n",
            "       'Sugar Babies', 'Sugar Daddy', 'Super Bubble', 'Swedish Fish',\n",
            "       'Tootsie Pop', 'Tootsie Roll Juniors', 'Tootsie Roll Midgies',\n",
            "       'Tootsie Roll Snack Bars', 'Trolli Sour Bites', 'Twix', 'Twizzlers',\n",
            "       'Warheads', 'WelchÕs Fruit Snacks', 'WertherÕs Original Caramel',\n",
            "       'Whoppers', 'winpercent'],\n",
            "      dtype='object')\n"
          ],
          "name": "stdout"
        }
      ]
    },
    {
      "cell_type": "code",
      "metadata": {
        "colab": {
          "base_uri": "https://localhost:8080/"
        },
        "id": "E_VGd-ekz-tO",
        "outputId": "28aaf46b-38ef-4182-d461-19b676c9675e"
      },
      "source": [
        "# the mean absolute error of testing dataset of each of the ridge regression model\n",
        "MAE"
      ],
      "execution_count": null,
      "outputs": [
        {
          "output_type": "execute_result",
          "data": {
            "text/plain": [
              "[9.601292020253368, 9.808981187276734, 9.975491610478494]"
            ]
          },
          "metadata": {
            "tags": []
          },
          "execution_count": 68
        }
      ]
    },
    {
      "cell_type": "code",
      "metadata": {
        "colab": {
          "base_uri": "https://localhost:8080/"
        },
        "id": "RK0eRWGfTkPI",
        "outputId": "6c69ec5f-5379-4fbd-b44f-9ce73c6f3f13"
      },
      "source": [
        "# the mean absolute error of training dataset of redge regression model with different values of alphas\n",
        "MAE1"
      ],
      "execution_count": null,
      "outputs": [
        {
          "output_type": "execute_result",
          "data": {
            "text/plain": [
              "[0.7138692295132761, 3.961186850384925, 5.325433188893213]"
            ]
          },
          "metadata": {
            "tags": []
          },
          "execution_count": 69
        }
      ]
    },
    {
      "cell_type": "markdown",
      "metadata": {
        "id": "xwJ9Dy0UTzNu"
      },
      "source": [
        "Ridge regression model with alpha 0.1 is having the least mean absolute error rates for both training and testing dataset. Therefore, the ridge regression model with alpha 0.1 is the best."
      ]
    }
  ]
}