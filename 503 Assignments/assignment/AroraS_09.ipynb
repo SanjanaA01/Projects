{
  "nbformat": 4,
  "nbformat_minor": 0,
  "metadata": {
    "colab": {
      "name": "AroraS_09.ipynb",
      "provenance": [],
      "collapsed_sections": []
    },
    "kernelspec": {
      "name": "python3",
      "display_name": "Python 3"
    },
    "language_info": {
      "name": "python"
    }
  },
  "cells": [
    {
      "cell_type": "markdown",
      "metadata": {
        "id": "CUqo9EmNRRV0"
      },
      "source": [
        "Student: Arora, Sanjana (V00966221)"
      ]
    },
    {
      "cell_type": "code",
      "metadata": {
        "id": "Xxr6pfXj5YiQ"
      },
      "source": [
        "import pandas as pd\n",
        "import numpy as np\n",
        "import sklearn\n",
        "from sklearn.linear_model import LinearRegression\n",
        "import matplotlib.pyplot as plt\n",
        "import seaborn as sns"
      ],
      "execution_count": null,
      "outputs": []
    },
    {
      "cell_type": "code",
      "metadata": {
        "colab": {
          "base_uri": "https://localhost:8080/"
        },
        "id": "fAKR8srw5kGC",
        "outputId": "7a273873-00ea-45b0-fa37-d565c438fbfa"
      },
      "source": [
        "!wget \"https://gist.githubusercontent.com/inumanag/ebb1566746aba800899e406f03c799c1/raw/fa5bf7ba619d0f1a71cdac0406d22fc59400526b/prob9-data.txt\""
      ],
      "execution_count": null,
      "outputs": [
        {
          "output_type": "stream",
          "text": [
            "--2021-06-07 02:19:11--  https://gist.githubusercontent.com/inumanag/ebb1566746aba800899e406f03c799c1/raw/fa5bf7ba619d0f1a71cdac0406d22fc59400526b/prob9-data.txt\n",
            "Resolving gist.githubusercontent.com (gist.githubusercontent.com)... 185.199.108.133, 185.199.109.133, 185.199.110.133, ...\n",
            "Connecting to gist.githubusercontent.com (gist.githubusercontent.com)|185.199.108.133|:443... connected.\n",
            "HTTP request sent, awaiting response... 200 OK\n",
            "Length: 18275 (18K) [text/plain]\n",
            "Saving to: ‘prob9-data.txt’\n",
            "\n",
            "\rprob9-data.txt        0%[                    ]       0  --.-KB/s               \rprob9-data.txt      100%[===================>]  17.85K  --.-KB/s    in 0s      \n",
            "\n",
            "2021-06-07 02:19:11 (109 MB/s) - ‘prob9-data.txt’ saved [18275/18275]\n",
            "\n"
          ],
          "name": "stdout"
        }
      ]
    },
    {
      "cell_type": "code",
      "metadata": {
        "id": "ESOFa8n65t_E"
      },
      "source": [
        "df = pd.read_csv(\"prob9-data.txt\")"
      ],
      "execution_count": null,
      "outputs": []
    },
    {
      "cell_type": "code",
      "metadata": {
        "id": "OaH_K6g18FXb"
      },
      "source": [
        "df['X_points'] = np.arange(len(df))\n",
        "df.rename(columns = {'0.0':'Y_points'}, inplace = True)\n",
        "df = df[['X_points','Y_points']]"
      ],
      "execution_count": null,
      "outputs": []
    },
    {
      "cell_type": "code",
      "metadata": {
        "id": "2OMovn4IAoxX"
      },
      "source": [
        "X = df['X_points'].values.reshape(-1,1)\n"
      ],
      "execution_count": null,
      "outputs": []
    },
    {
      "cell_type": "code",
      "metadata": {
        "id": "mQtdYVHBBHUo"
      },
      "source": [
        "Y = df['Y_points']"
      ],
      "execution_count": null,
      "outputs": []
    },
    {
      "cell_type": "code",
      "metadata": {
        "colab": {
          "base_uri": "https://localhost:8080/"
        },
        "id": "HhBUTYNEBbs_",
        "outputId": "a2d76c00-d876-42bf-a16f-73892efac433"
      },
      "source": [
        "model = LinearRegression()\n",
        "model.fit(X, Y)"
      ],
      "execution_count": null,
      "outputs": [
        {
          "output_type": "execute_result",
          "data": {
            "text/plain": [
              "LinearRegression(copy_X=True, fit_intercept=True, n_jobs=None, normalize=False)"
            ]
          },
          "metadata": {
            "tags": []
          },
          "execution_count": 7
        }
      ]
    },
    {
      "cell_type": "code",
      "metadata": {
        "colab": {
          "base_uri": "https://localhost:8080/",
          "height": 498
        },
        "id": "QRDH2au6Bx3G",
        "outputId": "68e93b4d-478d-47e0-b848-f59a72408b61"
      },
      "source": [
        "Y_pred = model.predict(X)\n",
        "plt.figure(figsize=(12,8));\n",
        "plt.scatter(X,Y)\n",
        "plt.plot(X,Y_pred)\n",
        "plt.xlabel('X_values')\n",
        "plt.ylabel(\"Y_points\")\n",
        "plt.show();"
      ],
      "execution_count": null,
      "outputs": [
        {
          "output_type": "display_data",
          "data": {
            "image/png": "[encoded data removed]",
            "text/plain": [
              "<Figure size 864x576 with 1 Axes>"
            ]
          },
          "metadata": {
            "tags": [],
            "needs_background": "light"
          }
        }
      ]
    },
    {
      "cell_type": "markdown",
      "metadata": {
        "id": "vXax-weKWGGB"
      },
      "source": [
        "The above graph indicates that the X distribution looks very similar to the plot of a log. Therefore, the linear regression model may fit the dataset after transforming X to the logX. However, due to the presence of 0 in the dataset, log0 returns undefined value and therefore raises an error.\n",
        "\n",
        "**Hence, I have transformed the X data to log(X=1) and the below plot indicated that, linear regression nicely fits the transformed data to log(X+1). **"
      ]
    },
    {
      "cell_type": "code",
      "metadata": {
        "id": "uG1LYjfqV3ni"
      },
      "source": [
        "transformed_X = np.log(X+1)"
      ],
      "execution_count": null,
      "outputs": []
    },
    {
      "cell_type": "code",
      "metadata": {
        "colab": {
          "base_uri": "https://localhost:8080/"
        },
        "id": "FNQNL6XRW9Q4",
        "outputId": "51f69f51-53d8-4d20-b1c7-751f3f5ebfed"
      },
      "source": [
        "model1 = LinearRegression()\n",
        "model1.fit(transformed_X, Y)"
      ],
      "execution_count": null,
      "outputs": [
        {
          "output_type": "execute_result",
          "data": {
            "text/plain": [
              "LinearRegression(copy_X=True, fit_intercept=True, n_jobs=None, normalize=False)"
            ]
          },
          "metadata": {
            "tags": []
          },
          "execution_count": 14
        }
      ]
    },
    {
      "cell_type": "code",
      "metadata": {
        "colab": {
          "base_uri": "https://localhost:8080/",
          "height": 498
        },
        "id": "-GRiUXNBXBZa",
        "outputId": "2399b2f9-8d05-4961-e6a9-17e33e83d1e3"
      },
      "source": [
        "Y_pred1 = model1.predict(transformed_X)\n",
        "plt.figure(figsize=(12,8));\n",
        "plt.scatter(transformed_X,Y)\n",
        "plt.plot(transformed_X,Y_pred1)\n",
        "plt.xlabel('X_values')\n",
        "plt.ylabel(\"Y_points\")\n",
        "plt.show();"
      ],
      "execution_count": null,
      "outputs": [
        {
          "output_type": "display_data",
          "data": {
            "image/png": "[encoded data removed]",
            "text/plain": [
              "<Figure size 864x576 with 1 Axes>"
            ]
          },
          "metadata": {
            "tags": [],
            "needs_background": "light"
          }
        }
      ]
    }
  ]
}