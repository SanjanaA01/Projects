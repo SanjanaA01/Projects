{
  "nbformat": 4,
  "nbformat_minor": 0,
  "metadata": {
    "colab": {
      "name": "AroraS_11.ipynb",
      "provenance": [],
      "collapsed_sections": []
    },
    "kernelspec": {
      "name": "python3",
      "display_name": "Python 3"
    },
    "language_info": {
      "name": "python"
    }
  },
  "cells": [
    {
      "cell_type": "markdown",
      "metadata": {
        "id": "Aggbt-kvtD1W"
      },
      "source": [
        "Student: Arora, Sanjana V00966221\n",
        "\n",
        "Question 11"
      ]
    },
    {
      "cell_type": "code",
      "metadata": {
        "id": "AEDvquJQbj2n"
      },
      "source": [
        "import numpy as np\n",
        "import pandas as pd\n",
        "import sklearn\n",
        "from sklearn.linear_model import LinearRegression\n",
        "from sklearn.model_selection import train_test_split\n",
        "from sklearn.metrics import mean_absolute_error"
      ],
      "execution_count": null,
      "outputs": []
    },
    {
      "cell_type": "code",
      "metadata": {
        "colab": {
          "base_uri": "https://localhost:8080/"
        },
        "id": "VI-eSl0kcutv",
        "outputId": "4d0b0db4-c0e6-478f-c9ae-6b4f721c2a25"
      },
      "source": [
        "!wget \"https://raw.githubusercontent.com/fivethirtyeight/data/master/candy-power-ranking/candy-data.csv\"\n",
        "df = pd.read_csv(\"candy-data.csv\")"
      ],
      "execution_count": null,
      "outputs": [
        {
          "output_type": "stream",
          "text": [
            "--2021-06-07 02:38:42--  https://raw.githubusercontent.com/fivethirtyeight/data/master/candy-power-ranking/candy-data.csv\n",
            "Resolving raw.githubusercontent.com (raw.githubusercontent.com)... 185.199.110.133, 185.199.111.133, 185.199.109.133, ...\n",
            "Connecting to raw.githubusercontent.com (raw.githubusercontent.com)|185.199.110.133|:443... connected.\n",
            "HTTP request sent, awaiting response... 200 OK\n",
            "Length: 5205 (5.1K) [text/plain]\n",
            "Saving to: ‘candy-data.csv’\n",
            "\n",
            "\rcandy-data.csv        0%[                    ]       0  --.-KB/s               \rcandy-data.csv      100%[===================>]   5.08K  --.-KB/s    in 0s      \n",
            "\n",
            "2021-06-07 02:38:42 (54.0 MB/s) - ‘candy-data.csv’ saved [5205/5205]\n",
            "\n"
          ],
          "name": "stdout"
        }
      ]
    },
    {
      "cell_type": "code",
      "metadata": {
        "colab": {
          "base_uri": "https://localhost:8080/",
          "height": 224
        },
        "id": "XDUfJ-Ozczq5",
        "outputId": "1b2f8594-4f5f-46b8-95df-0d85422d573e"
      },
      "source": [
        "df.head()"
      ],
      "execution_count": null,
      "outputs": [
        {
          "output_type": "execute_result",
          "data": {
            "text/html": [
              "<div>\n",
              "<style scoped>\n",
              "    .dataframe tbody tr th:only-of-type {\n",
              "        vertical-align: middle;\n",
              "    }\n",
              "\n",
              "    .dataframe tbody tr th {\n",
              "        vertical-align: top;\n",
              "    }\n",
              "\n",
              "    .dataframe thead th {\n",
              "        text-align: right;\n",
              "    }\n",
              "</style>\n",
              "<table border=\"1\" class=\"dataframe\">\n",
              "  <thead>\n",
              "    <tr style=\"text-align: right;\">\n",
              "      <th></th>\n",
              "      <th>competitorname</th>\n",
              "      <th>chocolate</th>\n",
              "      <th>fruity</th>\n",
              "      <th>caramel</th>\n",
              "      <th>peanutyalmondy</th>\n",
              "      <th>nougat</th>\n",
              "      <th>crispedricewafer</th>\n",
              "      <th>hard</th>\n",
              "      <th>bar</th>\n",
              "      <th>pluribus</th>\n",
              "      <th>sugarpercent</th>\n",
              "      <th>pricepercent</th>\n",
              "      <th>winpercent</th>\n",
              "    </tr>\n",
              "  </thead>\n",
              "  <tbody>\n",
              "    <tr>\n",
              "      <th>0</th>\n",
              "      <td>100 Grand</td>\n",
              "      <td>1</td>\n",
              "      <td>0</td>\n",
              "      <td>1</td>\n",
              "      <td>0</td>\n",
              "      <td>0</td>\n",
              "      <td>1</td>\n",
              "      <td>0</td>\n",
              "      <td>1</td>\n",
              "      <td>0</td>\n",
              "      <td>0.732</td>\n",
              "      <td>0.860</td>\n",
              "      <td>66.971725</td>\n",
              "    </tr>\n",
              "    <tr>\n",
              "      <th>1</th>\n",
              "      <td>3 Musketeers</td>\n",
              "      <td>1</td>\n",
              "      <td>0</td>\n",
              "      <td>0</td>\n",
              "      <td>0</td>\n",
              "      <td>1</td>\n",
              "      <td>0</td>\n",
              "      <td>0</td>\n",
              "      <td>1</td>\n",
              "      <td>0</td>\n",
              "      <td>0.604</td>\n",
              "      <td>0.511</td>\n",
              "      <td>67.602936</td>\n",
              "    </tr>\n",
              "    <tr>\n",
              "      <th>2</th>\n",
              "      <td>One dime</td>\n",
              "      <td>0</td>\n",
              "      <td>0</td>\n",
              "      <td>0</td>\n",
              "      <td>0</td>\n",
              "      <td>0</td>\n",
              "      <td>0</td>\n",
              "      <td>0</td>\n",
              "      <td>0</td>\n",
              "      <td>0</td>\n",
              "      <td>0.011</td>\n",
              "      <td>0.116</td>\n",
              "      <td>32.261086</td>\n",
              "    </tr>\n",
              "    <tr>\n",
              "      <th>3</th>\n",
              "      <td>One quarter</td>\n",
              "      <td>0</td>\n",
              "      <td>0</td>\n",
              "      <td>0</td>\n",
              "      <td>0</td>\n",
              "      <td>0</td>\n",
              "      <td>0</td>\n",
              "      <td>0</td>\n",
              "      <td>0</td>\n",
              "      <td>0</td>\n",
              "      <td>0.011</td>\n",
              "      <td>0.511</td>\n",
              "      <td>46.116505</td>\n",
              "    </tr>\n",
              "    <tr>\n",
              "      <th>4</th>\n",
              "      <td>Air Heads</td>\n",
              "      <td>0</td>\n",
              "      <td>1</td>\n",
              "      <td>0</td>\n",
              "      <td>0</td>\n",
              "      <td>0</td>\n",
              "      <td>0</td>\n",
              "      <td>0</td>\n",
              "      <td>0</td>\n",
              "      <td>0</td>\n",
              "      <td>0.906</td>\n",
              "      <td>0.511</td>\n",
              "      <td>52.341465</td>\n",
              "    </tr>\n",
              "  </tbody>\n",
              "</table>\n",
              "</div>"
            ],
            "text/plain": [
              "  competitorname  chocolate  fruity  ...  sugarpercent  pricepercent  winpercent\n",
              "0      100 Grand          1       0  ...         0.732         0.860   66.971725\n",
              "1   3 Musketeers          1       0  ...         0.604         0.511   67.602936\n",
              "2       One dime          0       0  ...         0.011         0.116   32.261086\n",
              "3    One quarter          0       0  ...         0.011         0.511   46.116505\n",
              "4      Air Heads          0       1  ...         0.906         0.511   52.341465\n",
              "\n",
              "[5 rows x 13 columns]"
            ]
          },
          "metadata": {
            "tags": []
          },
          "execution_count": 3
        }
      ]
    },
    {
      "cell_type": "markdown",
      "metadata": {
        "id": "WLVTw6M7c76B"
      },
      "source": [
        "Trying to predict whether candy is a \"chocolate\" or not using linear regression. So trying to predict value of chocolate."
      ]
    },
    {
      "cell_type": "code",
      "metadata": {
        "colab": {
          "base_uri": "https://localhost:8080/"
        },
        "id": "lRa4JFVBheB_",
        "outputId": "02c40330-28c8-49ca-99a6-dac4289d8587"
      },
      "source": [
        "df.columns"
      ],
      "execution_count": null,
      "outputs": [
        {
          "output_type": "execute_result",
          "data": {
            "text/plain": [
              "Index(['competitorname', 'chocolate', 'fruity', 'caramel', 'peanutyalmondy',\n",
              "       'nougat', 'crispedricewafer', 'hard', 'bar', 'pluribus', 'sugarpercent',\n",
              "       'pricepercent', 'winpercent'],\n",
              "      dtype='object')"
            ]
          },
          "metadata": {
            "tags": []
          },
          "execution_count": 4
        }
      ]
    },
    {
      "cell_type": "code",
      "metadata": {
        "id": "Tx1ErwphhlfK"
      },
      "source": [
        "Subset = df[['fruity', 'caramel', 'peanutyalmondy',\n",
        "       'nougat', 'crispedricewafer', 'hard', 'bar', 'pluribus', 'sugarpercent',\n",
        "       'pricepercent', 'winpercent']].copy()"
      ],
      "execution_count": null,
      "outputs": []
    },
    {
      "cell_type": "code",
      "metadata": {
        "id": "vWVuzGMGhrzx"
      },
      "source": [
        "Y= df['chocolate']"
      ],
      "execution_count": null,
      "outputs": []
    },
    {
      "cell_type": "code",
      "metadata": {
        "id": "0PHvZWofiCYN"
      },
      "source": [
        "from sklearn.model_selection import train_test_split\n",
        "X_train, X_test, Y_train, Y_test = train_test_split(Subset, Y, test_size=0.3,shuffle = True)"
      ],
      "execution_count": null,
      "outputs": []
    },
    {
      "cell_type": "code",
      "metadata": {
        "id": "KgRCmKEiig91"
      },
      "source": [
        "clf = LinearRegression()"
      ],
      "execution_count": null,
      "outputs": []
    },
    {
      "cell_type": "code",
      "metadata": {
        "colab": {
          "base_uri": "https://localhost:8080/"
        },
        "id": "rhxf04n7ipEg",
        "outputId": "00ee5e88-2b66-43f5-9ad0-7eb80868c944"
      },
      "source": [
        "clf.fit(X_train, Y_train)"
      ],
      "execution_count": null,
      "outputs": [
        {
          "output_type": "execute_result",
          "data": {
            "text/plain": [
              "LinearRegression(copy_X=True, fit_intercept=True, n_jobs=None, normalize=False)"
            ]
          },
          "metadata": {
            "tags": []
          },
          "execution_count": 9
        }
      ]
    },
    {
      "cell_type": "code",
      "metadata": {
        "id": "XAbFHxCriwbE"
      },
      "source": [
        "Y_pred = clf.predict(X_train)"
      ],
      "execution_count": null,
      "outputs": []
    },
    {
      "cell_type": "code",
      "metadata": {
        "colab": {
          "base_uri": "https://localhost:8080/"
        },
        "id": "x3zJUNQfi4NW",
        "outputId": "5ab09710-342c-4745-df90-a7b57aeb48fe"
      },
      "source": [
        "#Training Mean Absolute Error\n",
        "print('The training MAE:', mean_absolute_error(Y_train, Y_pred))"
      ],
      "execution_count": null,
      "outputs": [
        {
          "output_type": "stream",
          "text": [
            "The training MAE: 0.17113453101704634\n"
          ],
          "name": "stdout"
        }
      ]
    },
    {
      "cell_type": "code",
      "metadata": {
        "id": "-DgqwdG6npot"
      },
      "source": [
        "Y_pred_test = clf.predict(X_test)"
      ],
      "execution_count": null,
      "outputs": []
    },
    {
      "cell_type": "code",
      "metadata": {
        "colab": {
          "base_uri": "https://localhost:8080/"
        },
        "id": "bN0s0jSYnm4I",
        "outputId": "60e1faef-b6bd-4f9d-d446-0c49fd303775"
      },
      "source": [
        "#Testing Mean Absolute Error\n",
        "print('The testing MAE:', mean_absolute_error(Y_test, Y_pred_test))"
      ],
      "execution_count": null,
      "outputs": [
        {
          "output_type": "stream",
          "text": [
            "The testing MAE: 0.24054777757907725\n"
          ],
          "name": "stdout"
        }
      ]
    },
    {
      "cell_type": "markdown",
      "metadata": {
        "id": "KZqV6zpvoCU4"
      },
      "source": [
        "We can use linear regression for binary classification. However, the training and testing mean absolute errors are very high.This indicates that linear regression is not best suited for binary classification. Linear regression is usually better for continuous target features. \n"
      ]
    },
    {
      "cell_type": "markdown",
      "metadata": {
        "id": "lKB93hYQ3-2j"
      },
      "source": [
        "Logistic regression is generally considered to be a better machine learning model for predicting an outcome in binary classification due to the powerful transformation of the input data using the sigmoid function. "
      ]
    },
    {
      "cell_type": "markdown",
      "metadata": {
        "id": "ilrpRssAfB08"
      },
      "source": [
        "**Implementing Gradient Descent Based Logistic Regression**\n",
        "1. Splitting the dataset\n",
        "2. Determining independent features and target feature\n",
        "3. Calculating Sigmoid\n",
        "4. Logistic Regression Classifier Function for calculating weights and intercept of the logistic regression\n",
        "5. Fit function for generating the predicted values"
      ]
    },
    {
      "cell_type": "code",
      "metadata": {
        "id": "b17_hKmJpgY8"
      },
      "source": [
        "def train_validation_split(dataset):\n",
        "    validation_split = .3\n",
        "    dataset_size = len(dataset)\n",
        "    split = int(np.floor(validation_split * dataset_size))\n",
        "    training_data = dataset.iloc[split:].reset_index(drop=True)\n",
        "    validation_data = dataset.iloc[:split].reset_index(drop=True)\n",
        "    return training_data,validation_data"
      ],
      "execution_count": null,
      "outputs": []
    },
    {
      "cell_type": "code",
      "metadata": {
        "id": "eGRW53dfqqzU"
      },
      "source": [
        "Subset1 = df[['fruity', 'caramel', 'peanutyalmondy',\n",
        "       'nougat', 'crispedricewafer', 'hard', 'pluribus', 'sugarpercent',\n",
        "       'pricepercent', 'winpercent','chocolate']].copy()"
      ],
      "execution_count": null,
      "outputs": []
    },
    {
      "cell_type": "code",
      "metadata": {
        "id": "mWj2Qx58pnrK"
      },
      "source": [
        "Subset1 = Subset1.sample(frac = 1)\n",
        "train_data = train_validation_split(Subset1)[0]\n",
        "test_data = train_validation_split(Subset1)[1]"
      ],
      "execution_count": null,
      "outputs": []
    },
    {
      "cell_type": "code",
      "metadata": {
        "id": "GTeZvfy3rOGi"
      },
      "source": [
        "X_train = train_data.iloc[:,:-1]\n",
        "Y_train = train_data['chocolate']"
      ],
      "execution_count": null,
      "outputs": []
    },
    {
      "cell_type": "code",
      "metadata": {
        "id": "Z2-7dkPswF1g"
      },
      "source": [
        "X_test = test_data.iloc[:,:-1].values\n",
        "Y_test = test_data['chocolate']"
      ],
      "execution_count": null,
      "outputs": []
    },
    {
      "cell_type": "markdown",
      "metadata": {
        "id": "PcPgV4WVyylt"
      },
      "source": [
        "**Logistic Regression from scratch**"
      ]
    },
    {
      "cell_type": "code",
      "metadata": {
        "id": "DGfcnLkzyw4Z"
      },
      "source": [
        "# Calculating sigmoid function\n",
        "def sigmoid(outcome):\n",
        "    return 1 / (1 + np.exp(-outcome))"
      ],
      "execution_count": null,
      "outputs": []
    },
    {
      "cell_type": "code",
      "metadata": {
        "id": "suAY1GQhhz4V"
      },
      "source": [
        "def log_reg(X, Y, steps, learning_rate):\n",
        "    \n",
        "    # calculating intercept\n",
        "    intercept = np.ones((len(X), 1))\n",
        "    X = np.hstack((intercept, X))\n",
        "      # initializing weights  \n",
        "    weights = np.zeros(X.shape[1])\n",
        "    \n",
        "    for i in range(steps):\n",
        "        outcome = np.dot(X, weights)\n",
        "        predictions = sigmoid(outcome)\n",
        "       \n",
        "        #calculating gradient\n",
        "        gradient = np.dot(X.T, Y - predictions)\n",
        "        # Update weights with gradient\n",
        "        weights += learning_rate * gradient\n",
        "    return weights"
      ],
      "execution_count": null,
      "outputs": []
    },
    {
      "cell_type": "code",
      "metadata": {
        "id": "lqLTGnW02k-5"
      },
      "source": [
        "#This function is used for predicting the classification result from the Logistic Regression\n",
        "def fit(X,Weights):\n",
        "\n",
        "    #matrix storing the X_input and Intercept\n",
        "    X_and_intercept_matrix = np.hstack((np.ones((len(X), 1)),X))\n",
        "    \n",
        "    # predictions                                   \n",
        "    preds = np.round(sigmoid(np.dot(X_and_intercept_matrix, Weights)))\n",
        "    \n",
        "    return preds"
      ],
      "execution_count": null,
      "outputs": []
    },
    {
      "cell_type": "code",
      "metadata": {
        "id": "5nKmWvqsZD9t"
      },
      "source": [
        "# Training the model\n",
        "calculate_weights = log_reg(X_train,Y_train,steps = 15000, learning_rate = 0.000001)\n",
        "                     "
      ],
      "execution_count": null,
      "outputs": []
    },
    {
      "cell_type": "code",
      "metadata": {
        "id": "ZNgATNC8h7gj"
      },
      "source": [
        "# generating predicted values\n",
        "Y_predlr= fit(X_train,calculate_weights)"
      ],
      "execution_count": null,
      "outputs": []
    },
    {
      "cell_type": "code",
      "metadata": {
        "id": "8l9ZHoveownR"
      },
      "source": [
        "Y_predtestlr=fit(X_test,calculate_weights)"
      ],
      "execution_count": null,
      "outputs": []
    },
    {
      "cell_type": "code",
      "metadata": {
        "colab": {
          "base_uri": "https://localhost:8080/"
        },
        "id": "S2P7n5_JpO4E",
        "outputId": "e1382a2f-426f-44ba-b7bd-a0d08b845c9d"
      },
      "source": [
        "# Training Mean Absolute Error\n",
        "np.mean(np.square(np.array(Y_predlr)-np.array(Y_train)))"
      ],
      "execution_count": null,
      "outputs": [
        {
          "output_type": "execute_result",
          "data": {
            "text/plain": [
              "0.13333333333333333"
            ]
          },
          "metadata": {
            "tags": []
          },
          "execution_count": 99
        }
      ]
    },
    {
      "cell_type": "code",
      "metadata": {
        "colab": {
          "base_uri": "https://localhost:8080/"
        },
        "id": "NkKoVAoIpmlD",
        "outputId": "9d7fb166-b394-4bbf-d902-5ae85bc2a6e9"
      },
      "source": [
        "#Testing Mean Absolute Error\n",
        "np.mean(np.square(np.array(Y_predtestlr)-np.array(Y_test)))"
      ],
      "execution_count": null,
      "outputs": [
        {
          "output_type": "execute_result",
          "data": {
            "text/plain": [
              "0.2"
            ]
          },
          "metadata": {
            "tags": []
          },
          "execution_count": 100
        }
      ]
    },
    {
      "cell_type": "markdown",
      "metadata": {
        "id": "XVOd-dPKp1_b"
      },
      "source": [
        "The training (0.133) and testing error(0.2) after using logistic regression are better than the training(0.17) and testing errors derived from(0.24) linear regression model."
      ]
    },
    {
      "cell_type": "code",
      "metadata": {
        "id": "HgVBq9wCsoHD"
      },
      "source": [
        "#Referred from https://towardsdatascience.com/logistic-regression-from-scratch-69db4f587e17"
      ],
      "execution_count": null,
      "outputs": []
    }
  ]
}