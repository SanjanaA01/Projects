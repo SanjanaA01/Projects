{
  "nbformat": 4,
  "nbformat_minor": 0,
  "metadata": {
    "colab": {
      "name": "AprioriAlgorith.ipynb",
      "provenance": [],
      "collapsed_sections": [],
      "authorship_tag": "ABX9TyPHC68Ospk2i2ZYHJj6i1g/",
      "include_colab_link": true
    },
    "kernelspec": {
      "name": "python3",
      "display_name": "Python 3"
    },
    "language_info": {
      "name": "python"
    }
  },
  "cells": [
    {
      "cell_type": "markdown",
      "metadata": {
        "id": "view-in-github",
        "colab_type": "text"
      },
      "source": [
        "<a href=\"https://colab.research.google.com/github/SanjanaA01/Projects/blob/main/AprioriAlgorith.ipynb\" target=\"_parent\"><img src=\"https://colab.research.google.com/assets/colab-badge.svg\" alt=\"Open In Colab\"/></a>"
      ]
    },
    {
      "cell_type": "markdown",
      "metadata": {
        "id": "f80Wp6DhcmDP"
      },
      "source": [
        "Student : Arora, Sanjana (V00966221)\n",
        "\n",
        "Question 3.2"
      ]
    },
    {
      "cell_type": "code",
      "metadata": {
        "colab": {
          "base_uri": "https://localhost:8080/"
        },
        "id": "RwQWaevtExrR",
        "outputId": "4071315b-0565-4836-edbc-d5e5388f3479"
      },
      "source": [
        "import numpy as np\n",
        "import matplotlib.pyplot as plt\n",
        "import pandas as pd\n",
        "!pip3 install apyori\n",
        "from apyori import apriori\n"
      ],
      "execution_count": null,
      "outputs": [
        {
          "output_type": "stream",
          "text": [
            "Collecting apyori\n",
            "  Downloading apyori-1.1.2.tar.gz (8.6 kB)\n",
            "Building wheels for collected packages: apyori\n",
            "  Building wheel for apyori (setup.py) ... \u001b[?25l\u001b[?25hdone\n",
            "  Created wheel for apyori: filename=apyori-1.1.2-py3-none-any.whl size=5975 sha256=f96d04a727f4d29120ed51f69e815cae5216329086a8ac42d1e3a2701b318684\n",
            "  Stored in directory: /root/.cache/pip/wheels/cb/f6/e1/57973c631d27efd1a2f375bd6a83b2a616c4021f24aab84080\n",
            "Successfully built apyori\n",
            "Installing collected packages: apyori\n",
            "Successfully installed apyori-1.1.2\n"
          ],
          "name": "stdout"
        }
      ]
    },
    {
      "cell_type": "markdown",
      "metadata": {
        "id": "wZpkaSpKexKw"
      },
      "source": [
        "Please upload the online retail dataset provided in the Zip file"
      ]
    },
    {
      "cell_type": "code",
      "metadata": {
        "id": "hCafgN-wAXBq"
      },
      "source": [
        "df = pd.read_excel('Online Retail.xlsx')"
      ],
      "execution_count": null,
      "outputs": []
    },
    {
      "cell_type": "code",
      "metadata": {
        "colab": {
          "base_uri": "https://localhost:8080/",
          "height": 202
        },
        "id": "5ScHoNrxEVcW",
        "outputId": "fc01cd45-715a-4583-edfb-c9e265d26646"
      },
      "source": [
        "df.head()"
      ],
      "execution_count": null,
      "outputs": [
        {
          "output_type": "execute_result",
          "data": {
            "text/html": [
              "<div>\n",
              "<style scoped>\n",
              "    .dataframe tbody tr th:only-of-type {\n",
              "        vertical-align: middle;\n",
              "    }\n",
              "\n",
              "    .dataframe tbody tr th {\n",
              "        vertical-align: top;\n",
              "    }\n",
              "\n",
              "    .dataframe thead th {\n",
              "        text-align: right;\n",
              "    }\n",
              "</style>\n",
              "<table border=\"1\" class=\"dataframe\">\n",
              "  <thead>\n",
              "    <tr style=\"text-align: right;\">\n",
              "      <th></th>\n",
              "      <th>InvoiceNo</th>\n",
              "      <th>StockCode</th>\n",
              "      <th>Description</th>\n",
              "      <th>Quantity</th>\n",
              "      <th>InvoiceDate</th>\n",
              "      <th>UnitPrice</th>\n",
              "      <th>CustomerID</th>\n",
              "      <th>Country</th>\n",
              "    </tr>\n",
              "  </thead>\n",
              "  <tbody>\n",
              "    <tr>\n",
              "      <th>0</th>\n",
              "      <td>536365</td>\n",
              "      <td>85123A</td>\n",
              "      <td>WHITE HANGING HEART T-LIGHT HOLDER</td>\n",
              "      <td>6</td>\n",
              "      <td>2010-12-01 08:26:00</td>\n",
              "      <td>2.55</td>\n",
              "      <td>17850.0</td>\n",
              "      <td>United Kingdom</td>\n",
              "    </tr>\n",
              "    <tr>\n",
              "      <th>1</th>\n",
              "      <td>536365</td>\n",
              "      <td>71053</td>\n",
              "      <td>WHITE METAL LANTERN</td>\n",
              "      <td>6</td>\n",
              "      <td>2010-12-01 08:26:00</td>\n",
              "      <td>3.39</td>\n",
              "      <td>17850.0</td>\n",
              "      <td>United Kingdom</td>\n",
              "    </tr>\n",
              "    <tr>\n",
              "      <th>2</th>\n",
              "      <td>536365</td>\n",
              "      <td>84406B</td>\n",
              "      <td>CREAM CUPID HEARTS COAT HANGER</td>\n",
              "      <td>8</td>\n",
              "      <td>2010-12-01 08:26:00</td>\n",
              "      <td>2.75</td>\n",
              "      <td>17850.0</td>\n",
              "      <td>United Kingdom</td>\n",
              "    </tr>\n",
              "    <tr>\n",
              "      <th>3</th>\n",
              "      <td>536365</td>\n",
              "      <td>84029G</td>\n",
              "      <td>KNITTED UNION FLAG HOT WATER BOTTLE</td>\n",
              "      <td>6</td>\n",
              "      <td>2010-12-01 08:26:00</td>\n",
              "      <td>3.39</td>\n",
              "      <td>17850.0</td>\n",
              "      <td>United Kingdom</td>\n",
              "    </tr>\n",
              "    <tr>\n",
              "      <th>4</th>\n",
              "      <td>536365</td>\n",
              "      <td>84029E</td>\n",
              "      <td>RED WOOLLY HOTTIE WHITE HEART.</td>\n",
              "      <td>6</td>\n",
              "      <td>2010-12-01 08:26:00</td>\n",
              "      <td>3.39</td>\n",
              "      <td>17850.0</td>\n",
              "      <td>United Kingdom</td>\n",
              "    </tr>\n",
              "  </tbody>\n",
              "</table>\n",
              "</div>"
            ],
            "text/plain": [
              "  InvoiceNo StockCode  ... CustomerID         Country\n",
              "0    536365    85123A  ...    17850.0  United Kingdom\n",
              "1    536365     71053  ...    17850.0  United Kingdom\n",
              "2    536365    84406B  ...    17850.0  United Kingdom\n",
              "3    536365    84029G  ...    17850.0  United Kingdom\n",
              "4    536365    84029E  ...    17850.0  United Kingdom\n",
              "\n",
              "[5 rows x 8 columns]"
            ]
          },
          "metadata": {
            "tags": []
          },
          "execution_count": 4
        }
      ]
    },
    {
      "cell_type": "code",
      "metadata": {
        "colab": {
          "base_uri": "https://localhost:8080/"
        },
        "id": "4fGlYvdOW95J",
        "outputId": "dc83c279-2193-4066-a5bf-553d57487ce7"
      },
      "source": [
        "df.info()"
      ],
      "execution_count": null,
      "outputs": [
        {
          "output_type": "stream",
          "text": [
            "<class 'pandas.core.frame.DataFrame'>\n",
            "RangeIndex: 541909 entries, 0 to 541908\n",
            "Data columns (total 8 columns):\n",
            " #   Column       Non-Null Count   Dtype         \n",
            "---  ------       --------------   -----         \n",
            " 0   InvoiceNo    541909 non-null  object        \n",
            " 1   StockCode    541909 non-null  object        \n",
            " 2   Description  540455 non-null  object        \n",
            " 3   Quantity     541909 non-null  int64         \n",
            " 4   InvoiceDate  541909 non-null  datetime64[ns]\n",
            " 5   UnitPrice    541909 non-null  float64       \n",
            " 6   CustomerID   406829 non-null  float64       \n",
            " 7   Country      541909 non-null  object        \n",
            "dtypes: datetime64[ns](1), float64(2), int64(1), object(4)\n",
            "memory usage: 33.1+ MB\n"
          ],
          "name": "stdout"
        }
      ]
    },
    {
      "cell_type": "code",
      "metadata": {
        "colab": {
          "base_uri": "https://localhost:8080/"
        },
        "id": "L1kzpHvjXD2y",
        "outputId": "5f81eeac-7dc2-4d52-9599-49cd506a3c8a"
      },
      "source": [
        "df.shape"
      ],
      "execution_count": null,
      "outputs": [
        {
          "output_type": "execute_result",
          "data": {
            "text/plain": [
              "(541909, 8)"
            ]
          },
          "metadata": {
            "tags": []
          },
          "execution_count": 6
        }
      ]
    },
    {
      "cell_type": "code",
      "metadata": {
        "colab": {
          "base_uri": "https://localhost:8080/"
        },
        "id": "Z3ZiMID9dgEl",
        "outputId": "2ff4f6e4-ae97-48e5-d09b-9fa785cc7ae9"
      },
      "source": [
        "np.unique(df['Country'], return_counts= True)"
      ],
      "execution_count": null,
      "outputs": [
        {
          "output_type": "execute_result",
          "data": {
            "text/plain": [
              "(array(['Australia', 'Austria', 'Bahrain', 'Belgium', 'Brazil', 'Canada',\n",
              "        'Channel Islands', 'Cyprus', 'Czech Republic', 'Denmark', 'EIRE',\n",
              "        'European Community', 'Finland', 'France', 'Germany', 'Greece',\n",
              "        'Hong Kong', 'Iceland', 'Israel', 'Italy', 'Japan', 'Lebanon',\n",
              "        'Lithuania', 'Malta', 'Netherlands', 'Norway', 'Poland',\n",
              "        'Portugal', 'RSA', 'Saudi Arabia', 'Singapore', 'Spain', 'Sweden',\n",
              "        'Switzerland', 'USA', 'United Arab Emirates', 'United Kingdom',\n",
              "        'Unspecified'], dtype=object),\n",
              " array([  1259,    401,     19,   2069,     32,    151,    758,    622,\n",
              "            30,    389,   8196,     61,    695,   8557,   9495,    146,\n",
              "           288,    182,    297,    803,    358,     45,     35,    127,\n",
              "          2371,   1086,    341,   1519,     58,     10,    229,   2533,\n",
              "           462,   2002,    291,     68, 495478,    446]))"
            ]
          },
          "metadata": {
            "tags": []
          },
          "execution_count": 7
        }
      ]
    },
    {
      "cell_type": "markdown",
      "metadata": {
        "id": "x4xE39ULd8S6"
      },
      "source": [
        "Since, the below code for making lists of list of the dataframe takes a very long time to complete, I used the data of only 5 countries to demonstrate what I have learned"
      ]
    },
    {
      "cell_type": "code",
      "metadata": {
        "colab": {
          "base_uri": "https://localhost:8080/"
        },
        "id": "cAAbRDGLgsIx",
        "outputId": "926a535c-55c5-44be-bf03-01bdd79d55d2"
      },
      "source": [
        "np.unique(df['Country'], return_counts= True)"
      ],
      "execution_count": null,
      "outputs": [
        {
          "output_type": "execute_result",
          "data": {
            "text/plain": [
              "(array(['Australia', 'Austria', 'Bahrain', 'Belgium', 'Canada',\n",
              "        'Channel Islands', 'Cyprus', 'Denmark', 'EIRE',\n",
              "        'European Community', 'Finland', 'France', 'Germany', 'Greece',\n",
              "        'Hong Kong', 'Iceland', 'Israel', 'Italy', 'Japan', 'Lithuania',\n",
              "        'Malta', 'Netherlands', 'Norway', 'Poland', 'Portugal',\n",
              "        'Saudi Arabia', 'Singapore', 'Spain', 'Sweden', 'Switzerland',\n",
              "        'USA', 'United Kingdom', 'Unspecified'], dtype=object),\n",
              " array([  1259,    401,     19,   2069,    151,    758,    622,    389,\n",
              "          8196,     61,    695,   8557,   9495,    146,    288,    182,\n",
              "           297,    803,    358,     35,    127,   2371,   1086,    341,\n",
              "          1519,     10,    229,   2533,    462,   2002,    291, 495478,\n",
              "           446]))"
            ]
          },
          "metadata": {
            "tags": []
          },
          "execution_count": 12
        }
      ]
    },
    {
      "cell_type": "code",
      "metadata": {
        "id": "ITtc4NMPiaaO"
      },
      "source": [
        "df2 = df[(df['Country'] == 'Canada') | (df['Country'] == 'Sweden') | (df['Country'] == 'Bahrain') | (df['Country'] == 'Israel') | (df['Country'] == 'Norway')].copy()"
      ],
      "execution_count": null,
      "outputs": []
    },
    {
      "cell_type": "code",
      "metadata": {
        "colab": {
          "base_uri": "https://localhost:8080/",
          "height": 416
        },
        "id": "rIdReXl8i5Qa",
        "outputId": "612d5cc6-4a13-4527-ac33-16c9aaa80635"
      },
      "source": [
        "df2.drop(['InvoiceNo', 'Description','Quantity', 'InvoiceDate','UnitPrice',], axis=1)"
      ],
      "execution_count": null,
      "outputs": [
        {
          "output_type": "execute_result",
          "data": {
            "text/html": [
              "<div>\n",
              "<style scoped>\n",
              "    .dataframe tbody tr th:only-of-type {\n",
              "        vertical-align: middle;\n",
              "    }\n",
              "\n",
              "    .dataframe tbody tr th {\n",
              "        vertical-align: top;\n",
              "    }\n",
              "\n",
              "    .dataframe thead th {\n",
              "        text-align: right;\n",
              "    }\n",
              "</style>\n",
              "<table border=\"1\" class=\"dataframe\">\n",
              "  <thead>\n",
              "    <tr style=\"text-align: right;\">\n",
              "      <th></th>\n",
              "      <th>StockCode</th>\n",
              "      <th>CustomerID</th>\n",
              "      <th>Country</th>\n",
              "    </tr>\n",
              "  </thead>\n",
              "  <tbody>\n",
              "    <tr>\n",
              "      <th>1236</th>\n",
              "      <td>84692</td>\n",
              "      <td>12433.0</td>\n",
              "      <td>Norway</td>\n",
              "    </tr>\n",
              "    <tr>\n",
              "      <th>1237</th>\n",
              "      <td>22444</td>\n",
              "      <td>12433.0</td>\n",
              "      <td>Norway</td>\n",
              "    </tr>\n",
              "    <tr>\n",
              "      <th>1238</th>\n",
              "      <td>22899</td>\n",
              "      <td>12433.0</td>\n",
              "      <td>Norway</td>\n",
              "    </tr>\n",
              "    <tr>\n",
              "      <th>1239</th>\n",
              "      <td>21156</td>\n",
              "      <td>12433.0</td>\n",
              "      <td>Norway</td>\n",
              "    </tr>\n",
              "    <tr>\n",
              "      <th>1240</th>\n",
              "      <td>22556</td>\n",
              "      <td>12433.0</td>\n",
              "      <td>Norway</td>\n",
              "    </tr>\n",
              "    <tr>\n",
              "      <th>...</th>\n",
              "      <td>...</td>\n",
              "      <td>...</td>\n",
              "      <td>...</td>\n",
              "    </tr>\n",
              "    <tr>\n",
              "      <th>540357</th>\n",
              "      <td>23358</td>\n",
              "      <td>12433.0</td>\n",
              "      <td>Norway</td>\n",
              "    </tr>\n",
              "    <tr>\n",
              "      <th>540358</th>\n",
              "      <td>23293</td>\n",
              "      <td>12433.0</td>\n",
              "      <td>Norway</td>\n",
              "    </tr>\n",
              "    <tr>\n",
              "      <th>540359</th>\n",
              "      <td>23243</td>\n",
              "      <td>12433.0</td>\n",
              "      <td>Norway</td>\n",
              "    </tr>\n",
              "    <tr>\n",
              "      <th>540360</th>\n",
              "      <td>23240</td>\n",
              "      <td>12433.0</td>\n",
              "      <td>Norway</td>\n",
              "    </tr>\n",
              "    <tr>\n",
              "      <th>540450</th>\n",
              "      <td>23571</td>\n",
              "      <td>12433.0</td>\n",
              "      <td>Norway</td>\n",
              "    </tr>\n",
              "  </tbody>\n",
              "</table>\n",
              "<p>2015 rows × 3 columns</p>\n",
              "</div>"
            ],
            "text/plain": [
              "       StockCode  CustomerID Country\n",
              "1236       84692     12433.0  Norway\n",
              "1237       22444     12433.0  Norway\n",
              "1238       22899     12433.0  Norway\n",
              "1239       21156     12433.0  Norway\n",
              "1240       22556     12433.0  Norway\n",
              "...          ...         ...     ...\n",
              "540357     23358     12433.0  Norway\n",
              "540358     23293     12433.0  Norway\n",
              "540359     23243     12433.0  Norway\n",
              "540360     23240     12433.0  Norway\n",
              "540450     23571     12433.0  Norway\n",
              "\n",
              "[2015 rows x 3 columns]"
            ]
          },
          "metadata": {
            "tags": []
          },
          "execution_count": 58
        }
      ]
    },
    {
      "cell_type": "code",
      "metadata": {
        "id": "WJai3eRwEa2c"
      },
      "source": [
        "# Data preprocessing\n",
        "records = []\n",
        "for i in range(0, 2015 ):\n",
        "    records.append([str(df2.values[i,j]) for j in range(0, 3)])\n",
        "    "
      ],
      "execution_count": null,
      "outputs": []
    },
    {
      "cell_type": "code",
      "metadata": {
        "id": "CwRvaPBgXv-V"
      },
      "source": [
        "association_rules = apriori(records, min_support=0.005, min_confidence=1, min_lift=3, min_length=2)\n",
        "association_results = list(association_rules)"
      ],
      "execution_count": null,
      "outputs": []
    },
    {
      "cell_type": "markdown",
      "metadata": {
        "id": "VvOlOQfsceKN"
      },
      "source": [
        "**Top 5 associations**"
      ]
    },
    {
      "cell_type": "code",
      "metadata": {
        "colab": {
          "base_uri": "https://localhost:8080/"
        },
        "id": "qOmUUvIZ4i9v",
        "outputId": "a2f5a407-56d7-438a-dac2-37ca7e31ea53"
      },
      "source": [
        "association_results"
      ],
      "execution_count": null,
      "outputs": [
        {
          "output_type": "execute_result",
          "data": {
            "text/plain": [
              "[RelationRecord(items=frozenset({'21731', 'RED TOADSTOOL LED NIGHT LIGHT'}), support=0.005459057071960298, ordered_statistics=[OrderedStatistic(items_base=frozenset({'21731'}), items_add=frozenset({'RED TOADSTOOL LED NIGHT LIGHT'}), confidence=1.0, lift=183.1818181818182), OrderedStatistic(items_base=frozenset({'RED TOADSTOOL LED NIGHT LIGHT'}), items_add=frozenset({'21731'}), confidence=1.0, lift=183.1818181818182)]),\n",
              " RelationRecord(items=frozenset({'REGENCY CAKESTAND 3 TIER', '22423'}), support=0.007444168734491315, ordered_statistics=[OrderedStatistic(items_base=frozenset({'22423'}), items_add=frozenset({'REGENCY CAKESTAND 3 TIER'}), confidence=1.0, lift=134.33333333333334), OrderedStatistic(items_base=frozenset({'REGENCY CAKESTAND 3 TIER'}), items_add=frozenset({'22423'}), confidence=1.0, lift=134.33333333333334)]),\n",
              " RelationRecord(items=frozenset({'SET OF 3 CAKE TINS PANTRY DESIGN ', '22720'}), support=0.010421836228287842, ordered_statistics=[OrderedStatistic(items_base=frozenset({'22720'}), items_add=frozenset({'SET OF 3 CAKE TINS PANTRY DESIGN '}), confidence=1.0, lift=95.95238095238095), OrderedStatistic(items_base=frozenset({'SET OF 3 CAKE TINS PANTRY DESIGN '}), items_add=frozenset({'22720'}), confidence=1.0, lift=95.95238095238095)]),\n",
              " RelationRecord(items=frozenset({'SET OF TEA COFFEE SUGAR TINS PANTRY', '23243'}), support=0.005459057071960298, ordered_statistics=[OrderedStatistic(items_base=frozenset({'23243'}), items_add=frozenset({'SET OF TEA COFFEE SUGAR TINS PANTRY'}), confidence=1.0, lift=183.1818181818182), OrderedStatistic(items_base=frozenset({'SET OF TEA COFFEE SUGAR TINS PANTRY'}), items_add=frozenset({'23243'}), confidence=1.0, lift=183.1818181818182)]),\n",
              " RelationRecord(items=frozenset({'POST', 'POSTAGE'}), support=0.022332506203473945, ordered_statistics=[OrderedStatistic(items_base=frozenset({'POST'}), items_add=frozenset({'POSTAGE'}), confidence=1.0, lift=44.77777777777778), OrderedStatistic(items_base=frozenset({'POSTAGE'}), items_add=frozenset({'POST'}), confidence=1.0, lift=44.77777777777778)])]"
            ]
          },
          "metadata": {
            "tags": []
          },
          "execution_count": 61
        }
      ]
    }
  ]
}