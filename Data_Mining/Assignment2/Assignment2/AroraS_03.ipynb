{
  "nbformat": 4,
  "nbformat_minor": 0,
  "metadata": {
    "colab": {
      "name": "AroraS_03.ipynb",
      "provenance": [],
      "collapsed_sections": []
    },
    "kernelspec": {
      "name": "python3",
      "display_name": "Python 3"
    },
    "language_info": {
      "name": "python"
    }
  },
  "cells": [
    {
      "cell_type": "markdown",
      "metadata": {
        "id": "OIlq4rrcUy-q"
      },
      "source": [
        "# Student : Arora, Sanjana (V00966221)\n",
        "\n",
        "Question 3"
      ]
    },
    {
      "cell_type": "code",
      "metadata": {
        "id": "KgwXvsqtVSzF"
      },
      "source": [
        "import numpy as np\n",
        "import pandas as pd"
      ],
      "execution_count": 4,
      "outputs": []
    },
    {
      "cell_type": "markdown",
      "metadata": {
        "id": "dh6jDXmfHmgM"
      },
      "source": [
        "Upload the smsspamcollection.zip folder to Google Colab"
      ]
    },
    {
      "cell_type": "code",
      "metadata": {
        "colab": {
          "base_uri": "https://localhost:8080/"
        },
        "id": "7Sud7uNHU3Fp",
        "outputId": "687b9f88-d995-4c1a-e5f9-4bdc8a2efb95"
      },
      "source": [
        "!unzip '/content/smsspamcollection.zip'"
      ],
      "execution_count": 5,
      "outputs": [
        {
          "output_type": "stream",
          "text": [
            "Archive:  /content/smsspamcollection.zip\n",
            "  inflating: SMSSpamCollection       \n",
            "  inflating: readme                  \n"
          ],
          "name": "stdout"
        }
      ]
    },
    {
      "cell_type": "code",
      "metadata": {
        "id": "QDx79_rYVemc"
      },
      "source": [
        "df =pd.read_csv('SMSSpamCollection', sep='\\t', header=None, names=['Label', 'SMS'])"
      ],
      "execution_count": 6,
      "outputs": []
    },
    {
      "cell_type": "code",
      "metadata": {
        "colab": {
          "base_uri": "https://localhost:8080/",
          "height": 204
        },
        "id": "nFXrdwOeZiGE",
        "outputId": "714648a6-4f22-432e-dfc7-7856be298763"
      },
      "source": [
        "df.head()"
      ],
      "execution_count": 7,
      "outputs": [
        {
          "output_type": "execute_result",
          "data": {
            "text/html": [
              "<div>\n",
              "<style scoped>\n",
              "    .dataframe tbody tr th:only-of-type {\n",
              "        vertical-align: middle;\n",
              "    }\n",
              "\n",
              "    .dataframe tbody tr th {\n",
              "        vertical-align: top;\n",
              "    }\n",
              "\n",
              "    .dataframe thead th {\n",
              "        text-align: right;\n",
              "    }\n",
              "</style>\n",
              "<table border=\"1\" class=\"dataframe\">\n",
              "  <thead>\n",
              "    <tr style=\"text-align: right;\">\n",
              "      <th></th>\n",
              "      <th>Label</th>\n",
              "      <th>SMS</th>\n",
              "    </tr>\n",
              "  </thead>\n",
              "  <tbody>\n",
              "    <tr>\n",
              "      <th>0</th>\n",
              "      <td>ham</td>\n",
              "      <td>Go until jurong point, crazy.. Available only ...</td>\n",
              "    </tr>\n",
              "    <tr>\n",
              "      <th>1</th>\n",
              "      <td>ham</td>\n",
              "      <td>Ok lar... Joking wif u oni...</td>\n",
              "    </tr>\n",
              "    <tr>\n",
              "      <th>2</th>\n",
              "      <td>spam</td>\n",
              "      <td>Free entry in 2 a wkly comp to win FA Cup fina...</td>\n",
              "    </tr>\n",
              "    <tr>\n",
              "      <th>3</th>\n",
              "      <td>ham</td>\n",
              "      <td>U dun say so early hor... U c already then say...</td>\n",
              "    </tr>\n",
              "    <tr>\n",
              "      <th>4</th>\n",
              "      <td>ham</td>\n",
              "      <td>Nah I don't think he goes to usf, he lives aro...</td>\n",
              "    </tr>\n",
              "  </tbody>\n",
              "</table>\n",
              "</div>"
            ],
            "text/plain": [
              "  Label                                                SMS\n",
              "0   ham  Go until jurong point, crazy.. Available only ...\n",
              "1   ham                      Ok lar... Joking wif u oni...\n",
              "2  spam  Free entry in 2 a wkly comp to win FA Cup fina...\n",
              "3   ham  U dun say so early hor... U c already then say...\n",
              "4   ham  Nah I don't think he goes to usf, he lives aro..."
            ]
          },
          "metadata": {
            "tags": []
          },
          "execution_count": 7
        }
      ]
    },
    {
      "cell_type": "code",
      "metadata": {
        "id": "mys3hJAXcYvH"
      },
      "source": [
        "df_clean = df.copy()"
      ],
      "execution_count": 8,
      "outputs": []
    },
    {
      "cell_type": "code",
      "metadata": {
        "id": "iCiGJD5Xce31"
      },
      "source": [
        "# removing the punctuation\n",
        "df_clean['SMS'] = df_clean['SMS'].str.replace('\\W', ' ')"
      ],
      "execution_count": 9,
      "outputs": []
    },
    {
      "cell_type": "code",
      "metadata": {
        "id": "y1o4xLGjc0fN"
      },
      "source": [
        "# converting the messages into lower string\n",
        "df_clean['SMS'] = df_clean['SMS'].str.lower()"
      ],
      "execution_count": 10,
      "outputs": []
    },
    {
      "cell_type": "code",
      "metadata": {
        "colab": {
          "base_uri": "https://localhost:8080/"
        },
        "id": "x3xW7n7GkP4K",
        "outputId": "fbb2a435-7ff2-4e89-b6d1-05ec8f2b0a55"
      },
      "source": [
        "df_clean['SMS'].head()"
      ],
      "execution_count": 11,
      "outputs": [
        {
          "output_type": "execute_result",
          "data": {
            "text/plain": [
              "0    go until jurong point  crazy   available only ...\n",
              "1                        ok lar    joking wif u oni   \n",
              "2    free entry in 2 a wkly comp to win fa cup fina...\n",
              "3    u dun say so early hor    u c already then say   \n",
              "4    nah i don t think he goes to usf  he lives aro...\n",
              "Name: SMS, dtype: object"
            ]
          },
          "metadata": {
            "tags": []
          },
          "execution_count": 11
        }
      ]
    },
    {
      "cell_type": "code",
      "metadata": {
        "id": "Xu8CGLrfiNsJ"
      },
      "source": [
        "df_clean['SMS'] = df_clean['SMS'].str.split()"
      ],
      "execution_count": 12,
      "outputs": []
    },
    {
      "cell_type": "code",
      "metadata": {
        "colab": {
          "base_uri": "https://localhost:8080/"
        },
        "id": "Aev_GhOQiSeB",
        "outputId": "ba5c2885-4abb-40d7-a01d-dbdb87c7870b"
      },
      "source": [
        "df_clean['SMS'].head()"
      ],
      "execution_count": 13,
      "outputs": [
        {
          "output_type": "execute_result",
          "data": {
            "text/plain": [
              "0    [go, until, jurong, point, crazy, available, o...\n",
              "1                       [ok, lar, joking, wif, u, oni]\n",
              "2    [free, entry, in, 2, a, wkly, comp, to, win, f...\n",
              "3    [u, dun, say, so, early, hor, u, c, already, t...\n",
              "4    [nah, i, don, t, think, he, goes, to, usf, he,...\n",
              "Name: SMS, dtype: object"
            ]
          },
          "metadata": {
            "tags": []
          },
          "execution_count": 13
        }
      ]
    },
    {
      "cell_type": "code",
      "metadata": {
        "colab": {
          "base_uri": "https://localhost:8080/"
        },
        "id": "1zSWx6sBlbPV",
        "outputId": "9a2a124e-be78-47cd-d930-2e3f81594319"
      },
      "source": [
        "df_clean['Label'].value_counts() / df_clean['Label'].shape[0]*100"
      ],
      "execution_count": 14,
      "outputs": [
        {
          "output_type": "execute_result",
          "data": {
            "text/plain": [
              "ham     86.593683\n",
              "spam    13.406317\n",
              "Name: Label, dtype: float64"
            ]
          },
          "metadata": {
            "tags": []
          },
          "execution_count": 14
        }
      ]
    },
    {
      "cell_type": "code",
      "metadata": {
        "id": "rjwKj2hOl1iM"
      },
      "source": [
        "# splitting the dataset into training and testing\n",
        "def train_validation_split(dataset):\n",
        "    dataset = dataset.sample(frac = 1)\n",
        "    validation_split = .3\n",
        "    dataset_size = len(dataset)\n",
        "    split = int(np.floor(validation_split * dataset_size))\n",
        "    training_data = dataset.iloc[split:].reset_index(drop=True)\n",
        "    validation_data = dataset.iloc[:split].reset_index(drop=True)\n",
        "    return training_data,validation_data"
      ],
      "execution_count": 15,
      "outputs": []
    },
    {
      "cell_type": "code",
      "metadata": {
        "id": "EH9ctSTemYB2"
      },
      "source": [
        "train_data, test_data = train_validation_split(df_clean)"
      ],
      "execution_count": 16,
      "outputs": []
    },
    {
      "cell_type": "code",
      "metadata": {
        "colab": {
          "base_uri": "https://localhost:8080/"
        },
        "id": "z1EjaFj_mX7g",
        "outputId": "fcacf2e9-92ea-482d-a312-0c3402d42a62"
      },
      "source": [
        "train_data['Label'].value_counts() / train_data.shape[0]*100"
      ],
      "execution_count": 17,
      "outputs": [
        {
          "output_type": "execute_result",
          "data": {
            "text/plain": [
              "ham     86.87516\n",
              "spam    13.12484\n",
              "Name: Label, dtype: float64"
            ]
          },
          "metadata": {
            "tags": []
          },
          "execution_count": 17
        }
      ]
    },
    {
      "cell_type": "markdown",
      "metadata": {
        "id": "3yoEcSGqnh7Q"
      },
      "source": [
        "Creating a vocabulary of the words included in the messages and counting the number of separate words in the same"
      ]
    },
    {
      "cell_type": "code",
      "metadata": {
        "id": "SZFHvmK4m5iz"
      },
      "source": [
        "vocabulary = []\n",
        "for sms in train_data['SMS']:\n",
        "   for word in sms:\n",
        "      vocabulary.append(word)\n",
        "\n",
        "vocabulary = list(set(vocabulary))"
      ],
      "execution_count": 18,
      "outputs": []
    },
    {
      "cell_type": "code",
      "metadata": {
        "colab": {
          "base_uri": "https://localhost:8080/"
        },
        "id": "CVqwX_HqnLs2",
        "outputId": "a17efa01-cfcb-43f9-d361-45d3976fc200"
      },
      "source": [
        "vocabulary[1:11]"
      ],
      "execution_count": 19,
      "outputs": [
        {
          "output_type": "execute_result",
          "data": {
            "text/plain": [
              "['voila',\n",
              " '2',\n",
              " 'slurp',\n",
              " 'mobypobox734ls27yf',\n",
              " 'bsnl',\n",
              " '09057039994',\n",
              " 'voda',\n",
              " '08717205546',\n",
              " 'waz',\n",
              " '5pm']"
            ]
          },
          "metadata": {
            "tags": []
          },
          "execution_count": 19
        }
      ]
    },
    {
      "cell_type": "code",
      "metadata": {
        "colab": {
          "base_uri": "https://localhost:8080/"
        },
        "id": "p__OCq-HnSvb",
        "outputId": "42247739-8ebb-4229-fc6b-35b7714676df"
      },
      "source": [
        "len(vocabulary)"
      ],
      "execution_count": 20,
      "outputs": [
        {
          "output_type": "execute_result",
          "data": {
            "text/plain": [
              "7209"
            ]
          },
          "metadata": {
            "tags": []
          },
          "execution_count": 20
        }
      ]
    },
    {
      "cell_type": "markdown",
      "metadata": {
        "id": "zu1gTB7tkRyX"
      },
      "source": [
        " bag of words"
      ]
    },
    {
      "cell_type": "code",
      "metadata": {
        "id": "hjssxl59n6eE"
      },
      "source": [
        "word_counts_per_sms = pd.DataFrame([[row[1].count(word) for word in vocabulary] for _, row in train_data.iterrows()], columns=vocabulary)"
      ],
      "execution_count": 21,
      "outputs": []
    },
    {
      "cell_type": "code",
      "metadata": {
        "id": "qOzdI8GqpDH5"
      },
      "source": [
        "train_data = pd.concat([train_data.reset_index(), word_counts_per_sms], axis=1).iloc[:,1:]"
      ],
      "execution_count": 22,
      "outputs": []
    },
    {
      "cell_type": "code",
      "metadata": {
        "colab": {
          "base_uri": "https://localhost:8080/",
          "height": 613
        },
        "id": "jlttQcxapHOe",
        "outputId": "72ce964f-686d-4e16-dae2-2de290a91bea"
      },
      "source": [
        "train_data.head()\n"
      ],
      "execution_count": 23,
      "outputs": [
        {
          "output_type": "execute_result",
          "data": {
            "text/html": [
              "<div>\n",
              "<style scoped>\n",
              "    .dataframe tbody tr th:only-of-type {\n",
              "        vertical-align: middle;\n",
              "    }\n",
              "\n",
              "    .dataframe tbody tr th {\n",
              "        vertical-align: top;\n",
              "    }\n",
              "\n",
              "    .dataframe thead th {\n",
              "        text-align: right;\n",
              "    }\n",
              "</style>\n",
              "<table border=\"1\" class=\"dataframe\">\n",
              "  <thead>\n",
              "    <tr style=\"text-align: right;\">\n",
              "      <th></th>\n",
              "      <th>Label</th>\n",
              "      <th>SMS</th>\n",
              "      <th>thats</th>\n",
              "      <th>voila</th>\n",
              "      <th>2</th>\n",
              "      <th>slurp</th>\n",
              "      <th>mobypobox734ls27yf</th>\n",
              "      <th>bsnl</th>\n",
              "      <th>09057039994</th>\n",
              "      <th>voda</th>\n",
              "      <th>08717205546</th>\n",
              "      <th>waz</th>\n",
              "      <th>5pm</th>\n",
              "      <th>mon</th>\n",
              "      <th>weiyi</th>\n",
              "      <th>try</th>\n",
              "      <th>account</th>\n",
              "      <th>tag</th>\n",
              "      <th>coupla</th>\n",
              "      <th>chatter</th>\n",
              "      <th>2000</th>\n",
              "      <th>9758</th>\n",
              "      <th>asked</th>\n",
              "      <th>bam</th>\n",
              "      <th>glands</th>\n",
              "      <th>bookedthe</th>\n",
              "      <th>inviting</th>\n",
              "      <th>wan</th>\n",
              "      <th>fyi</th>\n",
              "      <th>08712400200</th>\n",
              "      <th>sonyericsson</th>\n",
              "      <th>subletting</th>\n",
              "      <th>carly</th>\n",
              "      <th>night</th>\n",
              "      <th>cuppa</th>\n",
              "      <th>545</th>\n",
              "      <th>burn</th>\n",
              "      <th>abta</th>\n",
              "      <th>wasted</th>\n",
              "      <th>5</th>\n",
              "      <th>...</th>\n",
              "      <th>4years</th>\n",
              "      <th>20p</th>\n",
              "      <th>app</th>\n",
              "      <th>yaxx</th>\n",
              "      <th>ettans</th>\n",
              "      <th>hppnss</th>\n",
              "      <th>4a</th>\n",
              "      <th>secs</th>\n",
              "      <th>07753741225</th>\n",
              "      <th>dracula</th>\n",
              "      <th>nigh</th>\n",
              "      <th>touch</th>\n",
              "      <th>coz</th>\n",
              "      <th>once</th>\n",
              "      <th>uniform</th>\n",
              "      <th>site</th>\n",
              "      <th>pathaya</th>\n",
              "      <th>b4280703</th>\n",
              "      <th>concentrating</th>\n",
              "      <th>credits</th>\n",
              "      <th>victors</th>\n",
              "      <th>html</th>\n",
              "      <th>piece</th>\n",
              "      <th>aig</th>\n",
              "      <th>ip4</th>\n",
              "      <th>bbq</th>\n",
              "      <th>divorce</th>\n",
              "      <th>tunji</th>\n",
              "      <th>sdryb8i</th>\n",
              "      <th>140ppm</th>\n",
              "      <th>seriously</th>\n",
              "      <th>unconvinced</th>\n",
              "      <th>fren</th>\n",
              "      <th>stories</th>\n",
              "      <th>deleted</th>\n",
              "      <th>1lemon</th>\n",
              "      <th>two</th>\n",
              "      <th>hits</th>\n",
              "      <th>academic</th>\n",
              "      <th>temales</th>\n",
              "    </tr>\n",
              "  </thead>\n",
              "  <tbody>\n",
              "    <tr>\n",
              "      <th>0</th>\n",
              "      <td>ham</td>\n",
              "      <td>[hi, its, kate, how, is, your, evening, i, hop...</td>\n",
              "      <td>0</td>\n",
              "      <td>0</td>\n",
              "      <td>0</td>\n",
              "      <td>0</td>\n",
              "      <td>0</td>\n",
              "      <td>0</td>\n",
              "      <td>0</td>\n",
              "      <td>0</td>\n",
              "      <td>0</td>\n",
              "      <td>0</td>\n",
              "      <td>0</td>\n",
              "      <td>0</td>\n",
              "      <td>0</td>\n",
              "      <td>0</td>\n",
              "      <td>0</td>\n",
              "      <td>0</td>\n",
              "      <td>0</td>\n",
              "      <td>0</td>\n",
              "      <td>0</td>\n",
              "      <td>0</td>\n",
              "      <td>0</td>\n",
              "      <td>0</td>\n",
              "      <td>0</td>\n",
              "      <td>0</td>\n",
              "      <td>0</td>\n",
              "      <td>0</td>\n",
              "      <td>0</td>\n",
              "      <td>0</td>\n",
              "      <td>0</td>\n",
              "      <td>0</td>\n",
              "      <td>0</td>\n",
              "      <td>0</td>\n",
              "      <td>0</td>\n",
              "      <td>0</td>\n",
              "      <td>0</td>\n",
              "      <td>0</td>\n",
              "      <td>0</td>\n",
              "      <td>0</td>\n",
              "      <td>...</td>\n",
              "      <td>0</td>\n",
              "      <td>0</td>\n",
              "      <td>0</td>\n",
              "      <td>0</td>\n",
              "      <td>0</td>\n",
              "      <td>0</td>\n",
              "      <td>0</td>\n",
              "      <td>0</td>\n",
              "      <td>0</td>\n",
              "      <td>0</td>\n",
              "      <td>0</td>\n",
              "      <td>0</td>\n",
              "      <td>0</td>\n",
              "      <td>0</td>\n",
              "      <td>0</td>\n",
              "      <td>0</td>\n",
              "      <td>0</td>\n",
              "      <td>0</td>\n",
              "      <td>0</td>\n",
              "      <td>0</td>\n",
              "      <td>0</td>\n",
              "      <td>0</td>\n",
              "      <td>0</td>\n",
              "      <td>0</td>\n",
              "      <td>0</td>\n",
              "      <td>0</td>\n",
              "      <td>0</td>\n",
              "      <td>0</td>\n",
              "      <td>0</td>\n",
              "      <td>0</td>\n",
              "      <td>0</td>\n",
              "      <td>0</td>\n",
              "      <td>0</td>\n",
              "      <td>0</td>\n",
              "      <td>0</td>\n",
              "      <td>0</td>\n",
              "      <td>0</td>\n",
              "      <td>0</td>\n",
              "      <td>0</td>\n",
              "      <td>0</td>\n",
              "    </tr>\n",
              "    <tr>\n",
              "      <th>1</th>\n",
              "      <td>ham</td>\n",
              "      <td>[i, can, do, that, i, want, to, please, you, b...</td>\n",
              "      <td>0</td>\n",
              "      <td>0</td>\n",
              "      <td>0</td>\n",
              "      <td>0</td>\n",
              "      <td>0</td>\n",
              "      <td>0</td>\n",
              "      <td>0</td>\n",
              "      <td>0</td>\n",
              "      <td>0</td>\n",
              "      <td>0</td>\n",
              "      <td>0</td>\n",
              "      <td>0</td>\n",
              "      <td>0</td>\n",
              "      <td>0</td>\n",
              "      <td>0</td>\n",
              "      <td>0</td>\n",
              "      <td>0</td>\n",
              "      <td>0</td>\n",
              "      <td>0</td>\n",
              "      <td>0</td>\n",
              "      <td>0</td>\n",
              "      <td>0</td>\n",
              "      <td>0</td>\n",
              "      <td>0</td>\n",
              "      <td>0</td>\n",
              "      <td>0</td>\n",
              "      <td>0</td>\n",
              "      <td>0</td>\n",
              "      <td>0</td>\n",
              "      <td>0</td>\n",
              "      <td>0</td>\n",
              "      <td>0</td>\n",
              "      <td>0</td>\n",
              "      <td>0</td>\n",
              "      <td>0</td>\n",
              "      <td>0</td>\n",
              "      <td>0</td>\n",
              "      <td>0</td>\n",
              "      <td>...</td>\n",
              "      <td>0</td>\n",
              "      <td>0</td>\n",
              "      <td>0</td>\n",
              "      <td>0</td>\n",
              "      <td>0</td>\n",
              "      <td>0</td>\n",
              "      <td>0</td>\n",
              "      <td>0</td>\n",
              "      <td>0</td>\n",
              "      <td>0</td>\n",
              "      <td>0</td>\n",
              "      <td>0</td>\n",
              "      <td>0</td>\n",
              "      <td>0</td>\n",
              "      <td>0</td>\n",
              "      <td>0</td>\n",
              "      <td>0</td>\n",
              "      <td>0</td>\n",
              "      <td>0</td>\n",
              "      <td>0</td>\n",
              "      <td>0</td>\n",
              "      <td>0</td>\n",
              "      <td>0</td>\n",
              "      <td>0</td>\n",
              "      <td>0</td>\n",
              "      <td>0</td>\n",
              "      <td>0</td>\n",
              "      <td>0</td>\n",
              "      <td>0</td>\n",
              "      <td>0</td>\n",
              "      <td>0</td>\n",
              "      <td>0</td>\n",
              "      <td>0</td>\n",
              "      <td>0</td>\n",
              "      <td>0</td>\n",
              "      <td>0</td>\n",
              "      <td>0</td>\n",
              "      <td>0</td>\n",
              "      <td>0</td>\n",
              "      <td>0</td>\n",
              "    </tr>\n",
              "    <tr>\n",
              "      <th>2</th>\n",
              "      <td>ham</td>\n",
              "      <td>[got, it, seventeen, pounds, for, seven, hundr...</td>\n",
              "      <td>0</td>\n",
              "      <td>0</td>\n",
              "      <td>0</td>\n",
              "      <td>0</td>\n",
              "      <td>0</td>\n",
              "      <td>0</td>\n",
              "      <td>0</td>\n",
              "      <td>0</td>\n",
              "      <td>0</td>\n",
              "      <td>0</td>\n",
              "      <td>0</td>\n",
              "      <td>0</td>\n",
              "      <td>0</td>\n",
              "      <td>0</td>\n",
              "      <td>0</td>\n",
              "      <td>0</td>\n",
              "      <td>0</td>\n",
              "      <td>0</td>\n",
              "      <td>0</td>\n",
              "      <td>0</td>\n",
              "      <td>0</td>\n",
              "      <td>0</td>\n",
              "      <td>0</td>\n",
              "      <td>0</td>\n",
              "      <td>0</td>\n",
              "      <td>0</td>\n",
              "      <td>0</td>\n",
              "      <td>0</td>\n",
              "      <td>0</td>\n",
              "      <td>0</td>\n",
              "      <td>0</td>\n",
              "      <td>0</td>\n",
              "      <td>0</td>\n",
              "      <td>0</td>\n",
              "      <td>0</td>\n",
              "      <td>0</td>\n",
              "      <td>0</td>\n",
              "      <td>0</td>\n",
              "      <td>...</td>\n",
              "      <td>0</td>\n",
              "      <td>0</td>\n",
              "      <td>0</td>\n",
              "      <td>0</td>\n",
              "      <td>0</td>\n",
              "      <td>0</td>\n",
              "      <td>0</td>\n",
              "      <td>0</td>\n",
              "      <td>0</td>\n",
              "      <td>0</td>\n",
              "      <td>0</td>\n",
              "      <td>0</td>\n",
              "      <td>0</td>\n",
              "      <td>0</td>\n",
              "      <td>0</td>\n",
              "      <td>0</td>\n",
              "      <td>0</td>\n",
              "      <td>0</td>\n",
              "      <td>0</td>\n",
              "      <td>0</td>\n",
              "      <td>0</td>\n",
              "      <td>0</td>\n",
              "      <td>0</td>\n",
              "      <td>0</td>\n",
              "      <td>0</td>\n",
              "      <td>0</td>\n",
              "      <td>0</td>\n",
              "      <td>0</td>\n",
              "      <td>0</td>\n",
              "      <td>0</td>\n",
              "      <td>0</td>\n",
              "      <td>0</td>\n",
              "      <td>0</td>\n",
              "      <td>0</td>\n",
              "      <td>0</td>\n",
              "      <td>0</td>\n",
              "      <td>0</td>\n",
              "      <td>0</td>\n",
              "      <td>0</td>\n",
              "      <td>0</td>\n",
              "    </tr>\n",
              "    <tr>\n",
              "      <th>3</th>\n",
              "      <td>ham</td>\n",
              "      <td>[hi, hope, ur, day, good, back, from, walk, ta...</td>\n",
              "      <td>0</td>\n",
              "      <td>0</td>\n",
              "      <td>0</td>\n",
              "      <td>0</td>\n",
              "      <td>0</td>\n",
              "      <td>0</td>\n",
              "      <td>0</td>\n",
              "      <td>0</td>\n",
              "      <td>0</td>\n",
              "      <td>0</td>\n",
              "      <td>0</td>\n",
              "      <td>0</td>\n",
              "      <td>0</td>\n",
              "      <td>0</td>\n",
              "      <td>0</td>\n",
              "      <td>0</td>\n",
              "      <td>0</td>\n",
              "      <td>0</td>\n",
              "      <td>0</td>\n",
              "      <td>0</td>\n",
              "      <td>0</td>\n",
              "      <td>0</td>\n",
              "      <td>0</td>\n",
              "      <td>0</td>\n",
              "      <td>0</td>\n",
              "      <td>0</td>\n",
              "      <td>0</td>\n",
              "      <td>0</td>\n",
              "      <td>0</td>\n",
              "      <td>0</td>\n",
              "      <td>0</td>\n",
              "      <td>0</td>\n",
              "      <td>0</td>\n",
              "      <td>0</td>\n",
              "      <td>0</td>\n",
              "      <td>0</td>\n",
              "      <td>0</td>\n",
              "      <td>0</td>\n",
              "      <td>...</td>\n",
              "      <td>0</td>\n",
              "      <td>0</td>\n",
              "      <td>0</td>\n",
              "      <td>0</td>\n",
              "      <td>0</td>\n",
              "      <td>0</td>\n",
              "      <td>0</td>\n",
              "      <td>0</td>\n",
              "      <td>0</td>\n",
              "      <td>0</td>\n",
              "      <td>0</td>\n",
              "      <td>0</td>\n",
              "      <td>0</td>\n",
              "      <td>0</td>\n",
              "      <td>0</td>\n",
              "      <td>0</td>\n",
              "      <td>0</td>\n",
              "      <td>0</td>\n",
              "      <td>0</td>\n",
              "      <td>0</td>\n",
              "      <td>0</td>\n",
              "      <td>0</td>\n",
              "      <td>0</td>\n",
              "      <td>0</td>\n",
              "      <td>0</td>\n",
              "      <td>0</td>\n",
              "      <td>0</td>\n",
              "      <td>0</td>\n",
              "      <td>0</td>\n",
              "      <td>0</td>\n",
              "      <td>0</td>\n",
              "      <td>0</td>\n",
              "      <td>0</td>\n",
              "      <td>0</td>\n",
              "      <td>0</td>\n",
              "      <td>0</td>\n",
              "      <td>0</td>\n",
              "      <td>0</td>\n",
              "      <td>0</td>\n",
              "      <td>0</td>\n",
              "    </tr>\n",
              "    <tr>\n",
              "      <th>4</th>\n",
              "      <td>ham</td>\n",
              "      <td>[easy, ah, sen, got, selected, means, its, good]</td>\n",
              "      <td>0</td>\n",
              "      <td>0</td>\n",
              "      <td>0</td>\n",
              "      <td>0</td>\n",
              "      <td>0</td>\n",
              "      <td>0</td>\n",
              "      <td>0</td>\n",
              "      <td>0</td>\n",
              "      <td>0</td>\n",
              "      <td>0</td>\n",
              "      <td>0</td>\n",
              "      <td>0</td>\n",
              "      <td>0</td>\n",
              "      <td>0</td>\n",
              "      <td>0</td>\n",
              "      <td>0</td>\n",
              "      <td>0</td>\n",
              "      <td>0</td>\n",
              "      <td>0</td>\n",
              "      <td>0</td>\n",
              "      <td>0</td>\n",
              "      <td>0</td>\n",
              "      <td>0</td>\n",
              "      <td>0</td>\n",
              "      <td>0</td>\n",
              "      <td>0</td>\n",
              "      <td>0</td>\n",
              "      <td>0</td>\n",
              "      <td>0</td>\n",
              "      <td>0</td>\n",
              "      <td>0</td>\n",
              "      <td>0</td>\n",
              "      <td>0</td>\n",
              "      <td>0</td>\n",
              "      <td>0</td>\n",
              "      <td>0</td>\n",
              "      <td>0</td>\n",
              "      <td>0</td>\n",
              "      <td>...</td>\n",
              "      <td>0</td>\n",
              "      <td>0</td>\n",
              "      <td>0</td>\n",
              "      <td>0</td>\n",
              "      <td>0</td>\n",
              "      <td>0</td>\n",
              "      <td>0</td>\n",
              "      <td>0</td>\n",
              "      <td>0</td>\n",
              "      <td>0</td>\n",
              "      <td>0</td>\n",
              "      <td>0</td>\n",
              "      <td>0</td>\n",
              "      <td>0</td>\n",
              "      <td>0</td>\n",
              "      <td>0</td>\n",
              "      <td>0</td>\n",
              "      <td>0</td>\n",
              "      <td>0</td>\n",
              "      <td>0</td>\n",
              "      <td>0</td>\n",
              "      <td>0</td>\n",
              "      <td>0</td>\n",
              "      <td>0</td>\n",
              "      <td>0</td>\n",
              "      <td>0</td>\n",
              "      <td>0</td>\n",
              "      <td>0</td>\n",
              "      <td>0</td>\n",
              "      <td>0</td>\n",
              "      <td>0</td>\n",
              "      <td>0</td>\n",
              "      <td>0</td>\n",
              "      <td>0</td>\n",
              "      <td>0</td>\n",
              "      <td>0</td>\n",
              "      <td>0</td>\n",
              "      <td>0</td>\n",
              "      <td>0</td>\n",
              "      <td>0</td>\n",
              "    </tr>\n",
              "  </tbody>\n",
              "</table>\n",
              "<p>5 rows × 7211 columns</p>\n",
              "</div>"
            ],
            "text/plain": [
              "  Label                                                SMS  ...  academic  temales\n",
              "0   ham  [hi, its, kate, how, is, your, evening, i, hop...  ...         0        0\n",
              "1   ham  [i, can, do, that, i, want, to, please, you, b...  ...         0        0\n",
              "2   ham  [got, it, seventeen, pounds, for, seven, hundr...  ...         0        0\n",
              "3   ham  [hi, hope, ur, day, good, back, from, walk, ta...  ...         0        0\n",
              "4   ham   [easy, ah, sen, got, selected, means, its, good]  ...         0        0\n",
              "\n",
              "[5 rows x 7211 columns]"
            ]
          },
          "metadata": {
            "tags": []
          },
          "execution_count": 23
        }
      ]
    },
    {
      "cell_type": "markdown",
      "metadata": {
        "id": "f27CAdOnqKQa"
      },
      "source": [
        "Probability of message to be Spam"
      ]
    },
    {
      "cell_type": "code",
      "metadata": {
        "id": "5UMn2Maup9mj"
      },
      "source": [
        "spam_number = train_data['Label'].value_counts()['spam']\n",
        "Pspam = spam_number / train_data.shape[0]"
      ],
      "execution_count": 24,
      "outputs": []
    },
    {
      "cell_type": "markdown",
      "metadata": {
        "id": "Sy5vjLkWqLbd"
      },
      "source": [
        "Probability of message to be Non-Spam"
      ]
    },
    {
      "cell_type": "code",
      "metadata": {
        "id": "uEqHbvmDqOMZ"
      },
      "source": [
        "ham_number = train_data['Label'].value_counts()['ham']\n",
        "Pham = ham_number / train_data.shape[0]"
      ],
      "execution_count": 25,
      "outputs": []
    },
    {
      "cell_type": "markdown",
      "metadata": {
        "id": "RLDjZLZvqV_-"
      },
      "source": [
        "Number of words in Spam Messages"
      ]
    },
    {
      "cell_type": "code",
      "metadata": {
        "id": "M97FNGJpqz9e"
      },
      "source": [
        "Nspam = len((train_data.loc[train_data['Label'] == 'spam', 'SMS']).sum())"
      ],
      "execution_count": 26,
      "outputs": []
    },
    {
      "cell_type": "markdown",
      "metadata": {
        "id": "-TUcOc5CqkYU"
      },
      "source": [
        "Number of words in Non-Spam Messages"
      ]
    },
    {
      "cell_type": "code",
      "metadata": {
        "id": "BjYAuwwkqleU"
      },
      "source": [
        "Nham = len(train_data.loc[train_data['Label'] == 'ham','SMS'].sum())\n",
        "                      "
      ],
      "execution_count": 27,
      "outputs": []
    },
    {
      "cell_type": "markdown",
      "metadata": {
        "id": "JyJVjbn7qxLT"
      },
      "source": [
        "Size of the Vocabulary"
      ]
    },
    {
      "cell_type": "code",
      "metadata": {
        "id": "lV--HKYUquKb"
      },
      "source": [
        "Nvoc = len(vocabulary)"
      ],
      "execution_count": 28,
      "outputs": []
    },
    {
      "cell_type": "code",
      "metadata": {
        "id": "nnemdwCwrJFc"
      },
      "source": [
        "# coefficient for the cases when a word is absent in the message\n",
        "alpha = 1"
      ],
      "execution_count": 29,
      "outputs": []
    },
    {
      "cell_type": "code",
      "metadata": {
        "id": "SrUHzDPUrOZl"
      },
      "source": [
        "# calculating the probability of a word present in spam messages\n",
        "\n",
        "def p_w_spam(word):\n",
        "    if word in train_data.columns:\n",
        "        p_w_spam = (train_data.loc[train_data['Label'] == 'spam', word].sum() + alpha) / (Nspam + alpha*Nvoc)\n",
        "        return p_w_spam\n",
        "    else:\n",
        "        return 1   "
      ],
      "execution_count": 30,
      "outputs": []
    },
    {
      "cell_type": "code",
      "metadata": {
        "id": "YY0Bu-XQrS-s"
      },
      "source": [
        "# calculating the probability of a word present in non-spam messages\n",
        "def p_w_ham(word):\n",
        "    if word in train_data.columns:\n",
        "        return (train_data.loc[train_data['Label'] == 'ham', word].sum() + alpha) / (Nham + alpha*Nvoc)\n",
        "    else:\n",
        "        return 1"
      ],
      "execution_count": 31,
      "outputs": []
    },
    {
      "cell_type": "code",
      "metadata": {
        "id": "INl8lDNaraPb"
      },
      "source": [
        "def bayes_classifier(message):\n",
        "    p_spam_message = Pspam\n",
        "    p_ham_message = Pham\n",
        "    for word in message:\n",
        "        p_spam_message *= p_w_spam(word)\n",
        "        p_ham_message *= p_w_ham(word)\n",
        "    if p_ham_message > p_spam_message:\n",
        "        return 'ham'\n",
        "    elif p_ham_message < p_spam_message:\n",
        "        return 'spam'"
      ],
      "execution_count": 32,
      "outputs": []
    },
    {
      "cell_type": "code",
      "metadata": {
        "colab": {
          "base_uri": "https://localhost:8080/",
          "height": 35
        },
        "id": "Iawug4J_reyW",
        "outputId": "09a7b305-b245-4aa3-a892-bb6c19823e89"
      },
      "source": [
        "bayes_classifier('secret')"
      ],
      "execution_count": 33,
      "outputs": [
        {
          "output_type": "execute_result",
          "data": {
            "application/vnd.google.colaboratory.intrinsic+json": {
              "type": "string"
            },
            "text/plain": [
              "'ham'"
            ]
          },
          "metadata": {
            "tags": []
          },
          "execution_count": 33
        }
      ]
    },
    {
      "cell_type": "code",
      "metadata": {
        "colab": {
          "base_uri": "https://localhost:8080/",
          "height": 35
        },
        "id": "YzMUoCqsrkLa",
        "outputId": "9f7fea78-9a81-46fd-fba3-a9c2ce10f60b"
      },
      "source": [
        "bayes_classifier(['secret', 'source', 'of', 'infinite', 'power'])"
      ],
      "execution_count": 34,
      "outputs": [
        {
          "output_type": "execute_result",
          "data": {
            "application/vnd.google.colaboratory.intrinsic+json": {
              "type": "string"
            },
            "text/plain": [
              "'ham'"
            ]
          },
          "metadata": {
            "tags": []
          },
          "execution_count": 34
        }
      ]
    },
    {
      "cell_type": "code",
      "metadata": {
        "id": "Rf434KvKrpYM"
      },
      "source": [
        "test_data['predicted'] = test_data['SMS'].apply(bayes_classifier)"
      ],
      "execution_count": 35,
      "outputs": []
    },
    {
      "cell_type": "code",
      "metadata": {
        "colab": {
          "base_uri": "https://localhost:8080/",
          "height": 204
        },
        "id": "J45BOEcar1Ai",
        "outputId": "3921ea14-a57c-445f-c54b-ca7ecb96ec77"
      },
      "source": [
        "test_data.head()"
      ],
      "execution_count": 36,
      "outputs": [
        {
          "output_type": "execute_result",
          "data": {
            "text/html": [
              "<div>\n",
              "<style scoped>\n",
              "    .dataframe tbody tr th:only-of-type {\n",
              "        vertical-align: middle;\n",
              "    }\n",
              "\n",
              "    .dataframe tbody tr th {\n",
              "        vertical-align: top;\n",
              "    }\n",
              "\n",
              "    .dataframe thead th {\n",
              "        text-align: right;\n",
              "    }\n",
              "</style>\n",
              "<table border=\"1\" class=\"dataframe\">\n",
              "  <thead>\n",
              "    <tr style=\"text-align: right;\">\n",
              "      <th></th>\n",
              "      <th>Label</th>\n",
              "      <th>SMS</th>\n",
              "      <th>predicted</th>\n",
              "    </tr>\n",
              "  </thead>\n",
              "  <tbody>\n",
              "    <tr>\n",
              "      <th>0</th>\n",
              "      <td>ham</td>\n",
              "      <td>[am, slow, in, using, biola, s, fne]</td>\n",
              "      <td>ham</td>\n",
              "    </tr>\n",
              "    <tr>\n",
              "      <th>1</th>\n",
              "      <td>ham</td>\n",
              "      <td>[tap, spile, at, seven, is, that, pub, on, gas...</td>\n",
              "      <td>ham</td>\n",
              "    </tr>\n",
              "    <tr>\n",
              "      <th>2</th>\n",
              "      <td>ham</td>\n",
              "      <td>[first, answer, my, question]</td>\n",
              "      <td>ham</td>\n",
              "    </tr>\n",
              "    <tr>\n",
              "      <th>3</th>\n",
              "      <td>ham</td>\n",
              "      <td>[tomarrow, i, want, to, got, to, court, at, lt...</td>\n",
              "      <td>ham</td>\n",
              "    </tr>\n",
              "    <tr>\n",
              "      <th>4</th>\n",
              "      <td>ham</td>\n",
              "      <td>[r, u, here, yet, i, m, wearing, blue, shirt, ...</td>\n",
              "      <td>ham</td>\n",
              "    </tr>\n",
              "  </tbody>\n",
              "</table>\n",
              "</div>"
            ],
            "text/plain": [
              "  Label                                                SMS predicted\n",
              "0   ham               [am, slow, in, using, biola, s, fne]       ham\n",
              "1   ham  [tap, spile, at, seven, is, that, pub, on, gas...       ham\n",
              "2   ham                      [first, answer, my, question]       ham\n",
              "3   ham  [tomarrow, i, want, to, got, to, court, at, lt...       ham\n",
              "4   ham  [r, u, here, yet, i, m, wearing, blue, shirt, ...       ham"
            ]
          },
          "metadata": {
            "tags": []
          },
          "execution_count": 36
        }
      ]
    },
    {
      "cell_type": "code",
      "metadata": {
        "id": "IfeCZibar79P"
      },
      "source": [
        "# calculating the testing accuracy\n",
        "correct = (test_data['predicted'] == test_data['Label']).sum() / test_data.shape[0] * 100"
      ],
      "execution_count": 37,
      "outputs": []
    },
    {
      "cell_type": "code",
      "metadata": {
        "colab": {
          "base_uri": "https://localhost:8080/",
          "height": 764
        },
        "id": "Y0s7eR-XsAMZ",
        "outputId": "3e0fca27-ed11-4c14-d1da-fbf17e3121ef"
      },
      "source": [
        "# misclassified dataset\n",
        "test_data.loc[test_data['predicted'] != test_data['Label']]"
      ],
      "execution_count": 38,
      "outputs": [
        {
          "output_type": "execute_result",
          "data": {
            "text/html": [
              "<div>\n",
              "<style scoped>\n",
              "    .dataframe tbody tr th:only-of-type {\n",
              "        vertical-align: middle;\n",
              "    }\n",
              "\n",
              "    .dataframe tbody tr th {\n",
              "        vertical-align: top;\n",
              "    }\n",
              "\n",
              "    .dataframe thead th {\n",
              "        text-align: right;\n",
              "    }\n",
              "</style>\n",
              "<table border=\"1\" class=\"dataframe\">\n",
              "  <thead>\n",
              "    <tr style=\"text-align: right;\">\n",
              "      <th></th>\n",
              "      <th>Label</th>\n",
              "      <th>SMS</th>\n",
              "      <th>predicted</th>\n",
              "    </tr>\n",
              "  </thead>\n",
              "  <tbody>\n",
              "    <tr>\n",
              "      <th>161</th>\n",
              "      <td>spam</td>\n",
              "      <td>[babe, u, want, me, dont, u, baby, im, nasty, ...</td>\n",
              "      <td>ham</td>\n",
              "    </tr>\n",
              "    <tr>\n",
              "      <th>205</th>\n",
              "      <td>spam</td>\n",
              "      <td>[you, won, t, believe, it, but, it, s, true, i...</td>\n",
              "      <td>ham</td>\n",
              "    </tr>\n",
              "    <tr>\n",
              "      <th>207</th>\n",
              "      <td>ham</td>\n",
              "      <td>[gettin, rdy, to, ship, comp]</td>\n",
              "      <td>spam</td>\n",
              "    </tr>\n",
              "    <tr>\n",
              "      <th>254</th>\n",
              "      <td>spam</td>\n",
              "      <td>[rct, thnq, adrian, for, u, text, rgds, vatian]</td>\n",
              "      <td>ham</td>\n",
              "    </tr>\n",
              "    <tr>\n",
              "      <th>264</th>\n",
              "      <td>ham</td>\n",
              "      <td>[mathews, or, tait, or, edwards, or, anderson]</td>\n",
              "      <td>spam</td>\n",
              "    </tr>\n",
              "    <tr>\n",
              "      <th>532</th>\n",
              "      <td>spam</td>\n",
              "      <td>[0a, networks, allow, companies, to, bill, for...</td>\n",
              "      <td>ham</td>\n",
              "    </tr>\n",
              "    <tr>\n",
              "      <th>548</th>\n",
              "      <td>spam</td>\n",
              "      <td>[check, out, choose, your, babe, videos, sms, ...</td>\n",
              "      <td>ham</td>\n",
              "    </tr>\n",
              "    <tr>\n",
              "      <th>584</th>\n",
              "      <td>spam</td>\n",
              "      <td>[i, want, some, cock, my, hubby, s, away, i, n...</td>\n",
              "      <td>ham</td>\n",
              "    </tr>\n",
              "    <tr>\n",
              "      <th>770</th>\n",
              "      <td>spam</td>\n",
              "      <td>[dating, i, have, had, two, of, these, only, s...</td>\n",
              "      <td>ham</td>\n",
              "    </tr>\n",
              "    <tr>\n",
              "      <th>790</th>\n",
              "      <td>spam</td>\n",
              "      <td>[how, come, it, takes, so, little, time, for, ...</td>\n",
              "      <td>ham</td>\n",
              "    </tr>\n",
              "    <tr>\n",
              "      <th>793</th>\n",
              "      <td>spam</td>\n",
              "      <td>[you, won, t, believe, it, but, it, s, true, i...</td>\n",
              "      <td>ham</td>\n",
              "    </tr>\n",
              "    <tr>\n",
              "      <th>870</th>\n",
              "      <td>spam</td>\n",
              "      <td>[tbs, persolvo, been, chasing, us, since, sept...</td>\n",
              "      <td>ham</td>\n",
              "    </tr>\n",
              "    <tr>\n",
              "      <th>964</th>\n",
              "      <td>ham</td>\n",
              "      <td>[wiskey, brandy, rum, gin, beer, vodka, scotch...</td>\n",
              "      <td>spam</td>\n",
              "    </tr>\n",
              "    <tr>\n",
              "      <th>990</th>\n",
              "      <td>spam</td>\n",
              "      <td>[asked, 3mobile, if, 0870, chatlines, inclu, i...</td>\n",
              "      <td>ham</td>\n",
              "    </tr>\n",
              "    <tr>\n",
              "      <th>1004</th>\n",
              "      <td>spam</td>\n",
              "      <td>[lookatme, thanks, for, your, purchase, of, a,...</td>\n",
              "      <td>ham</td>\n",
              "    </tr>\n",
              "    <tr>\n",
              "      <th>1012</th>\n",
              "      <td>ham</td>\n",
              "      <td>[finally, the, match, heading, towards, draw, ...</td>\n",
              "      <td>spam</td>\n",
              "    </tr>\n",
              "    <tr>\n",
              "      <th>1098</th>\n",
              "      <td>spam</td>\n",
              "      <td>[for, sale, arsenal, dartboard, good, conditio...</td>\n",
              "      <td>ham</td>\n",
              "    </tr>\n",
              "    <tr>\n",
              "      <th>1104</th>\n",
              "      <td>ham</td>\n",
              "      <td>[no, pic, please, re, send]</td>\n",
              "      <td>spam</td>\n",
              "    </tr>\n",
              "    <tr>\n",
              "      <th>1274</th>\n",
              "      <td>ham</td>\n",
              "      <td>[for, me, the, love, should, start, with, attr...</td>\n",
              "      <td>None</td>\n",
              "    </tr>\n",
              "    <tr>\n",
              "      <th>1293</th>\n",
              "      <td>spam</td>\n",
              "      <td>[would, you, like, to, see, my, xxx, pics, the...</td>\n",
              "      <td>ham</td>\n",
              "    </tr>\n",
              "    <tr>\n",
              "      <th>1316</th>\n",
              "      <td>ham</td>\n",
              "      <td>[no, calls, messages, missed, calls]</td>\n",
              "      <td>spam</td>\n",
              "    </tr>\n",
              "    <tr>\n",
              "      <th>1349</th>\n",
              "      <td>ham</td>\n",
              "      <td>[nokia, phone, is, lovly]</td>\n",
              "      <td>spam</td>\n",
              "    </tr>\n",
              "    <tr>\n",
              "      <th>1396</th>\n",
              "      <td>ham</td>\n",
              "      <td>[hey, great, deal, farm, tour, 9am, to, 5pm, 9...</td>\n",
              "      <td>spam</td>\n",
              "    </tr>\n",
              "  </tbody>\n",
              "</table>\n",
              "</div>"
            ],
            "text/plain": [
              "     Label                                                SMS predicted\n",
              "161   spam  [babe, u, want, me, dont, u, baby, im, nasty, ...       ham\n",
              "205   spam  [you, won, t, believe, it, but, it, s, true, i...       ham\n",
              "207    ham                      [gettin, rdy, to, ship, comp]      spam\n",
              "254   spam    [rct, thnq, adrian, for, u, text, rgds, vatian]       ham\n",
              "264    ham     [mathews, or, tait, or, edwards, or, anderson]      spam\n",
              "532   spam  [0a, networks, allow, companies, to, bill, for...       ham\n",
              "548   spam  [check, out, choose, your, babe, videos, sms, ...       ham\n",
              "584   spam  [i, want, some, cock, my, hubby, s, away, i, n...       ham\n",
              "770   spam  [dating, i, have, had, two, of, these, only, s...       ham\n",
              "790   spam  [how, come, it, takes, so, little, time, for, ...       ham\n",
              "793   spam  [you, won, t, believe, it, but, it, s, true, i...       ham\n",
              "870   spam  [tbs, persolvo, been, chasing, us, since, sept...       ham\n",
              "964    ham  [wiskey, brandy, rum, gin, beer, vodka, scotch...      spam\n",
              "990   spam  [asked, 3mobile, if, 0870, chatlines, inclu, i...       ham\n",
              "1004  spam  [lookatme, thanks, for, your, purchase, of, a,...       ham\n",
              "1012   ham  [finally, the, match, heading, towards, draw, ...      spam\n",
              "1098  spam  [for, sale, arsenal, dartboard, good, conditio...       ham\n",
              "1104   ham                        [no, pic, please, re, send]      spam\n",
              "1274   ham  [for, me, the, love, should, start, with, attr...      None\n",
              "1293  spam  [would, you, like, to, see, my, xxx, pics, the...       ham\n",
              "1316   ham               [no, calls, messages, missed, calls]      spam\n",
              "1349   ham                          [nokia, phone, is, lovly]      spam\n",
              "1396   ham  [hey, great, deal, farm, tour, 9am, to, 5pm, 9...      spam"
            ]
          },
          "metadata": {
            "tags": []
          },
          "execution_count": 38
        }
      ]
    },
    {
      "cell_type": "code",
      "metadata": {
        "colab": {
          "base_uri": "https://localhost:8080/"
        },
        "id": "j00K8g5ssDdv",
        "outputId": "7e73cad7-4100-4367-97be-37ebb9fdf7a2"
      },
      "source": [
        "# testing accuracy\n",
        "correct"
      ],
      "execution_count": 39,
      "outputs": [
        {
          "output_type": "execute_result",
          "data": {
            "text/plain": [
              "98.62357869539198"
            ]
          },
          "metadata": {
            "tags": []
          },
          "execution_count": 39
        }
      ]
    },
    {
      "cell_type": "code",
      "metadata": {
        "id": "LOR7Y4H1MuDH"
      },
      "source": [
        "train_data['predicted'] = train_data['SMS'].apply(bayes_classifier)"
      ],
      "execution_count": 40,
      "outputs": []
    },
    {
      "cell_type": "code",
      "metadata": {
        "id": "2OYfO6-uM6i6"
      },
      "source": [
        "# calculating the training accuracy\n",
        "correct_train = (train_data['predicted'] == train_data['Label']).sum() / train_data.shape[0] * 100"
      ],
      "execution_count": 41,
      "outputs": []
    },
    {
      "cell_type": "code",
      "metadata": {
        "colab": {
          "base_uri": "https://localhost:8080/"
        },
        "id": "VGjnty_kNFUB",
        "outputId": "436c7c4e-8fbe-4848-8337-1b2cd8341406"
      },
      "source": [
        "correct_train"
      ],
      "execution_count": 42,
      "outputs": [
        {
          "output_type": "execute_result",
          "data": {
            "text/plain": [
              "99.15406306075366"
            ]
          },
          "metadata": {
            "tags": []
          },
          "execution_count": 42
        }
      ]
    },
    {
      "cell_type": "markdown",
      "metadata": {
        "id": "IQpdUbodkqMa"
      },
      "source": [
        "As indicated in the training and testing accuracy numbers, the simple bayesian classifier is performing really well in classifying the SMS message as spam or not spam.\n",
        "\n",
        "Sources Referred : https://towardsdatascience.com/build-sms-spam-classification-model-using-naive-bayes-random-forest-43465d6617ed\n",
        "\n",
        "\n",
        "https://serokell.io/blog/machine-learning-algorithm-classification-overview"
      ]
    }
  ]
}