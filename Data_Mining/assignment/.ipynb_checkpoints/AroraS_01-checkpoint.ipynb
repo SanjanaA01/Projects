{
 "cells": [
  {
   "cell_type": "markdown",
   "metadata": {
    "id": "eqP76KWBEPDv"
   },
   "source": [
    "Student : Arora, Sanjana (V00966221)\n",
    "\n",
    "\n",
    "> Problem 1\n",
    "\n"
   ]
  },
  {
   "cell_type": "code",
   "execution_count": null,
   "metadata": {
    "id": "lhZ8gZfbEhQw"
   },
   "outputs": [],
   "source": [
    "import numpy as np\n",
    "import random\n",
    "np.random.seed(1337)\n",
    "random.seed(1337)"
   ]
  },
  {
   "cell_type": "code",
   "execution_count": null,
   "metadata": {
    "id": "nvVktMDLE0eo"
   },
   "outputs": [],
   "source": [
    "# Plotting support\n",
    "from matplotlib import pyplot as plt\n",
    "from plotnine import *\n",
    "# Standard libraries\n",
    "import pandas as pd\n",
    "import sklearn as sk"
   ]
  },
  {
   "cell_type": "code",
   "execution_count": null,
   "metadata": {
    "colab": {
     "base_uri": "https://localhost:8080/"
    },
    "id": "WM6iB2CiE5l_",
    "outputId": "174988ca-9532-451a-a64b-284b2582442d"
   },
   "outputs": [
    {
     "name": "stdout",
     "output_type": "stream",
     "text": [
      "--2021-06-05 08:14:17--  https://raw.githubusercontent.com/kkehoe1985/ga_data_science_final_project/master/combined_data.csv\n",
      "Resolving raw.githubusercontent.com (raw.githubusercontent.com)... 185.199.110.133, 185.199.111.133, 185.199.108.133, ...\n",
      "Connecting to raw.githubusercontent.com (raw.githubusercontent.com)|185.199.110.133|:443... connected.\n",
      "HTTP request sent, awaiting response... 200 OK\n",
      "Length: 1882495 (1.8M) [text/plain]\n",
      "Saving to: ‘combined_data.csv’\n",
      "\n",
      "combined_data.csv   100%[===================>]   1.79M  --.-KB/s    in 0.09s   \n",
      "\n",
      "2021-06-05 08:14:17 (20.9 MB/s) - ‘combined_data.csv’ saved [1882495/1882495]\n",
      "\n"
     ]
    }
   ],
   "source": [
    "!wget https://raw.githubusercontent.com/kkehoe1985/ga_data_science_final_project/master/combined_data.csv"
   ]
  },
  {
   "cell_type": "code",
   "execution_count": null,
   "metadata": {
    "colab": {
     "base_uri": "https://localhost:8080/"
    },
    "id": "Xu__xGTIFRgW",
    "outputId": "26234a60-9050-432e-fa37-331706cd0ab5"
   },
   "outputs": [
    {
     "name": "stdout",
     "output_type": "stream",
     "text": [
      "combined_data.csv  sample_data\n"
     ]
    }
   ],
   "source": [
    "!ls"
   ]
  },
  {
   "cell_type": "code",
   "execution_count": null,
   "metadata": {
    "id": "HP9jbJyNFbFa"
   },
   "outputs": [],
   "source": [
    "df = pd.read_csv(\"combined_data.csv\")\n"
   ]
  },
  {
   "cell_type": "code",
   "execution_count": null,
   "metadata": {
    "colab": {
     "base_uri": "https://localhost:8080/",
     "height": 436
    },
    "id": "q16RZRn_hQhF",
    "outputId": "28becb7c-b59e-442c-c342-f6fc17b1380e"
   },
   "outputs": [
    {
     "data": {
      "text/html": [
       "<div>\n",
       "<style scoped>\n",
       "    .dataframe tbody tr th:only-of-type {\n",
       "        vertical-align: middle;\n",
       "    }\n",
       "\n",
       "    .dataframe tbody tr th {\n",
       "        vertical-align: top;\n",
       "    }\n",
       "\n",
       "    .dataframe thead th {\n",
       "        text-align: right;\n",
       "    }\n",
       "</style>\n",
       "<table border=\"1\" class=\"dataframe\">\n",
       "  <thead>\n",
       "    <tr style=\"text-align: right;\">\n",
       "      <th></th>\n",
       "      <th>fips</th>\n",
       "      <th>votes</th>\n",
       "      <th>Percent of adults with less than a high school diploma, 2011-2015</th>\n",
       "      <th>Percent of adults with a high school diploma only, 2011-2015</th>\n",
       "      <th>Percent of adults completing some college or associate's degree, 2011-2015</th>\n",
       "      <th>Percent of adults with a bachelor's degree or higher, 2011-2015</th>\n",
       "      <th>Unemployment_rate_2015</th>\n",
       "      <th>POP_ESTIMATE_2015</th>\n",
       "      <th>Amish</th>\n",
       "      <th>Buddhist</th>\n",
       "      <th>Catholic</th>\n",
       "      <th>Christian Generic</th>\n",
       "      <th>Eastern Orthodox</th>\n",
       "      <th>Hindu</th>\n",
       "      <th>Jewish</th>\n",
       "      <th>Mainline Christian</th>\n",
       "      <th>Mormon</th>\n",
       "      <th>Muslim</th>\n",
       "      <th>Non-Catholic Christian</th>\n",
       "      <th>Other</th>\n",
       "      <th>Other Christian</th>\n",
       "      <th>Other Misc</th>\n",
       "      <th>Pentecostal / Charismatic</th>\n",
       "      <th>Protestant Denomination</th>\n",
       "      <th>Zoroastrian</th>\n",
       "      <th>MedHHInc2014</th>\n",
       "      <th>PerCapitaInc</th>\n",
       "      <th>PovertyUnder18Pct2014</th>\n",
       "      <th>PovertyAllAgesPct2014</th>\n",
       "      <th>Deep_Pov_All</th>\n",
       "      <th>Deep_Pov_Children</th>\n",
       "      <th>Housing units</th>\n",
       "      <th>Area in square miles - Total area</th>\n",
       "      <th>Area in square miles - Water area</th>\n",
       "      <th>Area in square miles - Land area</th>\n",
       "      <th>Density per square mile of land area - Population</th>\n",
       "      <th>Density per square mile of land area - Housing units</th>\n",
       "      <th>age_total_pop</th>\n",
       "      <th>0-4_rate</th>\n",
       "      <th>5-9_rate</th>\n",
       "      <th>10-14_rate</th>\n",
       "      <th>15-19_rate</th>\n",
       "      <th>20-24_rate</th>\n",
       "      <th>25-29_rate</th>\n",
       "      <th>30-34_rate</th>\n",
       "      <th>35-39_rate</th>\n",
       "      <th>40-44_rate</th>\n",
       "      <th>45-49_rate</th>\n",
       "      <th>50-54_rate</th>\n",
       "      <th>55-59_rate</th>\n",
       "      <th>60-64_rate</th>\n",
       "      <th>65-69_rate</th>\n",
       "      <th>70-74_rate</th>\n",
       "      <th>75-79_rate</th>\n",
       "      <th>80-84_rate</th>\n",
       "      <th>85+_rate</th>\n",
       "      <th>TOT_MALE_rate</th>\n",
       "      <th>TOT_FEMALE_rate</th>\n",
       "      <th>WHITE_MALE_rate</th>\n",
       "      <th>WHITE_FEMALE_rate</th>\n",
       "      <th>BLACK_MALE_rate</th>\n",
       "      <th>BLACK_FEMALE_rate</th>\n",
       "      <th>NATIVE_AMERICAN_MALE_rate</th>\n",
       "      <th>NATIVE_AMERICAN_FEMALE_rate</th>\n",
       "      <th>ASIAN_MALE_rate</th>\n",
       "      <th>ASIAN_FEMALE_rate</th>\n",
       "      <th>HAWAIIAN_PACIFIC_MALE_rate</th>\n",
       "      <th>HAWAIIAN_PACIFIC_FEMALE_rate</th>\n",
       "      <th>MULTI_MALE_rate</th>\n",
       "      <th>MULTI_FEMALE_rate</th>\n",
       "      <th>WHITE_rate</th>\n",
       "      <th>BLACK_rate</th>\n",
       "      <th>NATIVE_AMERICAN_rate</th>\n",
       "      <th>HAWAIIAN_PACIFIC_rate</th>\n",
       "      <th>MULTI_rate</th>\n",
       "      <th>voter_turnout_rate</th>\n",
       "      <th>Democrat</th>\n",
       "    </tr>\n",
       "  </thead>\n",
       "  <tbody>\n",
       "    <tr>\n",
       "      <th>count</th>\n",
       "      <td>3145.000000</td>\n",
       "      <td>3.145000e+03</td>\n",
       "      <td>3145.000000</td>\n",
       "      <td>3145.000000</td>\n",
       "      <td>3145.000000</td>\n",
       "      <td>3145.000000</td>\n",
       "      <td>3145.000000</td>\n",
       "      <td>3.145000e+03</td>\n",
       "      <td>3145.000000</td>\n",
       "      <td>3145.000000</td>\n",
       "      <td>3145.000000</td>\n",
       "      <td>3145.000000</td>\n",
       "      <td>3145.000000</td>\n",
       "      <td>3145.000000</td>\n",
       "      <td>3145.000000</td>\n",
       "      <td>3145.000000</td>\n",
       "      <td>3145.000000</td>\n",
       "      <td>3145.000000</td>\n",
       "      <td>3145.000000</td>\n",
       "      <td>3145.000000</td>\n",
       "      <td>3145.000000</td>\n",
       "      <td>3145.000000</td>\n",
       "      <td>3145.000000</td>\n",
       "      <td>3145.000000</td>\n",
       "      <td>3145.0</td>\n",
       "      <td>3145.000000</td>\n",
       "      <td>3145.000000</td>\n",
       "      <td>3145.000000</td>\n",
       "      <td>3145.000000</td>\n",
       "      <td>3145.000000</td>\n",
       "      <td>3145.000000</td>\n",
       "      <td>3.145000e+03</td>\n",
       "      <td>3145.000000</td>\n",
       "      <td>3145.000000</td>\n",
       "      <td>3145.000000</td>\n",
       "      <td>3145.000000</td>\n",
       "      <td>3145.000000</td>\n",
       "      <td>3.145000e+03</td>\n",
       "      <td>3145.000000</td>\n",
       "      <td>3145.000000</td>\n",
       "      <td>3145.000000</td>\n",
       "      <td>3145.000000</td>\n",
       "      <td>3145.000000</td>\n",
       "      <td>3145.000000</td>\n",
       "      <td>3145.000000</td>\n",
       "      <td>3145.000000</td>\n",
       "      <td>3145.000000</td>\n",
       "      <td>3145.000000</td>\n",
       "      <td>3145.000000</td>\n",
       "      <td>3145.000000</td>\n",
       "      <td>3145.000000</td>\n",
       "      <td>3145.0</td>\n",
       "      <td>3145.000000</td>\n",
       "      <td>3145.000000</td>\n",
       "      <td>3145.000000</td>\n",
       "      <td>3145.000000</td>\n",
       "      <td>3145.000000</td>\n",
       "      <td>3145.000000</td>\n",
       "      <td>3145.000000</td>\n",
       "      <td>3145.000000</td>\n",
       "      <td>3145.000000</td>\n",
       "      <td>3145.000000</td>\n",
       "      <td>3145.000000</td>\n",
       "      <td>3145.000000</td>\n",
       "      <td>3145.000000</td>\n",
       "      <td>3145.0</td>\n",
       "      <td>3145.000000</td>\n",
       "      <td>3145.000000</td>\n",
       "      <td>3145.000000</td>\n",
       "      <td>3145.0</td>\n",
       "      <td>3145.000000</td>\n",
       "      <td>3145.000000</td>\n",
       "      <td>3145.000000</td>\n",
       "      <td>3145.000000</td>\n",
       "      <td>3145.000000</td>\n",
       "      <td>3145.000000</td>\n",
       "      <td>3145.000000</td>\n",
       "    </tr>\n",
       "    <tr>\n",
       "      <th>mean</th>\n",
       "      <td>30352.751669</td>\n",
       "      <td>4.025041e+04</td>\n",
       "      <td>14.569824</td>\n",
       "      <td>34.743268</td>\n",
       "      <td>30.264624</td>\n",
       "      <td>20.421776</td>\n",
       "      <td>5.535792</td>\n",
       "      <td>1.036771e+05</td>\n",
       "      <td>1.659777</td>\n",
       "      <td>0.700795</td>\n",
       "      <td>247.871860</td>\n",
       "      <td>362.791733</td>\n",
       "      <td>0.316693</td>\n",
       "      <td>0.502067</td>\n",
       "      <td>1.109380</td>\n",
       "      <td>144.850556</td>\n",
       "      <td>21.489030</td>\n",
       "      <td>2.167250</td>\n",
       "      <td>134.508108</td>\n",
       "      <td>27.797456</td>\n",
       "      <td>19.109062</td>\n",
       "      <td>35.196820</td>\n",
       "      <td>20.586328</td>\n",
       "      <td>2.367250</td>\n",
       "      <td>0.0</td>\n",
       "      <td>47144.571906</td>\n",
       "      <td>24062.586515</td>\n",
       "      <td>23.655656</td>\n",
       "      <td>16.831301</td>\n",
       "      <td>7.058205</td>\n",
       "      <td>10.379254</td>\n",
       "      <td>4.255573e+04</td>\n",
       "      <td>1208.466838</td>\n",
       "      <td>84.329032</td>\n",
       "      <td>1124.137736</td>\n",
       "      <td>262.168150</td>\n",
       "      <td>114.631276</td>\n",
       "      <td>1.141095e+05</td>\n",
       "      <td>0.058680</td>\n",
       "      <td>0.062520</td>\n",
       "      <td>0.062520</td>\n",
       "      <td>0.064559</td>\n",
       "      <td>0.064699</td>\n",
       "      <td>0.058772</td>\n",
       "      <td>0.058812</td>\n",
       "      <td>0.057235</td>\n",
       "      <td>0.057939</td>\n",
       "      <td>0.061379</td>\n",
       "      <td>0.071018</td>\n",
       "      <td>0.073149</td>\n",
       "      <td>0.067364</td>\n",
       "      <td>0.0</td>\n",
       "      <td>0.044014</td>\n",
       "      <td>0.031977</td>\n",
       "      <td>0.022531</td>\n",
       "      <td>0.023055</td>\n",
       "      <td>0.500346</td>\n",
       "      <td>0.499453</td>\n",
       "      <td>0.425978</td>\n",
       "      <td>0.425443</td>\n",
       "      <td>0.047399</td>\n",
       "      <td>0.046237</td>\n",
       "      <td>0.009983</td>\n",
       "      <td>0.009881</td>\n",
       "      <td>0.006843</td>\n",
       "      <td>0.0</td>\n",
       "      <td>0.000595</td>\n",
       "      <td>0.000538</td>\n",
       "      <td>0.009547</td>\n",
       "      <td>0.0</td>\n",
       "      <td>0.851421</td>\n",
       "      <td>0.093636</td>\n",
       "      <td>0.019864</td>\n",
       "      <td>0.001133</td>\n",
       "      <td>0.009547</td>\n",
       "      <td>0.450261</td>\n",
       "      <td>0.154531</td>\n",
       "    </tr>\n",
       "    <tr>\n",
       "      <th>std</th>\n",
       "      <td>15185.961137</td>\n",
       "      <td>1.061758e+05</td>\n",
       "      <td>6.637558</td>\n",
       "      <td>7.074960</td>\n",
       "      <td>5.170318</td>\n",
       "      <td>9.019258</td>\n",
       "      <td>2.022568</td>\n",
       "      <td>3.312062e+05</td>\n",
       "      <td>10.291242</td>\n",
       "      <td>4.690194</td>\n",
       "      <td>270.440588</td>\n",
       "      <td>190.413926</td>\n",
       "      <td>1.425925</td>\n",
       "      <td>3.401758</td>\n",
       "      <td>8.584974</td>\n",
       "      <td>118.302586</td>\n",
       "      <td>85.327538</td>\n",
       "      <td>10.477985</td>\n",
       "      <td>153.236112</td>\n",
       "      <td>86.548480</td>\n",
       "      <td>32.597727</td>\n",
       "      <td>42.692466</td>\n",
       "      <td>21.455253</td>\n",
       "      <td>5.212984</td>\n",
       "      <td>0.0</td>\n",
       "      <td>12097.021022</td>\n",
       "      <td>5702.048515</td>\n",
       "      <td>8.924231</td>\n",
       "      <td>6.427022</td>\n",
       "      <td>3.349625</td>\n",
       "      <td>5.987177</td>\n",
       "      <td>1.236830e+05</td>\n",
       "      <td>3826.247607</td>\n",
       "      <td>469.822414</td>\n",
       "      <td>3610.118494</td>\n",
       "      <td>1725.093685</td>\n",
       "      <td>823.631380</td>\n",
       "      <td>3.459185e+05</td>\n",
       "      <td>0.011820</td>\n",
       "      <td>0.010486</td>\n",
       "      <td>0.010486</td>\n",
       "      <td>0.011253</td>\n",
       "      <td>0.023930</td>\n",
       "      <td>0.012783</td>\n",
       "      <td>0.009612</td>\n",
       "      <td>0.007832</td>\n",
       "      <td>0.007842</td>\n",
       "      <td>0.007653</td>\n",
       "      <td>0.007763</td>\n",
       "      <td>0.009587</td>\n",
       "      <td>0.012106</td>\n",
       "      <td>0.0</td>\n",
       "      <td>0.011991</td>\n",
       "      <td>0.009093</td>\n",
       "      <td>0.006896</td>\n",
       "      <td>0.008718</td>\n",
       "      <td>0.022149</td>\n",
       "      <td>0.022076</td>\n",
       "      <td>0.079507</td>\n",
       "      <td>0.080208</td>\n",
       "      <td>0.069693</td>\n",
       "      <td>0.075330</td>\n",
       "      <td>0.031843</td>\n",
       "      <td>0.033184</td>\n",
       "      <td>0.012756</td>\n",
       "      <td>0.0</td>\n",
       "      <td>0.002116</td>\n",
       "      <td>0.001980</td>\n",
       "      <td>0.006787</td>\n",
       "      <td>0.0</td>\n",
       "      <td>0.157047</td>\n",
       "      <td>0.143735</td>\n",
       "      <td>0.064968</td>\n",
       "      <td>0.004067</td>\n",
       "      <td>0.006787</td>\n",
       "      <td>0.325422</td>\n",
       "      <td>0.361514</td>\n",
       "    </tr>\n",
       "    <tr>\n",
       "      <th>min</th>\n",
       "      <td>1001.000000</td>\n",
       "      <td>6.400000e+01</td>\n",
       "      <td>1.600000</td>\n",
       "      <td>7.500000</td>\n",
       "      <td>11.400000</td>\n",
       "      <td>1.900000</td>\n",
       "      <td>1.800000</td>\n",
       "      <td>1.120000e+02</td>\n",
       "      <td>0.000000</td>\n",
       "      <td>0.000000</td>\n",
       "      <td>0.000000</td>\n",
       "      <td>0.000000</td>\n",
       "      <td>0.000000</td>\n",
       "      <td>0.000000</td>\n",
       "      <td>0.000000</td>\n",
       "      <td>0.000000</td>\n",
       "      <td>0.000000</td>\n",
       "      <td>0.000000</td>\n",
       "      <td>0.000000</td>\n",
       "      <td>0.000000</td>\n",
       "      <td>0.000000</td>\n",
       "      <td>0.000000</td>\n",
       "      <td>0.000000</td>\n",
       "      <td>0.000000</td>\n",
       "      <td>0.0</td>\n",
       "      <td>21658.000000</td>\n",
       "      <td>8200.000000</td>\n",
       "      <td>3.300000</td>\n",
       "      <td>3.200000</td>\n",
       "      <td>0.000000</td>\n",
       "      <td>0.000000</td>\n",
       "      <td>5.000000e+01</td>\n",
       "      <td>2.000000</td>\n",
       "      <td>0.000000</td>\n",
       "      <td>2.000000</td>\n",
       "      <td>0.000000</td>\n",
       "      <td>0.000000</td>\n",
       "      <td>1.120000e+02</td>\n",
       "      <td>0.013495</td>\n",
       "      <td>0.009582</td>\n",
       "      <td>0.009582</td>\n",
       "      <td>0.019421</td>\n",
       "      <td>0.017857</td>\n",
       "      <td>0.026266</td>\n",
       "      <td>0.026316</td>\n",
       "      <td>0.026786</td>\n",
       "      <td>0.008929</td>\n",
       "      <td>0.022532</td>\n",
       "      <td>0.020496</td>\n",
       "      <td>0.018121</td>\n",
       "      <td>0.012491</td>\n",
       "      <td>0.0</td>\n",
       "      <td>0.010908</td>\n",
       "      <td>0.008929</td>\n",
       "      <td>0.000000</td>\n",
       "      <td>0.000000</td>\n",
       "      <td>0.432608</td>\n",
       "      <td>0.284790</td>\n",
       "      <td>0.031100</td>\n",
       "      <td>0.034787</td>\n",
       "      <td>0.000000</td>\n",
       "      <td>0.000000</td>\n",
       "      <td>0.000000</td>\n",
       "      <td>0.000000</td>\n",
       "      <td>0.000000</td>\n",
       "      <td>0.0</td>\n",
       "      <td>0.000000</td>\n",
       "      <td>0.000000</td>\n",
       "      <td>0.000000</td>\n",
       "      <td>0.0</td>\n",
       "      <td>0.065887</td>\n",
       "      <td>0.000000</td>\n",
       "      <td>0.000000</td>\n",
       "      <td>0.000000</td>\n",
       "      <td>0.000000</td>\n",
       "      <td>0.006433</td>\n",
       "      <td>0.000000</td>\n",
       "    </tr>\n",
       "    <tr>\n",
       "      <th>25%</th>\n",
       "      <td>18173.000000</td>\n",
       "      <td>4.870000e+03</td>\n",
       "      <td>9.500000</td>\n",
       "      <td>30.300000</td>\n",
       "      <td>26.700000</td>\n",
       "      <td>14.200000</td>\n",
       "      <td>4.200000</td>\n",
       "      <td>1.101000e+04</td>\n",
       "      <td>0.000000</td>\n",
       "      <td>0.000000</td>\n",
       "      <td>44.000000</td>\n",
       "      <td>214.000000</td>\n",
       "      <td>0.000000</td>\n",
       "      <td>0.000000</td>\n",
       "      <td>0.000000</td>\n",
       "      <td>69.000000</td>\n",
       "      <td>0.000000</td>\n",
       "      <td>0.000000</td>\n",
       "      <td>13.000000</td>\n",
       "      <td>0.000000</td>\n",
       "      <td>0.000000</td>\n",
       "      <td>11.000000</td>\n",
       "      <td>6.000000</td>\n",
       "      <td>0.000000</td>\n",
       "      <td>0.0</td>\n",
       "      <td>38916.000000</td>\n",
       "      <td>20274.000000</td>\n",
       "      <td>17.000000</td>\n",
       "      <td>12.100000</td>\n",
       "      <td>4.725459</td>\n",
       "      <td>6.086677</td>\n",
       "      <td>5.429000e+03</td>\n",
       "      <td>446.000000</td>\n",
       "      <td>2.770000</td>\n",
       "      <td>431.170000</td>\n",
       "      <td>17.000000</td>\n",
       "      <td>8.400000</td>\n",
       "      <td>1.133900e+04</td>\n",
       "      <td>0.051519</td>\n",
       "      <td>0.056280</td>\n",
       "      <td>0.056280</td>\n",
       "      <td>0.058265</td>\n",
       "      <td>0.053350</td>\n",
       "      <td>0.050604</td>\n",
       "      <td>0.052665</td>\n",
       "      <td>0.052588</td>\n",
       "      <td>0.053208</td>\n",
       "      <td>0.056432</td>\n",
       "      <td>0.066945</td>\n",
       "      <td>0.067447</td>\n",
       "      <td>0.059794</td>\n",
       "      <td>0.0</td>\n",
       "      <td>0.036367</td>\n",
       "      <td>0.025916</td>\n",
       "      <td>0.018051</td>\n",
       "      <td>0.017238</td>\n",
       "      <td>0.489216</td>\n",
       "      <td>0.495062</td>\n",
       "      <td>0.396032</td>\n",
       "      <td>0.396994</td>\n",
       "      <td>0.004741</td>\n",
       "      <td>0.003077</td>\n",
       "      <td>0.001775</td>\n",
       "      <td>0.001664</td>\n",
       "      <td>0.001743</td>\n",
       "      <td>0.0</td>\n",
       "      <td>0.000127</td>\n",
       "      <td>0.000114</td>\n",
       "      <td>0.006104</td>\n",
       "      <td>0.0</td>\n",
       "      <td>0.799803</td>\n",
       "      <td>0.008133</td>\n",
       "      <td>0.003479</td>\n",
       "      <td>0.000266</td>\n",
       "      <td>0.006104</td>\n",
       "      <td>0.384746</td>\n",
       "      <td>0.000000</td>\n",
       "    </tr>\n",
       "    <tr>\n",
       "      <th>50%</th>\n",
       "      <td>29173.000000</td>\n",
       "      <td>1.073600e+04</td>\n",
       "      <td>13.100000</td>\n",
       "      <td>35.100000</td>\n",
       "      <td>30.300000</td>\n",
       "      <td>18.200000</td>\n",
       "      <td>5.300000</td>\n",
       "      <td>2.575900e+04</td>\n",
       "      <td>0.000000</td>\n",
       "      <td>0.000000</td>\n",
       "      <td>159.000000</td>\n",
       "      <td>349.000000</td>\n",
       "      <td>0.000000</td>\n",
       "      <td>0.000000</td>\n",
       "      <td>0.000000</td>\n",
       "      <td>113.000000</td>\n",
       "      <td>5.000000</td>\n",
       "      <td>0.000000</td>\n",
       "      <td>61.000000</td>\n",
       "      <td>9.000000</td>\n",
       "      <td>6.000000</td>\n",
       "      <td>26.000000</td>\n",
       "      <td>16.000000</td>\n",
       "      <td>1.000000</td>\n",
       "      <td>0.0</td>\n",
       "      <td>45251.000000</td>\n",
       "      <td>23383.000000</td>\n",
       "      <td>22.900000</td>\n",
       "      <td>15.800000</td>\n",
       "      <td>6.546822</td>\n",
       "      <td>9.471154</td>\n",
       "      <td>1.219900e+04</td>\n",
       "      <td>651.640000</td>\n",
       "      <td>7.530000</td>\n",
       "      <td>617.060000</td>\n",
       "      <td>45.300000</td>\n",
       "      <td>21.100000</td>\n",
       "      <td>2.652100e+04</td>\n",
       "      <td>0.058102</td>\n",
       "      <td>0.062171</td>\n",
       "      <td>0.062171</td>\n",
       "      <td>0.063487</td>\n",
       "      <td>0.059480</td>\n",
       "      <td>0.057333</td>\n",
       "      <td>0.057771</td>\n",
       "      <td>0.057129</td>\n",
       "      <td>0.058208</td>\n",
       "      <td>0.061691</td>\n",
       "      <td>0.071338</td>\n",
       "      <td>0.073171</td>\n",
       "      <td>0.066508</td>\n",
       "      <td>0.0</td>\n",
       "      <td>0.042597</td>\n",
       "      <td>0.031261</td>\n",
       "      <td>0.021674</td>\n",
       "      <td>0.021548</td>\n",
       "      <td>0.496125</td>\n",
       "      <td>0.503566</td>\n",
       "      <td>0.457765</td>\n",
       "      <td>0.457247</td>\n",
       "      <td>0.014866</td>\n",
       "      <td>0.009412</td>\n",
       "      <td>0.003106</td>\n",
       "      <td>0.002867</td>\n",
       "      <td>0.003073</td>\n",
       "      <td>0.0</td>\n",
       "      <td>0.000294</td>\n",
       "      <td>0.000258</td>\n",
       "      <td>0.008187</td>\n",
       "      <td>0.0</td>\n",
       "      <td>0.917779</td>\n",
       "      <td>0.025505</td>\n",
       "      <td>0.005969</td>\n",
       "      <td>0.000553</td>\n",
       "      <td>0.008187</td>\n",
       "      <td>0.437939</td>\n",
       "      <td>0.000000</td>\n",
       "    </tr>\n",
       "    <tr>\n",
       "      <th>75%</th>\n",
       "      <td>45079.000000</td>\n",
       "      <td>2.794100e+04</td>\n",
       "      <td>18.700000</td>\n",
       "      <td>39.600000</td>\n",
       "      <td>33.800000</td>\n",
       "      <td>24.300000</td>\n",
       "      <td>6.500000</td>\n",
       "      <td>6.806600e+04</td>\n",
       "      <td>0.000000</td>\n",
       "      <td>0.000000</td>\n",
       "      <td>362.000000</td>\n",
       "      <td>491.000000</td>\n",
       "      <td>0.000000</td>\n",
       "      <td>0.000000</td>\n",
       "      <td>0.000000</td>\n",
       "      <td>182.000000</td>\n",
       "      <td>13.000000</td>\n",
       "      <td>0.000000</td>\n",
       "      <td>231.000000</td>\n",
       "      <td>23.000000</td>\n",
       "      <td>23.000000</td>\n",
       "      <td>46.000000</td>\n",
       "      <td>28.000000</td>\n",
       "      <td>3.000000</td>\n",
       "      <td>0.0</td>\n",
       "      <td>52597.000000</td>\n",
       "      <td>26791.000000</td>\n",
       "      <td>29.300000</td>\n",
       "      <td>20.300000</td>\n",
       "      <td>8.560963</td>\n",
       "      <td>13.353824</td>\n",
       "      <td>3.070900e+04</td>\n",
       "      <td>988.710000</td>\n",
       "      <td>23.590000</td>\n",
       "      <td>925.350000</td>\n",
       "      <td>114.600000</td>\n",
       "      <td>51.600000</td>\n",
       "      <td>7.127500e+04</td>\n",
       "      <td>0.064434</td>\n",
       "      <td>0.067882</td>\n",
       "      <td>0.067882</td>\n",
       "      <td>0.068694</td>\n",
       "      <td>0.067551</td>\n",
       "      <td>0.065113</td>\n",
       "      <td>0.063893</td>\n",
       "      <td>0.061756</td>\n",
       "      <td>0.062657</td>\n",
       "      <td>0.066411</td>\n",
       "      <td>0.075635</td>\n",
       "      <td>0.078791</td>\n",
       "      <td>0.073444</td>\n",
       "      <td>0.0</td>\n",
       "      <td>0.050105</td>\n",
       "      <td>0.036823</td>\n",
       "      <td>0.025896</td>\n",
       "      <td>0.027099</td>\n",
       "      <td>0.504938</td>\n",
       "      <td>0.510395</td>\n",
       "      <td>0.478934</td>\n",
       "      <td>0.480086</td>\n",
       "      <td>0.059146</td>\n",
       "      <td>0.056003</td>\n",
       "      <td>0.006281</td>\n",
       "      <td>0.005977</td>\n",
       "      <td>0.006309</td>\n",
       "      <td>0.0</td>\n",
       "      <td>0.000596</td>\n",
       "      <td>0.000534</td>\n",
       "      <td>0.011209</td>\n",
       "      <td>0.0</td>\n",
       "      <td>0.957896</td>\n",
       "      <td>0.114306</td>\n",
       "      <td>0.012363</td>\n",
       "      <td>0.001121</td>\n",
       "      <td>0.011209</td>\n",
       "      <td>0.491628</td>\n",
       "      <td>0.000000</td>\n",
       "    </tr>\n",
       "    <tr>\n",
       "      <th>max</th>\n",
       "      <td>56045.000000</td>\n",
       "      <td>2.240323e+06</td>\n",
       "      <td>53.700000</td>\n",
       "      <td>54.800000</td>\n",
       "      <td>47.800000</td>\n",
       "      <td>78.800000</td>\n",
       "      <td>24.000000</td>\n",
       "      <td>1.017029e+07</td>\n",
       "      <td>250.000000</td>\n",
       "      <td>148.000000</td>\n",
       "      <td>1999.000000</td>\n",
       "      <td>1383.000000</td>\n",
       "      <td>27.000000</td>\n",
       "      <td>89.000000</td>\n",
       "      <td>325.000000</td>\n",
       "      <td>1146.000000</td>\n",
       "      <td>1007.000000</td>\n",
       "      <td>289.000000</td>\n",
       "      <td>1193.000000</td>\n",
       "      <td>1007.000000</td>\n",
       "      <td>294.000000</td>\n",
       "      <td>787.000000</td>\n",
       "      <td>278.000000</td>\n",
       "      <td>114.000000</td>\n",
       "      <td>0.0</td>\n",
       "      <td>125635.000000</td>\n",
       "      <td>63610.000000</td>\n",
       "      <td>65.900000</td>\n",
       "      <td>47.400000</td>\n",
       "      <td>27.810271</td>\n",
       "      <td>44.973545</td>\n",
       "      <td>3.445076e+06</td>\n",
       "      <td>147804.630000</td>\n",
       "      <td>9726.160000</td>\n",
       "      <td>145504.790000</td>\n",
       "      <td>69468.400000</td>\n",
       "      <td>37106.400000</td>\n",
       "      <td>1.017029e+07</td>\n",
       "      <td>0.133174</td>\n",
       "      <td>0.142857</td>\n",
       "      <td>0.142857</td>\n",
       "      <td>0.200909</td>\n",
       "      <td>0.270724</td>\n",
       "      <td>0.154293</td>\n",
       "      <td>0.126206</td>\n",
       "      <td>0.103869</td>\n",
       "      <td>0.104141</td>\n",
       "      <td>0.091713</td>\n",
       "      <td>0.108089</td>\n",
       "      <td>0.124591</td>\n",
       "      <td>0.126722</td>\n",
       "      <td>0.0</td>\n",
       "      <td>0.167061</td>\n",
       "      <td>0.108284</td>\n",
       "      <td>0.060167</td>\n",
       "      <td>0.079235</td>\n",
       "      <td>0.715210</td>\n",
       "      <td>0.567392</td>\n",
       "      <td>0.663808</td>\n",
       "      <td>0.519297</td>\n",
       "      <td>0.416012</td>\n",
       "      <td>0.450383</td>\n",
       "      <td>0.443818</td>\n",
       "      <td>0.469074</td>\n",
       "      <td>0.195302</td>\n",
       "      <td>0.0</td>\n",
       "      <td>0.065327</td>\n",
       "      <td>0.062990</td>\n",
       "      <td>0.146832</td>\n",
       "      <td>0.0</td>\n",
       "      <td>0.991453</td>\n",
       "      <td>0.847742</td>\n",
       "      <td>0.912892</td>\n",
       "      <td>0.128317</td>\n",
       "      <td>0.146832</td>\n",
       "      <td>12.187602</td>\n",
       "      <td>1.000000</td>\n",
       "    </tr>\n",
       "  </tbody>\n",
       "</table>\n",
       "</div>"
      ],
      "text/plain": [
       "               fips         votes  ...  voter_turnout_rate     Democrat\n",
       "count   3145.000000  3.145000e+03  ...         3145.000000  3145.000000\n",
       "mean   30352.751669  4.025041e+04  ...            0.450261     0.154531\n",
       "std    15185.961137  1.061758e+05  ...            0.325422     0.361514\n",
       "min     1001.000000  6.400000e+01  ...            0.006433     0.000000\n",
       "25%    18173.000000  4.870000e+03  ...            0.384746     0.000000\n",
       "50%    29173.000000  1.073600e+04  ...            0.437939     0.000000\n",
       "75%    45079.000000  2.794100e+04  ...            0.491628     0.000000\n",
       "max    56045.000000  2.240323e+06  ...           12.187602     1.000000\n",
       "\n",
       "[8 rows x 77 columns]"
      ]
     },
     "execution_count": 6,
     "metadata": {
      "tags": []
     },
     "output_type": "execute_result"
    }
   ],
   "source": [
    "df.describe()"
   ]
  },
  {
   "cell_type": "code",
   "execution_count": null,
   "metadata": {
    "colab": {
     "base_uri": "https://localhost:8080/"
    },
    "id": "sPHN_gyYhsEy",
    "outputId": "24d6e93e-6d7c-4f48-b37a-8065a4b43b0a"
   },
   "outputs": [
    {
     "name": "stdout",
     "output_type": "stream",
     "text": [
      "Number of columns : 78\n"
     ]
    },
    {
     "data": {
      "text/plain": [
       "Index(['fips', 'votes',\n",
       "       'Percent of adults with less than a high school diploma, 2011-2015',\n",
       "       'Percent of adults with a high school diploma only, 2011-2015',\n",
       "       'Percent of adults completing some college or associate's degree, 2011-2015',\n",
       "       'Percent of adults with a bachelor's degree or higher, 2011-2015',\n",
       "       'Unemployment_rate_2015', 'POP_ESTIMATE_2015', 'Amish', 'Buddhist',\n",
       "       'Catholic', 'Christian Generic', 'Eastern Orthodox', 'Hindu', 'Jewish',\n",
       "       'Mainline Christian', 'Mormon', 'Muslim', 'Non-Catholic Christian',\n",
       "       'Other', 'Other Christian', 'Other Misc', 'Pentecostal / Charismatic',\n",
       "       'Protestant Denomination', 'Zoroastrian', 'MedHHInc2014',\n",
       "       'PerCapitaInc', 'PovertyUnder18Pct2014', 'PovertyAllAgesPct2014',\n",
       "       'Deep_Pov_All', 'Deep_Pov_Children', 'Population', 'Housing units',\n",
       "       'Area in square miles - Total area',\n",
       "       'Area in square miles - Water area', 'Area in square miles - Land area',\n",
       "       'Density per square mile of land area - Population',\n",
       "       'Density per square mile of land area - Housing units', 'age_total_pop',\n",
       "       '0-4_rate', '5-9_rate', '10-14_rate', '15-19_rate', '20-24_rate',\n",
       "       '25-29_rate', '30-34_rate', '35-39_rate', '40-44_rate', '45-49_rate',\n",
       "       '50-54_rate', '55-59_rate', '60-64_rate', '65-69_rate', '70-74_rate',\n",
       "       '75-79_rate', '80-84_rate', '85+_rate', 'TOT_MALE_rate',\n",
       "       'TOT_FEMALE_rate', 'WHITE_MALE_rate', 'WHITE_FEMALE_rate',\n",
       "       'BLACK_MALE_rate', 'BLACK_FEMALE_rate', 'NATIVE_AMERICAN_MALE_rate',\n",
       "       'NATIVE_AMERICAN_FEMALE_rate', 'ASIAN_MALE_rate', 'ASIAN_FEMALE_rate',\n",
       "       'HAWAIIAN_PACIFIC_MALE_rate', 'HAWAIIAN_PACIFIC_FEMALE_rate',\n",
       "       'MULTI_MALE_rate', 'MULTI_FEMALE_rate', 'WHITE_rate', 'BLACK_rate',\n",
       "       'NATIVE_AMERICAN_rate', 'HAWAIIAN_PACIFIC_rate', 'MULTI_rate',\n",
       "       'voter_turnout_rate', 'Democrat'],\n",
       "      dtype='object')"
      ]
     },
     "execution_count": 7,
     "metadata": {
      "tags": []
     },
     "output_type": "execute_result"
    }
   ],
   "source": [
    "col = df.columns\n",
    "print('Number of columns :', len(col))\n",
    "df.columns"
   ]
  },
  {
   "cell_type": "code",
   "execution_count": null,
   "metadata": {
    "colab": {
     "base_uri": "https://localhost:8080/",
     "height": 394
    },
    "id": "MPO-IpWdlU7g",
    "outputId": "bc7a9b4f-eb69-4ff3-a737-505de580783c"
   },
   "outputs": [
    {
     "data": {
      "text/html": [
       "<div>\n",
       "<style scoped>\n",
       "    .dataframe tbody tr th:only-of-type {\n",
       "        vertical-align: middle;\n",
       "    }\n",
       "\n",
       "    .dataframe tbody tr th {\n",
       "        vertical-align: top;\n",
       "    }\n",
       "\n",
       "    .dataframe thead th {\n",
       "        text-align: right;\n",
       "    }\n",
       "</style>\n",
       "<table border=\"1\" class=\"dataframe\">\n",
       "  <thead>\n",
       "    <tr style=\"text-align: right;\">\n",
       "      <th></th>\n",
       "      <th>fips</th>\n",
       "      <th>votes</th>\n",
       "      <th>Percent of adults with less than a high school diploma, 2011-2015</th>\n",
       "      <th>Percent of adults with a high school diploma only, 2011-2015</th>\n",
       "      <th>Percent of adults completing some college or associate's degree, 2011-2015</th>\n",
       "      <th>Percent of adults with a bachelor's degree or higher, 2011-2015</th>\n",
       "      <th>Unemployment_rate_2015</th>\n",
       "      <th>POP_ESTIMATE_2015</th>\n",
       "      <th>Amish</th>\n",
       "      <th>Buddhist</th>\n",
       "      <th>Catholic</th>\n",
       "      <th>Christian Generic</th>\n",
       "      <th>Eastern Orthodox</th>\n",
       "      <th>Hindu</th>\n",
       "      <th>Jewish</th>\n",
       "      <th>Mainline Christian</th>\n",
       "      <th>Mormon</th>\n",
       "      <th>Muslim</th>\n",
       "      <th>Non-Catholic Christian</th>\n",
       "      <th>Other</th>\n",
       "      <th>Other Christian</th>\n",
       "      <th>Other Misc</th>\n",
       "      <th>Pentecostal / Charismatic</th>\n",
       "      <th>Protestant Denomination</th>\n",
       "      <th>Zoroastrian</th>\n",
       "      <th>MedHHInc2014</th>\n",
       "      <th>PerCapitaInc</th>\n",
       "      <th>PovertyUnder18Pct2014</th>\n",
       "      <th>PovertyAllAgesPct2014</th>\n",
       "      <th>Deep_Pov_All</th>\n",
       "      <th>Deep_Pov_Children</th>\n",
       "      <th>Population</th>\n",
       "      <th>Housing units</th>\n",
       "      <th>Area in square miles - Total area</th>\n",
       "      <th>Area in square miles - Water area</th>\n",
       "      <th>Area in square miles - Land area</th>\n",
       "      <th>Density per square mile of land area - Population</th>\n",
       "      <th>Density per square mile of land area - Housing units</th>\n",
       "      <th>age_total_pop</th>\n",
       "      <th>0-4_rate</th>\n",
       "      <th>5-9_rate</th>\n",
       "      <th>10-14_rate</th>\n",
       "      <th>15-19_rate</th>\n",
       "      <th>20-24_rate</th>\n",
       "      <th>25-29_rate</th>\n",
       "      <th>30-34_rate</th>\n",
       "      <th>35-39_rate</th>\n",
       "      <th>40-44_rate</th>\n",
       "      <th>45-49_rate</th>\n",
       "      <th>50-54_rate</th>\n",
       "      <th>55-59_rate</th>\n",
       "      <th>60-64_rate</th>\n",
       "      <th>65-69_rate</th>\n",
       "      <th>70-74_rate</th>\n",
       "      <th>75-79_rate</th>\n",
       "      <th>80-84_rate</th>\n",
       "      <th>85+_rate</th>\n",
       "      <th>TOT_MALE_rate</th>\n",
       "      <th>TOT_FEMALE_rate</th>\n",
       "      <th>WHITE_MALE_rate</th>\n",
       "      <th>WHITE_FEMALE_rate</th>\n",
       "      <th>BLACK_MALE_rate</th>\n",
       "      <th>BLACK_FEMALE_rate</th>\n",
       "      <th>NATIVE_AMERICAN_MALE_rate</th>\n",
       "      <th>NATIVE_AMERICAN_FEMALE_rate</th>\n",
       "      <th>ASIAN_MALE_rate</th>\n",
       "      <th>ASIAN_FEMALE_rate</th>\n",
       "      <th>HAWAIIAN_PACIFIC_MALE_rate</th>\n",
       "      <th>HAWAIIAN_PACIFIC_FEMALE_rate</th>\n",
       "      <th>MULTI_MALE_rate</th>\n",
       "      <th>MULTI_FEMALE_rate</th>\n",
       "      <th>WHITE_rate</th>\n",
       "      <th>BLACK_rate</th>\n",
       "      <th>NATIVE_AMERICAN_rate</th>\n",
       "      <th>HAWAIIAN_PACIFIC_rate</th>\n",
       "      <th>MULTI_rate</th>\n",
       "      <th>voter_turnout_rate</th>\n",
       "      <th>Democrat</th>\n",
       "    </tr>\n",
       "  </thead>\n",
       "  <tbody>\n",
       "    <tr>\n",
       "      <th>0</th>\n",
       "      <td>2013</td>\n",
       "      <td>7471</td>\n",
       "      <td>18.3</td>\n",
       "      <td>39.4</td>\n",
       "      <td>28.2</td>\n",
       "      <td>14.0</td>\n",
       "      <td>3.2</td>\n",
       "      <td>3341.0</td>\n",
       "      <td>0</td>\n",
       "      <td>0</td>\n",
       "      <td>190</td>\n",
       "      <td>42</td>\n",
       "      <td>0</td>\n",
       "      <td>0</td>\n",
       "      <td>0</td>\n",
       "      <td>0</td>\n",
       "      <td>0</td>\n",
       "      <td>0</td>\n",
       "      <td>42</td>\n",
       "      <td>2</td>\n",
       "      <td>0</td>\n",
       "      <td>193</td>\n",
       "      <td>0</td>\n",
       "      <td>0</td>\n",
       "      <td>0</td>\n",
       "      <td>55462.0</td>\n",
       "      <td>27122.0</td>\n",
       "      <td>15.6</td>\n",
       "      <td>16.2</td>\n",
       "      <td>4.933009</td>\n",
       "      <td>2.459016</td>\n",
       "      <td>3141</td>\n",
       "      <td>747</td>\n",
       "      <td>15009.86</td>\n",
       "      <td>8027.92</td>\n",
       "      <td>6981.94</td>\n",
       "      <td>0.4</td>\n",
       "      <td>0.1</td>\n",
       "      <td>1143123.501</td>\n",
       "      <td>0.06075</td>\n",
       "      <td>0.062572</td>\n",
       "      <td>0.062572</td>\n",
       "      <td>0.064477</td>\n",
       "      <td>0.069364</td>\n",
       "      <td>0.068451</td>\n",
       "      <td>0.066075</td>\n",
       "      <td>0.062176</td>\n",
       "      <td>0.061737</td>\n",
       "      <td>0.063702</td>\n",
       "      <td>0.068223</td>\n",
       "      <td>0.066614</td>\n",
       "      <td>0.058252</td>\n",
       "      <td>0</td>\n",
       "      <td>0.035106</td>\n",
       "      <td>0.024843</td>\n",
       "      <td>0.017738</td>\n",
       "      <td>0.019228</td>\n",
       "      <td>0.4831</td>\n",
       "      <td>0.498326</td>\n",
       "      <td>0.375296</td>\n",
       "      <td>0.382214</td>\n",
       "      <td>0.062079</td>\n",
       "      <td>0.067586</td>\n",
       "      <td>0.006031</td>\n",
       "      <td>0.005922</td>\n",
       "      <td>0.026152</td>\n",
       "      <td>0</td>\n",
       "      <td>0.001168</td>\n",
       "      <td>0.001131</td>\n",
       "      <td>0.012374</td>\n",
       "      <td>0</td>\n",
       "      <td>0.75751</td>\n",
       "      <td>0.129665</td>\n",
       "      <td>0.011954</td>\n",
       "      <td>0.002299</td>\n",
       "      <td>0.012374</td>\n",
       "      <td>2.236157</td>\n",
       "      <td>0</td>\n",
       "    </tr>\n",
       "    <tr>\n",
       "      <th>1</th>\n",
       "      <td>2016</td>\n",
       "      <td>7471</td>\n",
       "      <td>16.0</td>\n",
       "      <td>37.0</td>\n",
       "      <td>32.2</td>\n",
       "      <td>14.7</td>\n",
       "      <td>3.8</td>\n",
       "      <td>5702.0</td>\n",
       "      <td>0</td>\n",
       "      <td>0</td>\n",
       "      <td>202</td>\n",
       "      <td>56</td>\n",
       "      <td>0</td>\n",
       "      <td>0</td>\n",
       "      <td>0</td>\n",
       "      <td>14</td>\n",
       "      <td>19</td>\n",
       "      <td>0</td>\n",
       "      <td>0</td>\n",
       "      <td>20</td>\n",
       "      <td>0</td>\n",
       "      <td>177</td>\n",
       "      <td>1</td>\n",
       "      <td>0</td>\n",
       "      <td>0</td>\n",
       "      <td>68387.0</td>\n",
       "      <td>32700.0</td>\n",
       "      <td>9.7</td>\n",
       "      <td>9.9</td>\n",
       "      <td>4.287817</td>\n",
       "      <td>4.505495</td>\n",
       "      <td>5561</td>\n",
       "      <td>1929</td>\n",
       "      <td>14116.44</td>\n",
       "      <td>9726.16</td>\n",
       "      <td>4390.28</td>\n",
       "      <td>1.3</td>\n",
       "      <td>0.4</td>\n",
       "      <td>1143123.501</td>\n",
       "      <td>0.06075</td>\n",
       "      <td>0.062572</td>\n",
       "      <td>0.062572</td>\n",
       "      <td>0.064477</td>\n",
       "      <td>0.069364</td>\n",
       "      <td>0.068451</td>\n",
       "      <td>0.066075</td>\n",
       "      <td>0.062176</td>\n",
       "      <td>0.061737</td>\n",
       "      <td>0.063702</td>\n",
       "      <td>0.068223</td>\n",
       "      <td>0.066614</td>\n",
       "      <td>0.058252</td>\n",
       "      <td>0</td>\n",
       "      <td>0.035106</td>\n",
       "      <td>0.024843</td>\n",
       "      <td>0.017738</td>\n",
       "      <td>0.019228</td>\n",
       "      <td>0.4831</td>\n",
       "      <td>0.498326</td>\n",
       "      <td>0.375296</td>\n",
       "      <td>0.382214</td>\n",
       "      <td>0.062079</td>\n",
       "      <td>0.067586</td>\n",
       "      <td>0.006031</td>\n",
       "      <td>0.005922</td>\n",
       "      <td>0.026152</td>\n",
       "      <td>0</td>\n",
       "      <td>0.001168</td>\n",
       "      <td>0.001131</td>\n",
       "      <td>0.012374</td>\n",
       "      <td>0</td>\n",
       "      <td>0.75751</td>\n",
       "      <td>0.129665</td>\n",
       "      <td>0.011954</td>\n",
       "      <td>0.002299</td>\n",
       "      <td>0.012374</td>\n",
       "      <td>1.310242</td>\n",
       "      <td>0</td>\n",
       "    </tr>\n",
       "    <tr>\n",
       "      <th>2</th>\n",
       "      <td>2020</td>\n",
       "      <td>7471</td>\n",
       "      <td>7.0</td>\n",
       "      <td>24.1</td>\n",
       "      <td>35.6</td>\n",
       "      <td>33.2</td>\n",
       "      <td>5.0</td>\n",
       "      <td>298695.0</td>\n",
       "      <td>0</td>\n",
       "      <td>13</td>\n",
       "      <td>165</td>\n",
       "      <td>200</td>\n",
       "      <td>0</td>\n",
       "      <td>0</td>\n",
       "      <td>1</td>\n",
       "      <td>47</td>\n",
       "      <td>47</td>\n",
       "      <td>3</td>\n",
       "      <td>38</td>\n",
       "      <td>69</td>\n",
       "      <td>16</td>\n",
       "      <td>68</td>\n",
       "      <td>22</td>\n",
       "      <td>6</td>\n",
       "      <td>0</td>\n",
       "      <td>75200.0</td>\n",
       "      <td>36508.0</td>\n",
       "      <td>14.2</td>\n",
       "      <td>10.0</td>\n",
       "      <td>3.903225</td>\n",
       "      <td>4.874349</td>\n",
       "      <td>291826</td>\n",
       "      <td>113032</td>\n",
       "      <td>1961.00</td>\n",
       "      <td>256.32</td>\n",
       "      <td>1704.68</td>\n",
       "      <td>171.2</td>\n",
       "      <td>66.3</td>\n",
       "      <td>1143123.501</td>\n",
       "      <td>0.06075</td>\n",
       "      <td>0.062572</td>\n",
       "      <td>0.062572</td>\n",
       "      <td>0.064477</td>\n",
       "      <td>0.069364</td>\n",
       "      <td>0.068451</td>\n",
       "      <td>0.066075</td>\n",
       "      <td>0.062176</td>\n",
       "      <td>0.061737</td>\n",
       "      <td>0.063702</td>\n",
       "      <td>0.068223</td>\n",
       "      <td>0.066614</td>\n",
       "      <td>0.058252</td>\n",
       "      <td>0</td>\n",
       "      <td>0.035106</td>\n",
       "      <td>0.024843</td>\n",
       "      <td>0.017738</td>\n",
       "      <td>0.019228</td>\n",
       "      <td>0.4831</td>\n",
       "      <td>0.498326</td>\n",
       "      <td>0.375296</td>\n",
       "      <td>0.382214</td>\n",
       "      <td>0.062079</td>\n",
       "      <td>0.067586</td>\n",
       "      <td>0.006031</td>\n",
       "      <td>0.005922</td>\n",
       "      <td>0.026152</td>\n",
       "      <td>0</td>\n",
       "      <td>0.001168</td>\n",
       "      <td>0.001131</td>\n",
       "      <td>0.012374</td>\n",
       "      <td>0</td>\n",
       "      <td>0.75751</td>\n",
       "      <td>0.129665</td>\n",
       "      <td>0.011954</td>\n",
       "      <td>0.002299</td>\n",
       "      <td>0.012374</td>\n",
       "      <td>0.025012</td>\n",
       "      <td>0</td>\n",
       "    </tr>\n",
       "    <tr>\n",
       "      <th>3</th>\n",
       "      <td>2050</td>\n",
       "      <td>7471</td>\n",
       "      <td>21.0</td>\n",
       "      <td>43.6</td>\n",
       "      <td>23.7</td>\n",
       "      <td>11.6</td>\n",
       "      <td>14.4</td>\n",
       "      <td>17946.0</td>\n",
       "      <td>0</td>\n",
       "      <td>0</td>\n",
       "      <td>549</td>\n",
       "      <td>167</td>\n",
       "      <td>0</td>\n",
       "      <td>0</td>\n",
       "      <td>0</td>\n",
       "      <td>2</td>\n",
       "      <td>10</td>\n",
       "      <td>0</td>\n",
       "      <td>0</td>\n",
       "      <td>11</td>\n",
       "      <td>0</td>\n",
       "      <td>306</td>\n",
       "      <td>11</td>\n",
       "      <td>1</td>\n",
       "      <td>0</td>\n",
       "      <td>45808.0</td>\n",
       "      <td>18875.0</td>\n",
       "      <td>31.7</td>\n",
       "      <td>23.8</td>\n",
       "      <td>8.644846</td>\n",
       "      <td>10.329777</td>\n",
       "      <td>17013</td>\n",
       "      <td>5919</td>\n",
       "      <td>45504.21</td>\n",
       "      <td>4934.20</td>\n",
       "      <td>40570.00</td>\n",
       "      <td>0.4</td>\n",
       "      <td>0.1</td>\n",
       "      <td>1143123.501</td>\n",
       "      <td>0.06075</td>\n",
       "      <td>0.062572</td>\n",
       "      <td>0.062572</td>\n",
       "      <td>0.064477</td>\n",
       "      <td>0.069364</td>\n",
       "      <td>0.068451</td>\n",
       "      <td>0.066075</td>\n",
       "      <td>0.062176</td>\n",
       "      <td>0.061737</td>\n",
       "      <td>0.063702</td>\n",
       "      <td>0.068223</td>\n",
       "      <td>0.066614</td>\n",
       "      <td>0.058252</td>\n",
       "      <td>0</td>\n",
       "      <td>0.035106</td>\n",
       "      <td>0.024843</td>\n",
       "      <td>0.017738</td>\n",
       "      <td>0.019228</td>\n",
       "      <td>0.4831</td>\n",
       "      <td>0.498326</td>\n",
       "      <td>0.375296</td>\n",
       "      <td>0.382214</td>\n",
       "      <td>0.062079</td>\n",
       "      <td>0.067586</td>\n",
       "      <td>0.006031</td>\n",
       "      <td>0.005922</td>\n",
       "      <td>0.026152</td>\n",
       "      <td>0</td>\n",
       "      <td>0.001168</td>\n",
       "      <td>0.001131</td>\n",
       "      <td>0.012374</td>\n",
       "      <td>0</td>\n",
       "      <td>0.75751</td>\n",
       "      <td>0.129665</td>\n",
       "      <td>0.011954</td>\n",
       "      <td>0.002299</td>\n",
       "      <td>0.012374</td>\n",
       "      <td>0.416304</td>\n",
       "      <td>0</td>\n",
       "    </tr>\n",
       "    <tr>\n",
       "      <th>4</th>\n",
       "      <td>2060</td>\n",
       "      <td>7471</td>\n",
       "      <td>8.0</td>\n",
       "      <td>30.7</td>\n",
       "      <td>41.3</td>\n",
       "      <td>20.0</td>\n",
       "      <td>9.2</td>\n",
       "      <td>892.0</td>\n",
       "      <td>0</td>\n",
       "      <td>0</td>\n",
       "      <td>347</td>\n",
       "      <td>6</td>\n",
       "      <td>0</td>\n",
       "      <td>0</td>\n",
       "      <td>0</td>\n",
       "      <td>0</td>\n",
       "      <td>0</td>\n",
       "      <td>0</td>\n",
       "      <td>6</td>\n",
       "      <td>1</td>\n",
       "      <td>0</td>\n",
       "      <td>227</td>\n",
       "      <td>0</td>\n",
       "      <td>0</td>\n",
       "      <td>0</td>\n",
       "      <td>75364.0</td>\n",
       "      <td>37012.0</td>\n",
       "      <td>12.2</td>\n",
       "      <td>9.5</td>\n",
       "      <td>4.868154</td>\n",
       "      <td>3.816794</td>\n",
       "      <td>997</td>\n",
       "      <td>969</td>\n",
       "      <td>887.56</td>\n",
       "      <td>383.72</td>\n",
       "      <td>503.84</td>\n",
       "      <td>2.0</td>\n",
       "      <td>1.9</td>\n",
       "      <td>1143123.501</td>\n",
       "      <td>0.06075</td>\n",
       "      <td>0.062572</td>\n",
       "      <td>0.062572</td>\n",
       "      <td>0.064477</td>\n",
       "      <td>0.069364</td>\n",
       "      <td>0.068451</td>\n",
       "      <td>0.066075</td>\n",
       "      <td>0.062176</td>\n",
       "      <td>0.061737</td>\n",
       "      <td>0.063702</td>\n",
       "      <td>0.068223</td>\n",
       "      <td>0.066614</td>\n",
       "      <td>0.058252</td>\n",
       "      <td>0</td>\n",
       "      <td>0.035106</td>\n",
       "      <td>0.024843</td>\n",
       "      <td>0.017738</td>\n",
       "      <td>0.019228</td>\n",
       "      <td>0.4831</td>\n",
       "      <td>0.498326</td>\n",
       "      <td>0.375296</td>\n",
       "      <td>0.382214</td>\n",
       "      <td>0.062079</td>\n",
       "      <td>0.067586</td>\n",
       "      <td>0.006031</td>\n",
       "      <td>0.005922</td>\n",
       "      <td>0.026152</td>\n",
       "      <td>0</td>\n",
       "      <td>0.001168</td>\n",
       "      <td>0.001131</td>\n",
       "      <td>0.012374</td>\n",
       "      <td>0</td>\n",
       "      <td>0.75751</td>\n",
       "      <td>0.129665</td>\n",
       "      <td>0.011954</td>\n",
       "      <td>0.002299</td>\n",
       "      <td>0.012374</td>\n",
       "      <td>8.375561</td>\n",
       "      <td>0</td>\n",
       "    </tr>\n",
       "  </tbody>\n",
       "</table>\n",
       "</div>"
      ],
      "text/plain": [
       "   fips  votes  ...  voter_turnout_rate  Democrat\n",
       "0  2013   7471  ...            2.236157         0\n",
       "1  2016   7471  ...            1.310242         0\n",
       "2  2020   7471  ...            0.025012         0\n",
       "3  2050   7471  ...            0.416304         0\n",
       "4  2060   7471  ...            8.375561         0\n",
       "\n",
       "[5 rows x 78 columns]"
      ]
     },
     "execution_count": 8,
     "metadata": {
      "tags": []
     },
     "output_type": "execute_result"
    }
   ],
   "source": [
    "df.head()"
   ]
  },
  {
   "cell_type": "markdown",
   "metadata": {
    "id": "9TRp-R6iFjTb"
   },
   "source": [
    "1A. **Bad Data**"
   ]
  },
  {
   "cell_type": "code",
   "execution_count": null,
   "metadata": {
    "colab": {
     "base_uri": "https://localhost:8080/"
    },
    "id": "Merod8T3pjFH",
    "outputId": "e20b3ee8-6ca9-4c2d-d98f-aebb14baf356"
   },
   "outputs": [
    {
     "name": "stdout",
     "output_type": "stream",
     "text": [
      "5\n"
     ]
    }
   ],
   "source": [
    "## counting the number of cells containing \"<bound method Series.mean\n",
    "for i in df.columns:\n",
    "    contain_values = df[i].astype(str).str.count('bound').sum()\n",
    "    if contain_values!=0:\n",
    "      print(contain_values)\n",
    "## 5 cells include \"<bound method Series.mean\n",
    "\n",
    "#replacing the cells containing \"<bound method Series.mean with zero\n",
    "for i in df.columns:\n",
    "    contain_values = df[i].astype(str).str.contains('mean')\n",
    "    df.loc[contain_values, i] = 0\n"
   ]
  },
  {
   "cell_type": "markdown",
   "metadata": {
    "id": "SZ-__fOmF-TS"
   },
   "source": [
    "1B **Split the FIPS feature**\n",
    "Some contain only 4 digits as the FIPS values are missing a 0 \n",
    "preceding the code"
   ]
  },
  {
   "cell_type": "code",
   "execution_count": null,
   "metadata": {
    "id": "n2Ee1g9RFLN0"
   },
   "outputs": [],
   "source": [
    "## converting to string type\n",
    "df[\"fips\"] = df[\"fips\"].astype(str)\n",
    "\n",
    "## adding a zero to the FIPS feature\n",
    "df[\"fips\"] = df[\"fips\"].str.zfill(5)\n",
    "\n",
    "## Splitting the feature\n",
    "df[\"State\"]= df[\"fips\"].str[0:2]\n",
    "df[\"County\"]= df[\"fips\"].str[2:6]\n",
    "df.drop(['fips'], axis=1, inplace=True)"
   ]
  },
  {
   "cell_type": "markdown",
   "metadata": {
    "id": "vEIdjeHiGkL0"
   },
   "source": [
    "1C Aggregate and Categorize the features"
   ]
  },
  {
   "cell_type": "code",
   "execution_count": null,
   "metadata": {
    "id": "mWGhsKavfy1r"
   },
   "outputs": [],
   "source": [
    "# Aggregate Education related features\n",
    "df.rename(columns={'Percent of adults with less than a high school diploma, 2011-2015': 'LessthanDiploma','Percent of adults with a high school diploma only, 2011-2015': 'OnlyDiploma',\"Percent of adults completing some college or associate's degree, 2011-2015\":'College', \"Percent of adults with a bachelor's degree or higher, 2011-2015\":'BachelorOrHigher'},inplace=True)\n",
    "df.columns\n",
    "df['Education'] = df[['LessthanDiploma', 'OnlyDiploma','College','BachelorOrHigher']].idxmax(axis=1)\n",
    "df.drop(['LessthanDiploma', 'OnlyDiploma','College','BachelorOrHigher'], axis=1,inplace=True)\n",
    "\n",
    "# Aggregate Religion related features\n",
    "df['Religion'] = df[['Amish', 'Buddhist',\n",
    "       'Catholic', 'Christian Generic', 'Eastern Orthodox', 'Hindu', 'Jewish',\n",
    "       'Mainline Christian', 'Mormon', 'Muslim', 'Non-Catholic Christian',\n",
    "       'Other', 'Other Christian', 'Other Misc', 'Pentecostal / Charismatic',\n",
    "       'Protestant Denomination', 'Zoroastrian']].idxmax(axis=1)\n",
    "df.drop(['Amish', 'Buddhist',\n",
    "       'Catholic', 'Christian Generic', 'Eastern Orthodox', 'Hindu', 'Jewish',\n",
    "       'Mainline Christian', 'Mormon', 'Muslim', 'Non-Catholic Christian',\n",
    "       'Other', 'Other Christian', 'Other Misc', 'Pentecostal / Charismatic',\n",
    "       'Protestant Denomination', 'Zoroastrian'], axis=1,inplace=True)   \n",
    "\n",
    "# Aggregate Age related features    \n",
    "df['Old'] = df[['65-69_rate', '70-74_rate',\n",
    "       '75-79_rate', '80-84_rate', '85+_rate']].sum(axis=1)\n",
    "df.drop(['65-69_rate', '70-74_rate',\n",
    "       '75-79_rate', '80-84_rate', '85+_rate'], axis=1,inplace=True)\n",
    "df['Young'] = df[['0-4_rate', '5-9_rate', '10-14_rate', '15-19_rate']].sum(axis=1)\n",
    "df.drop(['0-4_rate', '5-9_rate', '10-14_rate', '15-19_rate'], axis=1,inplace=True)\n",
    "df['Adult'] = df[['20-24_rate',\n",
    "       '25-29_rate', '30-34_rate', '35-39_rate', '40-44_rate', '45-49_rate',\n",
    "       '50-54_rate', '55-59_rate', '60-64_rate']].sum(axis=1)\n",
    "df.drop(['20-24_rate',\n",
    "       '25-29_rate', '30-34_rate', '35-39_rate', '40-44_rate', '45-49_rate',\n",
    "       '50-54_rate', '55-59_rate', '60-64_rate'], axis=1,inplace=True) \n",
    "\n",
    "# Aggregate Ethnic and racial groups \n",
    "df['EthnicMale'] = df[['WHITE_MALE_rate',\n",
    "       'BLACK_MALE_rate', 'NATIVE_AMERICAN_MALE_rate', 'ASIAN_MALE_rate',\n",
    "       'HAWAIIAN_PACIFIC_MALE_rate',\n",
    "       'MULTI_MALE_rate']].idxmax(axis=1)\n",
    "df.drop(['WHITE_MALE_rate',\n",
    "       'BLACK_MALE_rate', 'NATIVE_AMERICAN_MALE_rate', 'ASIAN_MALE_rate',\n",
    "       'HAWAIIAN_PACIFIC_MALE_rate',\n",
    "       'MULTI_MALE_rate'], axis=1,inplace=True)\n",
    "df['EthnicFemale'] = df[['WHITE_FEMALE_rate',\n",
    "        'BLACK_FEMALE_rate',\n",
    "       'NATIVE_AMERICAN_FEMALE_rate', 'ASIAN_FEMALE_rate',\n",
    "       'HAWAIIAN_PACIFIC_FEMALE_rate',\n",
    "        'MULTI_FEMALE_rate']].idxmax(axis=1)\n",
    "df.drop(['WHITE_FEMALE_rate',\n",
    "        'BLACK_FEMALE_rate',\n",
    "       'NATIVE_AMERICAN_FEMALE_rate', 'ASIAN_FEMALE_rate',\n",
    "       'HAWAIIAN_PACIFIC_FEMALE_rate',\n",
    "        'MULTI_FEMALE_rate'], axis=1,inplace=True)\n",
    "\n",
    "# Removing the features\n",
    "df.drop(['PovertyUnder18Pct2014','Deep_Pov_Children','Housing units', 'Area in square miles - Water area', 'Area in square miles - Land area', 'Density per square mile of land area - Housing units','age_total_pop'], axis=1, inplace=True)\n"
   ]
  },
  {
   "cell_type": "markdown",
   "metadata": {
    "id": "Z_moZU_t7KQ2"
   },
   "source": [
    "**1D. Renaming the features**"
   ]
  },
  {
   "cell_type": "code",
   "execution_count": null,
   "metadata": {
    "id": "WJp78Pa47Itu"
   },
   "outputs": [],
   "source": [
    "#  Renaming the features\n",
    "df.rename(columns={'Unemployment_rate_2015': 'UnemploymentRate2015','POP_ESTIMATE_2015': 'PopulationEstimate2015','Density per square mile of land area - Population':'PopDensity', 'Density per square mile of land area - Housing units':'HousingDensitySqM'},inplace=True) \n"
   ]
  },
  {
   "cell_type": "markdown",
   "metadata": {
    "id": "bfE3iddy7QT-"
   },
   "source": [
    "**1E.Normlizing the features**"
   ]
  },
  {
   "cell_type": "code",
   "execution_count": null,
   "metadata": {
    "id": "nvLsQuKfhj1n"
   },
   "outputs": [],
   "source": [
    "# Normalizing income-related features\n",
    "df['MedHHInc2014'] = (df['MedHHInc2014']-df['MedHHInc2014'].mean()) / df['MedHHInc2014'].std()\n",
    "df['PerCapitaInc'] = (df['PerCapitaInc']-df['PerCapitaInc'].mean()) / df['PerCapitaInc'].std()\n",
    "\n",
    "# Normalizing population-related features\n",
    "df['Population'] = (df['Population'].astype(float)-df['Population'].astype(float).mean()) / df['Population'].astype(float).std()\n",
    "df['PopulationEstimate2015'] = (df['PopulationEstimate2015']-df['PopulationEstimate2015'].mean()) / df['PopulationEstimate2015'].std()\n",
    "\n",
    "# Area related feature\n",
    "df['Area in square miles - Total area'] = (df['Area in square miles - Total area']-df['Area in square miles - Total area'].mean()) / df['Area in square miles - Total area'].std()\n",
    "\n",
    "# Rate related features\n",
    "df['Deep_Pov_All'] = (df['Deep_Pov_All']-df['Deep_Pov_All'].mean()) / 100\n",
    "df['UnemploymentRate2015'] = (df['UnemploymentRate2015']-df['UnemploymentRate2015'].mean()) / 100\n",
    "df['PovertyAllAgesPct2014'] = (df['PovertyAllAgesPct2014']-df['PovertyAllAgesPct2014'].mean()) / 100\n",
    "df['voter_turnout_rate'] = (df['voter_turnout_rate']-df['voter_turnout_rate'].mean()) / 100\n"
   ]
  },
  {
   "cell_type": "markdown",
   "metadata": {
    "id": "AAQWH5LL8aIv"
   },
   "source": [
    "**1.6.** **Report the following** \n",
    "New name, mean and standard deviation of PopEstimate"
   ]
  },
  {
   "cell_type": "code",
   "execution_count": null,
   "metadata": {
    "colab": {
     "base_uri": "https://localhost:8080/"
    },
    "id": "zOReMeO_iwnF",
    "outputId": "00f96b68-060e-4755-a221-7e460dd2590f"
   },
   "outputs": [
    {
     "data": {
      "text/plain": [
       "count    3.145000e+03\n",
       "mean    -1.770356e-16\n",
       "std      1.000000e+00\n",
       "min     -3.126906e-01\n",
       "25%     -2.797866e-01\n",
       "50%     -2.352555e-01\n",
       "75%     -1.075193e-01\n",
       "max      3.039380e+01\n",
       "Name: PopulationEstimate2015, dtype: float64"
      ]
     },
     "execution_count": 13,
     "metadata": {
      "tags": []
     },
     "output_type": "execute_result"
    }
   ],
   "source": [
    "df['PopulationEstimate2015'].describe()"
   ]
  },
  {
   "cell_type": "markdown",
   "metadata": {
    "id": "W82ZW0Uy81XG"
   },
   "source": [
    "New name, mean and standard deviation of Population"
   ]
  },
  {
   "cell_type": "code",
   "execution_count": null,
   "metadata": {
    "colab": {
     "base_uri": "https://localhost:8080/"
    },
    "id": "iqEI1VN9Ke_4",
    "outputId": "18b12e82-9808-4f01-b050-1f581735811b"
   },
   "outputs": [
    {
     "data": {
      "text/plain": [
       "count    3.145000e+03\n",
       "mean    -2.794091e-17\n",
       "std      1.000000e+00\n",
       "min     -3.138100e-01\n",
       "25%     -2.784343e-01\n",
       "50%     -2.312016e-01\n",
       "75%     -1.011049e-01\n",
       "max      3.107425e+01\n",
       "Name: Population, dtype: float64"
      ]
     },
     "execution_count": 14,
     "metadata": {
      "tags": []
     },
     "output_type": "execute_result"
    }
   ],
   "source": [
    "df['Population'].astype(float).describe()"
   ]
  },
  {
   "cell_type": "code",
   "execution_count": null,
   "metadata": {
    "colab": {
     "base_uri": "https://localhost:8080/"
    },
    "id": "fsqZjUBsNs9c",
    "outputId": "42d24bce-2991-47e3-a44c-0753bd70dea2"
   },
   "outputs": [
    {
     "data": {
      "text/plain": [
       "0.9915591351404102"
      ]
     },
     "execution_count": 15,
     "metadata": {
      "tags": []
     },
     "output_type": "execute_result"
    }
   ],
   "source": [
    "df['Population'].astype(float).corr(df['PopulationEstimate2015'])\n"
   ]
  },
  {
   "cell_type": "markdown",
   "metadata": {
    "id": "G79W9W3oUCaX"
   },
   "source": [
    "Since the correlation between the two columns is higher than 0.9, we can drop PopulationEstimate column"
   ]
  },
  {
   "cell_type": "code",
   "execution_count": null,
   "metadata": {
    "id": "9t0HyQzuUUJp"
   },
   "outputs": [],
   "source": [
    "df.drop(['PopulationEstimate2015'], axis=1, inplace=True)"
   ]
  },
  {
   "cell_type": "code",
   "execution_count": null,
   "metadata": {
    "colab": {
     "base_uri": "https://localhost:8080/"
    },
    "id": "zXp1szsJU_Bc",
    "outputId": "d32c0622-99cb-43fa-f14f-783e09ccc826"
   },
   "outputs": [
    {
     "data": {
      "text/plain": [
       "27"
      ]
     },
     "execution_count": 17,
     "metadata": {
      "tags": []
     },
     "output_type": "execute_result"
    }
   ],
   "source": [
    "len(df.columns)"
   ]
  },
  {
   "cell_type": "markdown",
   "metadata": {
    "id": "XUmFfYMT9mb0"
   },
   "source": [
    "New mean of Percapita"
   ]
  },
  {
   "cell_type": "code",
   "execution_count": null,
   "metadata": {
    "colab": {
     "base_uri": "https://localhost:8080/"
    },
    "id": "OJnaJY13iZb_",
    "outputId": "a4af5373-b68f-45ba-a52c-6f633da8bedb"
   },
   "outputs": [
    {
     "data": {
      "text/plain": [
       "count    3.145000e+03\n",
       "mean    -5.348839e-16\n",
       "std      1.000000e+00\n",
       "min     -2.781910e+00\n",
       "25%     -6.644255e-01\n",
       "50%     -1.191829e-01\n",
       "75%      4.784971e-01\n",
       "max      6.935650e+00\n",
       "Name: PerCapitaInc, dtype: float64"
      ]
     },
     "execution_count": 18,
     "metadata": {
      "tags": []
     },
     "output_type": "execute_result"
    }
   ],
   "source": [
    "df['PerCapitaInc'].describe()"
   ]
  },
  {
   "cell_type": "markdown",
   "metadata": {
    "id": "tRwH7OtU9fid"
   },
   "source": [
    "New median and IQR of Percapita"
   ]
  },
  {
   "cell_type": "code",
   "execution_count": null,
   "metadata": {
    "id": "XIKV3cxpVEGS"
   },
   "outputs": [],
   "source": [
    "# median and Q2 of Percapita\n",
    "medP = np.quantile(df['PerCapitaInc'], 0.5)\n",
    "\n",
    "# Q1 of Percapita\n",
    "q1 = np.quantile(df['PerCapitaInc'], 0.25)\n",
    "\n",
    "# Q3 if Percapita\n",
    "q3 = np.quantile(df['PerCapitaInc'], 0.75)\n",
    "\n",
    "#IQR of percapita\n",
    "iqr = q3-q1"
   ]
  },
  {
   "cell_type": "markdown",
   "metadata": {
    "id": "MNn2eN-B9uM7"
   },
   "source": [
    "New mean of Povertyallages"
   ]
  },
  {
   "cell_type": "code",
   "execution_count": null,
   "metadata": {
    "colab": {
     "base_uri": "https://localhost:8080/"
    },
    "id": "bWjdPGwZiiE5",
    "outputId": "7927af2b-5fdb-4874-b5dc-24d75a4873c6"
   },
   "outputs": [
    {
     "data": {
      "text/plain": [
       "count    3.145000e+03\n",
       "mean    -3.173755e-16\n",
       "std      6.427022e-02\n",
       "min     -1.363130e-01\n",
       "25%     -4.731301e-02\n",
       "50%     -1.031301e-02\n",
       "75%      3.468699e-02\n",
       "max      3.056870e-01\n",
       "Name: PovertyAllAgesPct2014, dtype: float64"
      ]
     },
     "execution_count": 20,
     "metadata": {
      "tags": []
     },
     "output_type": "execute_result"
    }
   ],
   "source": [
    "df['PovertyAllAgesPct2014'].describe()"
   ]
  },
  {
   "cell_type": "markdown",
   "metadata": {
    "id": "cmuPrH9X9yaf"
   },
   "source": [
    "New median and quartials of Povertyallages"
   ]
  },
  {
   "cell_type": "code",
   "execution_count": null,
   "metadata": {
    "id": "wS-I6_JpXkbq"
   },
   "outputs": [],
   "source": [
    "# median and Q2 of PovertyAllages\n",
    "medPv = np.quantile(df['PovertyAllAgesPct2014'], 0.5)\n",
    "\n",
    "# Q1 of PovertyAllages\n",
    "q1v = np.quantile(df['PovertyAllAgesPct2014'], 0.25)\n",
    "\n",
    "# Q3 if PovertyAllages\n",
    "q3v = np.quantile(df['PovertyAllAgesPct2014'], 0.75)\n",
    "\n",
    "#IQR of PovertyAllages\n",
    "iqrv = q3-q1"
   ]
  },
  {
   "cell_type": "markdown",
   "metadata": {
    "id": "mtDcPNCr9785"
   },
   "source": [
    "**Mode of Religion**"
   ]
  },
  {
   "cell_type": "code",
   "execution_count": null,
   "metadata": {
    "colab": {
     "base_uri": "https://localhost:8080/"
    },
    "id": "3-2T2K3OiqrO",
    "outputId": "2674507c-df5a-4a7c-968d-5284a9e94b95"
   },
   "outputs": [
    {
     "data": {
      "text/plain": [
       "0    Christian Generic\n",
       "dtype: object"
      ]
     },
     "execution_count": 22,
     "metadata": {
      "tags": []
     },
     "output_type": "execute_result"
    }
   ],
   "source": [
    "df['Religion'].mode()"
   ]
  },
  {
   "cell_type": "markdown",
   "metadata": {
    "id": "fOGYzFNU-BGl"
   },
   "source": [
    "**Mode of Ethnic Male**"
   ]
  },
  {
   "cell_type": "code",
   "execution_count": null,
   "metadata": {
    "colab": {
     "base_uri": "https://localhost:8080/"
    },
    "id": "8XneNP8MiztT",
    "outputId": "d35b45fd-298a-48d7-8089-4770fc1fda70"
   },
   "outputs": [
    {
     "data": {
      "text/plain": [
       "0    WHITE_MALE_rate\n",
       "dtype: object"
      ]
     },
     "execution_count": 23,
     "metadata": {
      "tags": []
     },
     "output_type": "execute_result"
    }
   ],
   "source": [
    "df['EthnicMale'].mode()"
   ]
  },
  {
   "cell_type": "markdown",
   "metadata": {
    "id": "vMkV4rOr_rCF"
   },
   "source": [
    "**1.7 Plots**"
   ]
  },
  {
   "cell_type": "markdown",
   "metadata": {
    "id": "O96PnBz2-LDu"
   },
   "source": [
    "**Scatter Plot of Area and population**"
   ]
  },
  {
   "cell_type": "code",
   "execution_count": null,
   "metadata": {
    "colab": {
     "base_uri": "https://localhost:8080/",
     "height": 282
    },
    "id": "DpNEiUp6jJd_",
    "outputId": "7e054f0c-2652-4d7b-8f00-d134d2121c1d"
   },
   "outputs": [
    {
     "data": {
      "text/plain": [
       "<matplotlib.collections.PathCollection at 0x7f5cbd3d0e10>"
      ]
     },
     "execution_count": 24,
     "metadata": {
      "tags": []
     },
     "output_type": "execute_result"
    },
    {
     "data": {
      "image/png": "[encoded data removed]",
      "text/plain": [
       "<Figure size 432x288 with 1 Axes>"
      ]
     },
     "metadata": {
      "needs_background": "light",
      "tags": []
     },
     "output_type": "display_data"
    }
   ],
   "source": [
    "plt.scatter(df['Area in square miles - Total area'].astype(float), df['Population'].astype(float))"
   ]
  },
  {
   "cell_type": "markdown",
   "metadata": {
    "id": "eSVcRiad-adm"
   },
   "source": [
    "**Boxplot of Percapita and povertyallages**"
   ]
  },
  {
   "cell_type": "code",
   "execution_count": null,
   "metadata": {
    "colab": {
     "base_uri": "https://localhost:8080/",
     "height": 282
    },
    "id": "rLkp50aWlYmD",
    "outputId": "837db191-6ecc-474e-b4c2-ac51a2416287"
   },
   "outputs": [
    {
     "data": {
      "text/plain": [
       "<matplotlib.axes._subplots.AxesSubplot at 0x7f5cbcdef910>"
      ]
     },
     "execution_count": 25,
     "metadata": {
      "tags": []
     },
     "output_type": "execute_result"
    },
    {
     "data": {
      "image/png": "[encoded data removed]",
      "text/plain": [
       "<Figure size 432x288 with 1 Axes>"
      ]
     },
     "metadata": {
      "needs_background": "light",
      "tags": []
     },
     "output_type": "display_data"
    }
   ],
   "source": [
    "df.boxplot('PerCapitaInc')"
   ]
  },
  {
   "cell_type": "code",
   "execution_count": null,
   "metadata": {
    "colab": {
     "base_uri": "https://localhost:8080/",
     "height": 282
    },
    "id": "UHVgW03onHuJ",
    "outputId": "ef8ef4d3-6d04-49b9-89bc-b215578ab544"
   },
   "outputs": [
    {
     "data": {
      "text/plain": [
       "<matplotlib.axes._subplots.AxesSubplot at 0x7f5cbd731890>"
      ]
     },
     "execution_count": 26,
     "metadata": {
      "tags": []
     },
     "output_type": "execute_result"
    },
    {
     "data": {
      "image/png": "[encoded data removed]",
      "text/plain": [
       "<Figure size 432x288 with 1 Axes>"
      ]
     },
     "metadata": {
      "needs_background": "light",
      "tags": []
     },
     "output_type": "display_data"
    }
   ],
   "source": [
    "df.boxplot('PovertyAllAgesPct2014')"
   ]
  },
  {
   "cell_type": "markdown",
   "metadata": {
    "id": "vK0sT0TL-ph-"
   },
   "source": [
    "**Histogram of religion**"
   ]
  },
  {
   "cell_type": "code",
   "execution_count": null,
   "metadata": {
    "colab": {
     "base_uri": "https://localhost:8080/",
     "height": 496
    },
    "id": "z7pORZUTqRqP",
    "outputId": "37ed51ad-7d89-45f0-aa9e-e15b717408a4"
   },
   "outputs": [
    {
     "data": {
      "text/plain": [
       "(array([2.000e+00, 0.000e+00, 1.012e+03, 0.000e+00, 2.073e+03, 0.000e+00,\n",
       "        3.000e+00, 0.000e+00, 2.400e+01, 3.100e+01]),\n",
       " array([0. , 0.5, 1. , 1.5, 2. , 2.5, 3. , 3.5, 4. , 4.5, 5. ]),\n",
       " <a list of 10 Patch objects>)"
      ]
     },
     "execution_count": 27,
     "metadata": {
      "tags": []
     },
     "output_type": "execute_result"
    },
    {
     "data": {
      "image/png": "[encoded data removed]",
      "text/plain": [
       "<Figure size 720x504 with 1 Axes>"
      ]
     },
     "metadata": {
      "needs_background": "light",
      "tags": []
     },
     "output_type": "display_data"
    }
   ],
   "source": [
    "fig, ax = plt.subplots(figsize =(10, 7))\n",
    "ax.hist(df['Religion'])"
   ]
  },
  {
   "cell_type": "markdown",
   "metadata": {
    "id": "M__fTJcd-w0s"
   },
   "source": [
    "**histogram of ethnic male**"
   ]
  },
  {
   "cell_type": "code",
   "execution_count": null,
   "metadata": {
    "colab": {
     "base_uri": "https://localhost:8080/",
     "height": 497
    },
    "id": "Dlb25IIJqqxb",
    "outputId": "9b35aaae-56fb-4f6c-f5b3-4a8494737a0e"
   },
   "outputs": [
    {
     "data": {
      "text/plain": [
       "(array([3.025e+03, 0.000e+00, 0.000e+00, 9.900e+01, 0.000e+00, 0.000e+00,\n",
       "        2.000e+01, 0.000e+00, 0.000e+00, 1.000e+00]),\n",
       " array([0. , 0.3, 0.6, 0.9, 1.2, 1.5, 1.8, 2.1, 2.4, 2.7, 3. ]),\n",
       " <a list of 10 Patch objects>)"
      ]
     },
     "execution_count": 28,
     "metadata": {
      "tags": []
     },
     "output_type": "execute_result"
    },
    {
     "data": {
      "image/png": "[encoded data removed]",
      "text/plain": [
       "<Figure size 720x504 with 1 Axes>"
      ]
     },
     "metadata": {
      "needs_background": "light",
      "tags": []
     },
     "output_type": "display_data"
    }
   ],
   "source": [
    "fig, ax = plt.subplots(figsize =(10, 7))\n",
    "ax.hist(df['EthnicMale'])"
   ]
  },
  {
   "cell_type": "markdown",
   "metadata": {
    "id": "Pwqn4Yla-0DU"
   },
   "source": [
    "**Histogram of Ethnic Female**"
   ]
  },
  {
   "cell_type": "code",
   "execution_count": null,
   "metadata": {
    "colab": {
     "base_uri": "https://localhost:8080/",
     "height": 497
    },
    "id": "STYhmhAyqwxO",
    "outputId": "8beb14de-0695-489a-d5a6-b984d773fe89"
   },
   "outputs": [
    {
     "data": {
      "text/plain": [
       "(array([3002.,    0.,    0.,    0.,    0.,  120.,    0.,    0.,    0.,\n",
       "          23.]),\n",
       " array([0. , 0.2, 0.4, 0.6, 0.8, 1. , 1.2, 1.4, 1.6, 1.8, 2. ]),\n",
       " <a list of 10 Patch objects>)"
      ]
     },
     "execution_count": 29,
     "metadata": {
      "tags": []
     },
     "output_type": "execute_result"
    },
    {
     "data": {
      "image/png": "[encoded data removed]",
      "text/plain": [
       "<Figure size 720x504 with 1 Axes>"
      ]
     },
     "metadata": {
      "needs_background": "light",
      "tags": []
     },
     "output_type": "display_data"
    }
   ],
   "source": [
    "fig, ax = plt.subplots(figsize =(10, 7))\n",
    "ax.hist(df['EthnicFemale'])"
   ]
  },
  {
   "cell_type": "markdown",
   "metadata": {
    "id": "tbSTB37n-4_p"
   },
   "source": [
    "**Histogram of Education**"
   ]
  },
  {
   "cell_type": "code",
   "execution_count": null,
   "metadata": {
    "colab": {
     "base_uri": "https://localhost:8080/",
     "height": 440
    },
    "id": "WrNj8nY-q91L",
    "outputId": "8d1ae212-e5ce-41eb-8380-973e53f05bec"
   },
   "outputs": [
    {
     "data": {
      "text/plain": [
       "(array([1949.,    0.,    0.,  819.,    0.,    0.,  331.,    0.,    0.,\n",
       "          46.]),\n",
       " array([0. , 0.3, 0.6, 0.9, 1.2, 1.5, 1.8, 2.1, 2.4, 2.7, 3. ]),\n",
       " <a list of 10 Patch objects>)"
      ]
     },
     "execution_count": 30,
     "metadata": {
      "tags": []
     },
     "output_type": "execute_result"
    },
    {
     "data": {
      "image/png": "[encoded data removed]",
      "text/plain": [
       "<Figure size 1800x504 with 1 Axes>"
      ]
     },
     "metadata": {
      "needs_background": "light",
      "tags": []
     },
     "output_type": "display_data"
    }
   ],
   "source": [
    "fig, ax = plt.subplots(figsize =(25, 7))\n",
    "ax.hist(df['Education'])"
   ]
  },
  {
   "cell_type": "code",
   "execution_count": null,
   "metadata": {
    "id": "foUDN-vSYjnw"
   },
   "outputs": [],
   "source": [
    "df.drop(['WHITE_rate', 'BLACK_rate', 'NATIVE_AMERICAN_rate',\n",
    "       'HAWAIIAN_PACIFIC_rate', 'MULTI_rate'], axis=1, inplace=True)"
   ]
  },
  {
   "cell_type": "code",
   "execution_count": null,
   "metadata": {
    "colab": {
     "base_uri": "https://localhost:8080/"
    },
    "id": "qrEptL3tYsmC",
    "outputId": "267a5996-159d-403f-a311-ac8078e87d80"
   },
   "outputs": [
    {
     "data": {
      "text/plain": [
       "22"
      ]
     },
     "execution_count": 32,
     "metadata": {
      "tags": []
     },
     "output_type": "execute_result"
    }
   ],
   "source": [
    "len(df.columns)"
   ]
  },
  {
   "cell_type": "markdown",
   "metadata": {
    "id": "5HGedn6Q_RRf"
   },
   "source": [
    "**1.9 The label vector is Democrat feature as the democrat feature has only two unique values 0 and 1 and thus is binary in nature.**"
   ]
  },
  {
   "cell_type": "code",
   "execution_count": null,
   "metadata": {
    "id": "rmWvdrYJb7xr"
   },
   "outputs": [],
   "source": [
    "df.to_csv(r'elections_clean.csv')"
   ]
  }
 ],
 "metadata": {
  "colab": {
   "collapsed_sections": [],
   "name": "AroraS_01.ipynb",
   "provenance": []
  },
  "kernelspec": {
   "display_name": "Python 3 (ipykernel)",
   "language": "python",
   "name": "python3"
  },
  "language_info": {
   "codemirror_mode": {
    "name": "ipython",
    "version": 3
   },
   "file_extension": ".py",
   "mimetype": "text/x-python",
   "name": "python",
   "nbconvert_exporter": "python",
   "pygments_lexer": "ipython3",
   "version": "3.9.13"
  }
 },
 "nbformat": 4,
 "nbformat_minor": 1
}
