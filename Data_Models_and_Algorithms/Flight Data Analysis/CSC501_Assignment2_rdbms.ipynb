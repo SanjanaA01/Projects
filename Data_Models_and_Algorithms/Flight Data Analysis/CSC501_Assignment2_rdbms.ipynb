{
 "cells": [
  {
   "cell_type": "code",
   "execution_count": null,
   "metadata": {
    "id": "gJ-njugkqcIF"
   },
   "outputs": [],
   "source": [
    "import pandas as pd\n",
    "import numpy as np\n",
    "import os\n",
    "import sys"
   ]
  },
  {
   "cell_type": "code",
   "execution_count": null,
   "metadata": {
    "id": "s3rocX_AqcIO"
   },
   "outputs": [],
   "source": [
    "#function for collating data\n",
    "def read_data(address):\n",
    "    df_original = pd.DataFrame(columns=['ID', 'Time', 'Date', 'Altitude', 'Speed', 'Heading', 'Lat', 'Lon',\n",
    "       'Age', 'Range', 'Bearing', 'Tail', 'AltisGNSS', 'Metar'])\n",
    "    for subdir, dirs, files in os.walk(address):\n",
    "        for file in files:\n",
    "            filepath = subdir + os.sep + file\n",
    "            if filepath.endswith(\".csv\"):\n",
    "                print(filepath)\n",
    "                new_df = pd.read_csv(filepath, low_memory=False, header=None, skiprows=1, index_col = False, \n",
    "                               names=['ID', 'Time', 'Date', 'Altitude', 'Speed', 'Heading', 'Lat', 'Lon',\n",
    "                               'Age', 'Range', 'Bearing', 'Tail', 'AltisGNSS', 'Metar'])\n",
    "                df_original = df_original.append(new_df)\n",
    "    return df_original"
   ]
  },
  {
   "cell_type": "code",
   "execution_count": null,
   "metadata": {
    "id": "MldyPyM3qcIQ",
    "outputId": "35106913-155e-448b-83d3-a97f8eec7ca3"
   },
   "outputs": [
    {
     "name": "stdout",
     "output_type": "stream",
     "text": [
      "<class 'pandas.core.frame.DataFrame'>\n",
      "Int64Index: 9282419 entries, 0 to 9330849\n",
      "Data columns (total 13 columns):\n",
      " #   Column    Dtype  \n",
      "---  ------    -----  \n",
      " 0   ID        int32  \n",
      " 1   Time      object \n",
      " 2   Date      object \n",
      " 3   Altitude  int64  \n",
      " 4   Speed     float64\n",
      " 5   Heading   float64\n",
      " 6   Lat       float64\n",
      " 7   Lon       float64\n",
      " 8   Age       float64\n",
      " 9   Range     float64\n",
      " 10  Bearing   float64\n",
      " 11  Tail      object \n",
      " 12  Metar     object \n",
      "dtypes: float64(7), int32(1), int64(1), object(4)\n",
      "memory usage: 956.1+ MB\n"
     ]
    }
   ],
   "source": [
    "# Enter flight folder path here\n",
    "path = '7days2/raw_data/'\n",
    "# Reading and collating flight data\n",
    "#df_flight = read_data(path)\n",
    "# Read Flight Data\n",
    "df_flight = pd.read_csv('out.csv', low_memory=False)\n",
    "df_flight['ID'] = df_flight['ID'].astype(int)\n",
    "df_flight.drop(df_flight[(df_flight['Speed'].isnull())].index, inplace=True)\n",
    "df_flight.info()"
   ]
  },
  {
   "cell_type": "code",
   "execution_count": null,
   "metadata": {
    "id": "3K5kQT1KqcIT",
    "outputId": "40b77977-86a1-4042-833a-7fd4d60ac609"
   },
   "outputs": [
    {
     "data": {
      "text/html": [
       "<div>\n",
       "<style scoped>\n",
       "    .dataframe tbody tr th:only-of-type {\n",
       "        vertical-align: middle;\n",
       "    }\n",
       "\n",
       "    .dataframe tbody tr th {\n",
       "        vertical-align: top;\n",
       "    }\n",
       "\n",
       "    .dataframe thead th {\n",
       "        text-align: right;\n",
       "    }\n",
       "</style>\n",
       "<table border=\"1\" class=\"dataframe\">\n",
       "  <thead>\n",
       "    <tr style=\"text-align: right;\">\n",
       "      <th></th>\n",
       "      <th>ID</th>\n",
       "      <th>Time</th>\n",
       "      <th>Date</th>\n",
       "      <th>Altitude</th>\n",
       "      <th>Speed</th>\n",
       "      <th>Heading</th>\n",
       "      <th>Lat</th>\n",
       "      <th>Lon</th>\n",
       "      <th>Age</th>\n",
       "      <th>Range</th>\n",
       "      <th>Bearing</th>\n",
       "      <th>Tail</th>\n",
       "      <th>Metar</th>\n",
       "    </tr>\n",
       "  </thead>\n",
       "  <tbody>\n",
       "    <tr>\n",
       "      <th>0</th>\n",
       "      <td>11230936</td>\n",
       "      <td>23:10:39.838</td>\n",
       "      <td>01/19/2021</td>\n",
       "      <td>38000</td>\n",
       "      <td>364.0</td>\n",
       "      <td>304.0</td>\n",
       "      <td>40.472626</td>\n",
       "      <td>-80.338870</td>\n",
       "      <td>2.898249</td>\n",
       "      <td>47.248304</td>\n",
       "      <td>-135.717486</td>\n",
       "      <td>SWA1456</td>\n",
       "      <td>KBTP 192310Z AUTO 22005KT 10SM OVC090 01/M06 A...</td>\n",
       "    </tr>\n",
       "    <tr>\n",
       "      <th>1</th>\n",
       "      <td>10672426</td>\n",
       "      <td>23:10:39.780</td>\n",
       "      <td>01/19/2021</td>\n",
       "      <td>36075</td>\n",
       "      <td>343.0</td>\n",
       "      <td>304.0</td>\n",
       "      <td>40.359394</td>\n",
       "      <td>-80.113365</td>\n",
       "      <td>2.898340</td>\n",
       "      <td>48.490544</td>\n",
       "      <td>-163.356299</td>\n",
       "      <td>N283AK</td>\n",
       "      <td>KBTP 192310Z AUTO 22005KT 10SM OVC090 01/M06 A...</td>\n",
       "    </tr>\n",
       "    <tr>\n",
       "      <th>2</th>\n",
       "      <td>12583405</td>\n",
       "      <td>23:10:39.898</td>\n",
       "      <td>01/19/2021</td>\n",
       "      <td>43000</td>\n",
       "      <td>392.0</td>\n",
       "      <td>186.0</td>\n",
       "      <td>40.625200</td>\n",
       "      <td>-80.247620</td>\n",
       "      <td>2.898398</td>\n",
       "      <td>30.343740</td>\n",
       "      <td>-123.874832</td>\n",
       "      <td>ASP489</td>\n",
       "      <td>KBTP 192310Z AUTO 22005KT 10SM OVC090 01/M06 A...</td>\n",
       "    </tr>\n",
       "    <tr>\n",
       "      <th>3</th>\n",
       "      <td>11230936</td>\n",
       "      <td>23:10:39.838</td>\n",
       "      <td>01/19/2021</td>\n",
       "      <td>38000</td>\n",
       "      <td>364.0</td>\n",
       "      <td>304.0</td>\n",
       "      <td>40.472626</td>\n",
       "      <td>-80.338870</td>\n",
       "      <td>3.899393</td>\n",
       "      <td>47.248304</td>\n",
       "      <td>-135.717486</td>\n",
       "      <td>SWA1456</td>\n",
       "      <td>KBTP 192310Z AUTO 22005KT 10SM OVC090 01/M06 A...</td>\n",
       "    </tr>\n",
       "    <tr>\n",
       "      <th>4</th>\n",
       "      <td>10672426</td>\n",
       "      <td>23:10:39.780</td>\n",
       "      <td>01/19/2021</td>\n",
       "      <td>36075</td>\n",
       "      <td>343.0</td>\n",
       "      <td>304.0</td>\n",
       "      <td>40.359394</td>\n",
       "      <td>-80.113365</td>\n",
       "      <td>3.899472</td>\n",
       "      <td>48.490544</td>\n",
       "      <td>-163.356299</td>\n",
       "      <td>N283AK</td>\n",
       "      <td>KBTP 192310Z AUTO 22005KT 10SM OVC090 01/M06 A...</td>\n",
       "    </tr>\n",
       "  </tbody>\n",
       "</table>\n",
       "</div>"
      ],
      "text/plain": [
       "         ID          Time        Date  Altitude  Speed  Heading        Lat  \\\n",
       "0  11230936  23:10:39.838  01/19/2021     38000  364.0    304.0  40.472626   \n",
       "1  10672426  23:10:39.780  01/19/2021     36075  343.0    304.0  40.359394   \n",
       "2  12583405  23:10:39.898  01/19/2021     43000  392.0    186.0  40.625200   \n",
       "3  11230936  23:10:39.838  01/19/2021     38000  364.0    304.0  40.472626   \n",
       "4  10672426  23:10:39.780  01/19/2021     36075  343.0    304.0  40.359394   \n",
       "\n",
       "         Lon       Age      Range     Bearing     Tail  \\\n",
       "0 -80.338870  2.898249  47.248304 -135.717486  SWA1456   \n",
       "1 -80.113365  2.898340  48.490544 -163.356299   N283AK   \n",
       "2 -80.247620  2.898398  30.343740 -123.874832   ASP489   \n",
       "3 -80.338870  3.899393  47.248304 -135.717486  SWA1456   \n",
       "4 -80.113365  3.899472  48.490544 -163.356299   N283AK   \n",
       "\n",
       "                                               Metar  \n",
       "0  KBTP 192310Z AUTO 22005KT 10SM OVC090 01/M06 A...  \n",
       "1  KBTP 192310Z AUTO 22005KT 10SM OVC090 01/M06 A...  \n",
       "2  KBTP 192310Z AUTO 22005KT 10SM OVC090 01/M06 A...  \n",
       "3  KBTP 192310Z AUTO 22005KT 10SM OVC090 01/M06 A...  \n",
       "4  KBTP 192310Z AUTO 22005KT 10SM OVC090 01/M06 A...  "
      ]
     },
     "execution_count": 31,
     "metadata": {},
     "output_type": "execute_result"
    }
   ],
   "source": [
    "df_flight.head()"
   ]
  },
  {
   "cell_type": "code",
   "execution_count": null,
   "metadata": {
    "id": "DpZ3m-kUqcIU",
    "outputId": "6da128d1-da4c-4128-edca-9fd903531da9"
   },
   "outputs": [
    {
     "data": {
      "text/html": [
       "<div>\n",
       "<style scoped>\n",
       "    .dataframe tbody tr th:only-of-type {\n",
       "        vertical-align: middle;\n",
       "    }\n",
       "\n",
       "    .dataframe tbody tr th {\n",
       "        vertical-align: top;\n",
       "    }\n",
       "\n",
       "    .dataframe thead th {\n",
       "        text-align: right;\n",
       "    }\n",
       "</style>\n",
       "<table border=\"1\" class=\"dataframe\">\n",
       "  <thead>\n",
       "    <tr style=\"text-align: right;\">\n",
       "      <th></th>\n",
       "      <th>ID</th>\n",
       "      <th>Tail</th>\n",
       "    </tr>\n",
       "  </thead>\n",
       "  <tbody>\n",
       "    <tr>\n",
       "      <th>0</th>\n",
       "      <td>11230936</td>\n",
       "      <td>SWA1456</td>\n",
       "    </tr>\n",
       "    <tr>\n",
       "      <th>1</th>\n",
       "      <td>10672426</td>\n",
       "      <td>N283AK</td>\n",
       "    </tr>\n",
       "    <tr>\n",
       "      <th>2</th>\n",
       "      <td>12583405</td>\n",
       "      <td>ASP489</td>\n",
       "    </tr>\n",
       "    <tr>\n",
       "      <th>3</th>\n",
       "      <td>10701829</td>\n",
       "      <td>N311RF</td>\n",
       "    </tr>\n",
       "    <tr>\n",
       "      <th>4</th>\n",
       "      <td>10561439</td>\n",
       "      <td>N1737</td>\n",
       "    </tr>\n",
       "  </tbody>\n",
       "</table>\n",
       "</div>"
      ],
      "text/plain": [
       "         ID     Tail\n",
       "0  11230936  SWA1456\n",
       "1  10672426   N283AK\n",
       "2  12583405   ASP489\n",
       "3  10701829   N311RF\n",
       "4  10561439    N1737"
      ]
     },
     "execution_count": 32,
     "metadata": {},
     "output_type": "execute_result"
    }
   ],
   "source": [
    "# Dataframe for flight details\n",
    "df_flight_details = df_flight[['ID','Tail']].drop_duplicates().reset_index(drop=True)\n",
    "df_flight_details['ID'] = df_flight_details['ID'].astype(int)\n",
    "df_flight_details.head()"
   ]
  },
  {
   "cell_type": "code",
   "execution_count": null,
   "metadata": {
    "id": "MwDAlszmqcIW"
   },
   "outputs": [],
   "source": [
    "# Read Weather Data\n",
    "df_weather = pd.read_csv('weather_data/weather.csv', low_memory=False)\n",
    "\n",
    "df_weather['Date'] = pd.to_datetime(df_weather['valid']).dt.date\n",
    "df_weather['Time'] = pd.to_datetime(df_weather['valid']).dt.time\n",
    "df_weather['Time'] = df_weather['Time'].astype(str)"
   ]
  },
  {
   "cell_type": "code",
   "execution_count": null,
   "metadata": {
    "id": "AV-LwTA2qcIX"
   },
   "outputs": [],
   "source": [
    "# Creating the tables and Deleting the old instances of the tables\n",
    "def db_createTableSchema():\n",
    "    import sqlite3\n",
    "\n",
    "    conn = sqlite3.connect('documents.db')\n",
    "    c = conn.cursor()\n",
    "\n",
    "    c.execute('''DROP TABLE IF EXISTS weather ''')\n",
    "    c.execute('''DROP TABLE IF EXISTS flight ''')\n",
    "    c.execute('''DROP TABLE IF EXISTS idtotail ''')\n",
    "    \n",
    "    wther_query = '''CREATE TABLE IF NOT EXISTS weather (\n",
    "                        Date DATE NOT NULL,\n",
    "                        Time VARCHAR(8),\n",
    "                        tmpf VARCHAR(100),\n",
    "                        dwpf VARCHAR(100),\n",
    "                        relh VARCHAR(100),\n",
    "                        drct VARCHAR(100),\n",
    "                        sknt VARCHAR(100),\n",
    "                        p01i VARCHAR(100),\n",
    "                        alti VARCHAR(100),\n",
    "                        mslp VARCHAR(100),\n",
    "                        vsby VARCHAR(100),\n",
    "                        gust VARCHAR(100),\n",
    "                        skyc1 VARCHAR(100),\n",
    "                        feel VARCHAR(100),\n",
    "                        metar Text,\n",
    "                        CONSTRAINT WeatherUnq PRIMARY KEY (Date,Time));'''\n",
    "    c.execute(wther_query)\n",
    "    print('Table weather created.');\n",
    "    \n",
    "    itail_query = '''CREATE TABLE IF NOT EXISTS idtotail ( \n",
    "                        Id INT PRIMARY KEY NOT NULL,\n",
    "                        Tail VARCHAR(100));'''\n",
    "    c.execute(itail_query)\n",
    "    print('Table idtotail created.');\n",
    "    \n",
    "    flght_query = '''CREATE TABLE IF NOT EXISTS flight (\n",
    "                        ID INT NOT NULL,\n",
    "                        Date DATE NOT NULL,\n",
    "                        Time VARCHAR(8) NOT NULL,\n",
    "                        Altitude VARCHAR(100),\n",
    "                        Speed VARCHAR(100),\n",
    "                        Heading VARCHAR(100),\n",
    "                        Lat VARCHAR(100),\n",
    "                        Lon VARCHAR(100),\n",
    "                        Angle VARCHAR(100),\n",
    "                        Range VARCHAR(100),\n",
    "                        Bearing VARCHAR(100),\n",
    "                        Metar VARCHAR(500),\n",
    "                        CONSTRAINT FlightUnq PRIMARY KEY (ID,Date,Time),\n",
    "                        FOREIGN KEY (Metar) REFERENCES weather(metar),\n",
    "                        FOREIGN KEY (ID) REFERENCES idtotail(ID));'''\n",
    "    c.execute(flght_query)\n",
    "    print('Table flight created.');\n",
    "    \n",
    "# Deleting the content of the tables\n",
    "def db_delete_table_content():\n",
    "    import sqlite3\n",
    "\n",
    "    conn = sqlite3.connect('documents.db')\n",
    "    c = conn.cursor()\n",
    "\n",
    "    wther_query = \"\"\" DELETE FROM weather\"\"\"\n",
    "    c.execute(wther_query)\n",
    "    print(\"Content of table 'weather' has been deleted\")\n",
    "    \n",
    "    flght_query = \"\"\" DELETE FROM flight\"\"\"\n",
    "    c.execute(flght_query)\n",
    "    print(\"Content of table 'flight' has been deleted\")\n",
    "    \n",
    "    itail_query = \"\"\" DELETE FROM idtotail\"\"\"\n",
    "    c.execute(itail_query)\n",
    "    print(\"Content of table 'idtotail' has been deleted\")\n",
    "    conn.commit()\n",
    "\n",
    "# Inserting data into the tables from files created\n",
    "def db_insert_data():\n",
    "    import sqlite3\n",
    "    conn = sqlite3.connect('documents.db')\n",
    "    c = conn.cursor()\n",
    "    \n",
    "    # Insert all data in tables\n",
    "    for index, row in df_weather.iterrows():\n",
    "        \n",
    "        wther_query = \"\"\"INSERT or IGNORE INTO\n",
    "                            weather(Date,Time,tmpf,dwpf,relh,drct,sknt,p01i,alti,mslp,vsby,gust,skyc1,feel,metar) \n",
    "                            values(?,?,?,?,?,?,?,?,?,?,?,?,?,?,?)\"\"\"\n",
    "        c.execute(wther_query, (row['Date'], row['Time'],\n",
    "                                row['tmpf'], row['dwpf'],\n",
    "                                row['relh'], row['drct'],\n",
    "                                row['sknt'], row['p01i'],\n",
    "                                row['alti'], row['mslp'],\n",
    "                                row['vsby'], row['gust'],\n",
    "                                row['skyc1'], row['feel'],\n",
    "                                row['metar']))\n",
    "        \n",
    "    for index, row in df_flight_details.iterrows():\n",
    "        itail_query = \"\"\"INSERT or IGNORE INTO \n",
    "                            idtotail(ID,Tail) \n",
    "                            values(?,?)\"\"\"\n",
    "        c.execute(itail_query, (row['ID'], row['Tail']))\n",
    "        \n",
    "    for index, row in df_flight.iterrows():\n",
    "        \n",
    "        flght_query = \"\"\"INSERT or IGNORE INTO\n",
    "                            flight(ID,Date,Time,Altitude,Speed,Heading,Lat,Lon,Angle,Range,Bearing,Metar) \n",
    "                            values(?,?,?,?,?,?,?,?,?,?,?,?)\"\"\"\n",
    "        c.execute(flght_query, (row['ID'], row['Date'],\n",
    "                                row['Time'], row['Altitude'],\n",
    "                                row['Speed'], row['Heading'],\n",
    "                                row['Lat'], row['Lon'],\n",
    "                                row['Age'], row['Range'],\n",
    "                                row['Bearing'], row['Metar'],\n",
    "                                ))\n",
    "        \n",
    "    print(\"Insertion into tables are completed\\n\")\n",
    "       \n",
    "    conn.commit()\n",
    "    c.close()"
   ]
  },
  {
   "cell_type": "code",
   "execution_count": null,
   "metadata": {
    "id": "CqdgOUJcqcIe",
    "outputId": "f20d488e-af02-4afa-9579-039fefe3a0e4"
   },
   "outputs": [
    {
     "name": "stdout",
     "output_type": "stream",
     "text": [
      "Table weather created.\n",
      "Table idtotail created.\n",
      "Table flight created.\n",
      "Content of table 'weather' has been deleted\n",
      "Content of table 'flight' has been deleted\n",
      "Content of table 'idtotail' has been deleted\n",
      "Insertion into tables are completed\n",
      "\n",
      "Wall time: 48min 34s\n"
     ]
    }
   ],
   "source": [
    "# Perform database actions\n",
    "db_createTableSchema()\n",
    "db_delete_table_content()\n",
    "%time db_insert_data()"
   ]
  },
  {
   "cell_type": "code",
   "execution_count": null,
   "metadata": {
    "id": "5vnGGWFOqcIg"
   },
   "outputs": [],
   "source": [
    "import sqlite3\n",
    "conn = sqlite3.connect('documents.db') \n",
    "c = conn.cursor()"
   ]
  },
  {
   "cell_type": "code",
   "execution_count": null,
   "metadata": {
    "id": "a7D71vHOqcIh",
    "outputId": "34932b34-1ac5-41f2-c2fa-127ca8139041"
   },
   "outputs": [
    {
     "name": "stdout",
     "output_type": "stream",
     "text": [
      "Wall time: 13.8 s\n"
     ]
    }
   ],
   "source": [
    "%%time\n",
    "# Pandas SQL query fetching time\n",
    "sql_query = pd.read_sql_query ('''\n",
    "                               SELECT\n",
    "                               *\n",
    "                               FROM weather where metar = 'KBTP 150035Z AUTO 07005KT 10SM CLR 27/13 A3000 RMK T02700130 MADISHF'\n",
    "                               ''', conn)"
   ]
  },
  {
   "cell_type": "code",
   "execution_count": null,
   "metadata": {
    "id": "X2UOK2WrqcIi",
    "outputId": "7b8a55f4-334d-488a-e06c-16038b25c8f5"
   },
   "outputs": [
    {
     "name": "stdout",
     "output_type": "stream",
     "text": [
      "Wall time: 19 s\n"
     ]
    },
    {
     "data": {
      "text/html": [
       "<div>\n",
       "<style scoped>\n",
       "    .dataframe tbody tr th:only-of-type {\n",
       "        vertical-align: middle;\n",
       "    }\n",
       "\n",
       "    .dataframe tbody tr th {\n",
       "        vertical-align: top;\n",
       "    }\n",
       "\n",
       "    .dataframe thead th {\n",
       "        text-align: right;\n",
       "    }\n",
       "</style>\n",
       "<table border=\"1\" class=\"dataframe\">\n",
       "  <thead>\n",
       "    <tr style=\"text-align: right;\">\n",
       "      <th></th>\n",
       "      <th>CountID</th>\n",
       "      <th>Weather_Condition</th>\n",
       "    </tr>\n",
       "  </thead>\n",
       "  <tbody>\n",
       "    <tr>\n",
       "      <th>0</th>\n",
       "      <td>2467</td>\n",
       "      <td>CLR</td>\n",
       "    </tr>\n",
       "    <tr>\n",
       "      <th>1</th>\n",
       "      <td>1379</td>\n",
       "      <td>OVC</td>\n",
       "    </tr>\n",
       "    <tr>\n",
       "      <th>2</th>\n",
       "      <td>1364</td>\n",
       "      <td>BKN</td>\n",
       "    </tr>\n",
       "    <tr>\n",
       "      <th>3</th>\n",
       "      <td>1253</td>\n",
       "      <td>FEW</td>\n",
       "    </tr>\n",
       "    <tr>\n",
       "      <th>4</th>\n",
       "      <td>1015</td>\n",
       "      <td>SCT</td>\n",
       "    </tr>\n",
       "  </tbody>\n",
       "</table>\n",
       "</div>"
      ],
      "text/plain": [
       "   CountID Weather_Condition\n",
       "0     2467               CLR\n",
       "1     1379               OVC\n",
       "2     1364               BKN\n",
       "3     1253               FEW\n",
       "4     1015               SCT"
      ]
     },
     "execution_count": 86,
     "metadata": {},
     "output_type": "execute_result"
    }
   ],
   "source": [
    "%%time\n",
    "# SQLlite SQL query fetching time\n",
    "sql_query_data = \"SELECT count(DISTINCT ID) as CountID,skyc1 FROM flight as f join weather as w on f.metar = w.metar group by skyc1 order by CountID DESC LIMIT 5\"\n",
    "sql_query = c.execute (sql_query_data)\n",
    "df_res_weather = pd.DataFrame(sql_query, columns = ['CountID', 'Weather_Condition'])\n",
    "df_res_weather.head()"
   ]
  },
  {
   "cell_type": "code",
   "execution_count": null,
   "metadata": {
    "id": "4Yqw0YnHqcIj",
    "outputId": "92a1aecf-3a93-4a81-c699-39eb92922875"
   },
   "outputs": [
    {
     "data": {
      "image/png": "[encoded data removed]",
      "text/plain": [
       "<Figure size 432x288 with 1 Axes>"
      ]
     },
     "metadata": {
      "needs_background": "light"
     },
     "output_type": "display_data"
    }
   ],
   "source": [
    "import matplotlib.pyplot as plt\n",
    "fig = plt.figure()\n",
    "ax = fig.add_axes([0,0,1,1])\n",
    "ax.set_xlabel('Type of Weather Condition')\n",
    "ax.set_ylabel('No. of Flights')\n",
    "ax.set_title('Flights operated based on different Weather Conditions')\n",
    "ax.bar(df_res_weather['Weather_Condition'],df_res_weather['CountID'])\n",
    "plt.show()"
   ]
  },
  {
   "cell_type": "code",
   "execution_count": null,
   "metadata": {
    "id": "gOZxd0diqcIk",
    "outputId": "3e63ed9e-4b2c-4559-f95f-84e37ba827d5"
   },
   "outputs": [
    {
     "name": "stdout",
     "output_type": "stream",
     "text": [
      "Wall time: 4.81 s\n"
     ]
    },
    {
     "data": {
      "text/html": [
       "<div>\n",
       "<style scoped>\n",
       "    .dataframe tbody tr th:only-of-type {\n",
       "        vertical-align: middle;\n",
       "    }\n",
       "\n",
       "    .dataframe tbody tr th {\n",
       "        vertical-align: top;\n",
       "    }\n",
       "\n",
       "    .dataframe thead th {\n",
       "        text-align: right;\n",
       "    }\n",
       "</style>\n",
       "<table border=\"1\" class=\"dataframe\">\n",
       "  <thead>\n",
       "    <tr style=\"text-align: right;\">\n",
       "      <th></th>\n",
       "      <th>WindSpeed</th>\n",
       "      <th>AircraftSpeed</th>\n",
       "      <th>Count Flights</th>\n",
       "      <th>Date</th>\n",
       "    </tr>\n",
       "  </thead>\n",
       "  <tbody>\n",
       "    <tr>\n",
       "      <th>0</th>\n",
       "      <td>3.191114</td>\n",
       "      <td>110.310111</td>\n",
       "      <td>148</td>\n",
       "      <td>09/26/2020</td>\n",
       "    </tr>\n",
       "    <tr>\n",
       "      <th>1</th>\n",
       "      <td>6.706347</td>\n",
       "      <td>124.114413</td>\n",
       "      <td>158</td>\n",
       "      <td>09/27/2020</td>\n",
       "    </tr>\n",
       "    <tr>\n",
       "      <th>2</th>\n",
       "      <td>7.434499</td>\n",
       "      <td>123.904007</td>\n",
       "      <td>127</td>\n",
       "      <td>09/28/2020</td>\n",
       "    </tr>\n",
       "    <tr>\n",
       "      <th>3</th>\n",
       "      <td>3.110185</td>\n",
       "      <td>155.190972</td>\n",
       "      <td>110</td>\n",
       "      <td>09/29/2020</td>\n",
       "    </tr>\n",
       "    <tr>\n",
       "      <th>4</th>\n",
       "      <td>10.960687</td>\n",
       "      <td>170.051569</td>\n",
       "      <td>114</td>\n",
       "      <td>09/30/2020</td>\n",
       "    </tr>\n",
       "  </tbody>\n",
       "</table>\n",
       "</div>"
      ],
      "text/plain": [
       "   WindSpeed  AircraftSpeed  Count Flights        Date\n",
       "0   3.191114     110.310111            148  09/26/2020\n",
       "1   6.706347     124.114413            158  09/27/2020\n",
       "2   7.434499     123.904007            127  09/28/2020\n",
       "3   3.110185     155.190972            110  09/29/2020\n",
       "4  10.960687     170.051569            114  09/30/2020"
      ]
     },
     "execution_count": 100,
     "metadata": {},
     "output_type": "execute_result"
    }
   ],
   "source": [
    "%%time\n",
    "# SQLlite SQL query fetching time\n",
    "sql_query_data = \"SELECT avg(sknt) as WindSpeed, avg(Speed) as AircraftSpeed,count(DISTINCT ID), f.date FROM flight as f join weather as w on f.metar = w.metar group by f.date having f.date>'09/25/2020' and f.date<'10/02/2020'\"\n",
    "sql_query = c.execute (sql_query_data)\n",
    "df_res_weather = pd.DataFrame(sql_query, columns = ['WindSpeed', 'AircraftSpeed','Count Flights','Date'])\n",
    "df_res_weather.head()"
   ]
  },
  {
   "cell_type": "code",
   "execution_count": null,
   "metadata": {
    "id": "qS7mJENZqcIm",
    "outputId": "f2fabdda-e3b0-4fb0-f267-fe13e0f35273"
   },
   "outputs": [
    {
     "data": {
      "image/png": "[encoded data removed]",
      "text/plain": [
       "<Figure size 432x288 with 2 Axes>"
      ]
     },
     "metadata": {
      "needs_background": "light"
     },
     "output_type": "display_data"
    }
   ],
   "source": [
    "import matplotlib.pyplot as plt\n",
    "fig = plt.figure()\n",
    "ax = fig.add_axes([0,0,1,1])\n",
    "ax.set_xlabel('Date')\n",
    "ax.set_ylabel('WindSpeed')\n",
    "ax.set_title('AircraftSpeed Vs WindSpeed')\n",
    "ax.bar(df_res_weather['Date'],df_res_weather['WindSpeed'])\n",
    "\n",
    "#Set up ax2 to be the second y axis with x shared\n",
    "ax2 = ax.twinx()\n",
    "#Plot a line\n",
    "ax2.plot(df_res_weather['Date'], df_res_weather['AircraftSpeed'], 'r-')\n",
    "\n",
    "# Make the y-axis label and tick labels match the line color.\n",
    "ax2.set_ylabel('AircraftSpeed', color='r')\n",
    "plt.show()"
   ]
  },
  {
   "cell_type": "code",
   "execution_count": null,
   "metadata": {
    "id": "DArHzbyuqcIn",
    "outputId": "8f617eab-59ab-4d55-9806-2fde05899838"
   },
   "outputs": [
    {
     "name": "stdout",
     "output_type": "stream",
     "text": [
      "Wall time: 4.74 s\n"
     ]
    },
    {
     "data": {
      "text/html": [
       "<div>\n",
       "<style scoped>\n",
       "    .dataframe tbody tr th:only-of-type {\n",
       "        vertical-align: middle;\n",
       "    }\n",
       "\n",
       "    .dataframe tbody tr th {\n",
       "        vertical-align: top;\n",
       "    }\n",
       "\n",
       "    .dataframe thead th {\n",
       "        text-align: right;\n",
       "    }\n",
       "</style>\n",
       "<table border=\"1\" class=\"dataframe\">\n",
       "  <thead>\n",
       "    <tr style=\"text-align: right;\">\n",
       "      <th></th>\n",
       "      <th>Altitude</th>\n",
       "      <th>WindSpeed</th>\n",
       "      <th>AircraftSpeed</th>\n",
       "      <th>Date</th>\n",
       "      <th>TotalSpeed</th>\n",
       "    </tr>\n",
       "  </thead>\n",
       "  <tbody>\n",
       "    <tr>\n",
       "      <th>0</th>\n",
       "      <td>6167.995223</td>\n",
       "      <td>7.679142</td>\n",
       "      <td>172.575344</td>\n",
       "      <td>01/20/2021</td>\n",
       "      <td>180.254486</td>\n",
       "    </tr>\n",
       "    <tr>\n",
       "      <th>1</th>\n",
       "      <td>5545.926334</td>\n",
       "      <td>11.738671</td>\n",
       "      <td>143.897424</td>\n",
       "      <td>01/21/2021</td>\n",
       "      <td>155.636095</td>\n",
       "    </tr>\n",
       "    <tr>\n",
       "      <th>2</th>\n",
       "      <td>5864.637131</td>\n",
       "      <td>10.001848</td>\n",
       "      <td>161.149077</td>\n",
       "      <td>01/22/2021</td>\n",
       "      <td>171.150925</td>\n",
       "    </tr>\n",
       "    <tr>\n",
       "      <th>3</th>\n",
       "      <td>3868.419034</td>\n",
       "      <td>6.321868</td>\n",
       "      <td>118.954995</td>\n",
       "      <td>01/23/2021</td>\n",
       "      <td>125.276863</td>\n",
       "    </tr>\n",
       "    <tr>\n",
       "      <th>4</th>\n",
       "      <td>3510.420534</td>\n",
       "      <td>4.658574</td>\n",
       "      <td>116.722597</td>\n",
       "      <td>01/24/2021</td>\n",
       "      <td>121.381171</td>\n",
       "    </tr>\n",
       "  </tbody>\n",
       "</table>\n",
       "</div>"
      ],
      "text/plain": [
       "      Altitude  WindSpeed  AircraftSpeed        Date  TotalSpeed\n",
       "0  6167.995223   7.679142     172.575344  01/20/2021  180.254486\n",
       "1  5545.926334  11.738671     143.897424  01/21/2021  155.636095\n",
       "2  5864.637131  10.001848     161.149077  01/22/2021  171.150925\n",
       "3  3868.419034   6.321868     118.954995  01/23/2021  125.276863\n",
       "4  3510.420534   4.658574     116.722597  01/24/2021  121.381171"
      ]
     },
     "execution_count": 104,
     "metadata": {},
     "output_type": "execute_result"
    }
   ],
   "source": [
    "%%time\n",
    "# SQLlite SQL query fetching time\n",
    "sql_query_data = \"SELECT avg(Altitude), avg(sknt) as WindSpeed, avg(Speed) as AircraftSpeed, f.Date FROM flight as f join weather as w on f.metar = w.metar group by f.Date having f.date>'01/19/2021' and f.date<'01/25/2021'\"\n",
    "sql_query = c.execute (sql_query_data)\n",
    "df_res_weather = pd.DataFrame(sql_query, columns = ['Altitude', 'WindSpeed', 'AircraftSpeed', 'Date'])\n",
    "df_res_weather['WindSpeed'] = df_res_weather['WindSpeed'].astype(float)\n",
    "df_res_weather['AircraftSpeed'] = df_res_weather['AircraftSpeed'].astype(float)\n",
    "df_res_weather['TotalSpeed'] = df_res_weather['WindSpeed'] + df_res_weather['AircraftSpeed'] \n",
    "df_res_weather.head()"
   ]
  },
  {
   "cell_type": "code",
   "execution_count": null,
   "metadata": {
    "id": "I54iMnBqqcIn",
    "outputId": "752e6e77-576f-458e-a41c-8d4cb36e75f8"
   },
   "outputs": [
    {
     "data": {
      "image/png": "[encoded data removed]",
      "text/plain": [
       "<Figure size 432x288 with 2 Axes>"
      ]
     },
     "metadata": {
      "needs_background": "light"
     },
     "output_type": "display_data"
    }
   ],
   "source": [
    "import matplotlib.pyplot as plt\n",
    "fig = plt.figure()\n",
    "ax = fig.add_axes([0,0,1,1])\n",
    "ax.set_xlabel('Date')\n",
    "ax.set_ylabel('Altitude')\n",
    "ax.set_title('TotalSpeed Vs Altitude')\n",
    "ax.bar(df_res_weather['Date'],df_res_weather['Altitude'])\n",
    "\n",
    "#Set up ax2 to be the second y axis with x shared\n",
    "ax2 = ax.twinx()\n",
    "#Plot a line\n",
    "ax2.plot(df_res_weather['Date'], df_res_weather['TotalSpeed'], 'r-')\n",
    "\n",
    "# Make the y-axis label and tick labels match the line color.\n",
    "ax2.set_ylabel('TotalSpeed', color='r')\n",
    "plt.show()"
   ]
  },
  {
   "cell_type": "code",
   "execution_count": null,
   "metadata": {
    "id": "jjtrzQEWqcIo",
    "outputId": "e369d9a8-03f6-40e0-af5b-1c65f4b1b90e"
   },
   "outputs": [
    {
     "name": "stdout",
     "output_type": "stream",
     "text": [
      "Wall time: 23min 3s\n"
     ]
    }
   ],
   "source": [
    "%%time\n",
    "# SQLlite SQL query fetching time\n",
    "sql_query_data = \"SELECT * FROM weather\"\n",
    "sql_query = c.execute (sql_query_data)\n",
    "df_res_weather = pd.DataFrame(sql_query, columns = ['Date', 'Time', 'tmpf','dwpf','relh','drct',\n",
    "                                        'sknt','p01i','alti','mslp','vsby','gust','skyc1','feel','metar'])\n",
    "\n",
    "sql_query_data = \"SELECT * FROM flight\"\n",
    "sql_query = c.execute (sql_query_data)\n",
    "df_res_flight = pd.DataFrame(sql_query, columns = ['ID','Date','Time','Altitude','Speed','Heading','Lat','Lon',\n",
    "                                                    'Angle','Range','Bearing','Metar'])\n",
    "\n",
    "df_res_weather.to_csv('Weather_DB.csv', index=False)\n",
    "df_res_flight.to_csv('Flight_DB.csv', index=False)"
   ]
  },
  {
   "cell_type": "code",
   "execution_count": null,
   "metadata": {
    "id": "P4Qts7oaqcIp",
    "outputId": "a09bcc00-4210-4682-cd8d-89d393b0d22c"
   },
   "outputs": [
    {
     "data": {
      "text/plain": [
       "9330850"
      ]
     },
     "execution_count": 22,
     "metadata": {},
     "output_type": "execute_result"
    }
   ],
   "source": [
    "# Read Weather Data\n",
    "df_total = pd.read_csv('out.csv', low_memory=False)\n",
    "len(df_total)"
   ]
  },
  {
   "cell_type": "code",
   "execution_count": null,
   "metadata": {
    "id": "NgRh990aqcIq"
   },
   "outputs": [],
   "source": [
    "# splitting dataframe by row index\n",
    "df1 = df_total.iloc[:4700000,:]\n",
    "df2 = df_total.iloc[4700001:,:]\n",
    "df1.to_csv('out1.csv', index=False)\n",
    "df2.to_csv('out2.csv', index=False)"
   ]
  }
 ],
 "metadata": {
  "colab": {
   "collapsed_sections": [],
   "name": "Assignment2.ipynb",
   "provenance": []
  },
  "kernelspec": {
   "display_name": "Python 3 (ipykernel)",
   "language": "python",
   "name": "python3"
  },
  "language_info": {
   "codemirror_mode": {
    "name": "ipython",
    "version": 3
   },
   "file_extension": ".py",
   "mimetype": "text/x-python",
   "name": "python",
   "nbconvert_exporter": "python",
   "pygments_lexer": "ipython3",
   "version": "3.9.13"
  }
 },
 "nbformat": 4,
 "nbformat_minor": 1
}
