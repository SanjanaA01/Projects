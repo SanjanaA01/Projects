{
  "nbformat": 4,
  "nbformat_minor": 0,
  "metadata": {
    "colab": {
      "name": "CSC501-Assignment1.ipynb",
      "provenance": [],
      "collapsed_sections": []
    },
    "kernelspec": {
      "name": "python3",
      "display_name": "Python 3"
    },
    "language_info": {
      "name": "python"
    }
  },
  "cells": [
    {
      "cell_type": "code",
      "metadata": {
        "id": "b59P2xSG8gZv"
      },
      "source": [
        "import numpy as np\n",
        "import pandas as pd\n",
        "import matplotlib.pyplot as plt\n",
        "import seaborn as sns\n",
        "import time"
      ],
      "execution_count": null,
      "outputs": []
    },
    {
      "cell_type": "code",
      "metadata": {
        "colab": {
          "base_uri": "https://localhost:8080/"
        },
        "id": "0gTt_bKdTSdP",
        "outputId": "42ef3635-d216-4fb9-ba76-06a965fc7e17"
      },
      "source": [
        "from google.colab import drive\n",
        "drive.mount('/content/drive')"
      ],
      "execution_count": null,
      "outputs": [
        {
          "output_type": "stream",
          "name": "stdout",
          "text": [
            "Drive already mounted at /content/drive; to attempt to forcibly remount, call drive.mount(\"/content/drive\", force_remount=True).\n"
          ]
        }
      ]
    },
    {
      "cell_type": "code",
      "metadata": {
        "id": "-VhCdWyGNv9B",
        "colab": {
          "base_uri": "https://localhost:8080/"
        },
        "outputId": "427d71b8-ec46-43d4-a8fb-e7ddbe9df0f5"
      },
      "source": [
        "df_enti_0 = pd.read_csv('/content/drive/MyDrive/CSC501A1/od_cntrbtn_audt_e.csv',encoding='latin-1')\n",
        "df_cand_10 = pd.read_csv('/content/drive/MyDrive/CSC501A1/candidate_pre_2000_contributors_e.csv',encoding='latin-1')\n",
        "df_cand_20 = pd.read_csv('/content/drive/MyDrive/CSC501A1/candidate_2000_2004_contributors_de_e.csv',encoding='latin-1')\n",
        "df_poli_10 = pd.read_csv('/content/drive/MyDrive/CSC501A1/party_annual_1993-2000_contributors_e.csv', encoding='latin-1')\n",
        "df_poli_20 =  pd.read_csv('/content/drive/MyDrive/CSC501A1/party_annual_2000-2004_contributors_e.csv', encoding='latin-1')"
      ],
      "execution_count": null,
      "outputs": [
        {
          "output_type": "stream",
          "name": "stderr",
          "text": [
            "/usr/local/lib/python3.7/dist-packages/IPython/core/interactiveshell.py:2718: DtypeWarning: Columns (4,5,7,8,18,25) have mixed types.Specify dtype option on import or set low_memory=False.\n",
            "  interactivity=interactivity, compiler=compiler, result=result)\n"
          ]
        }
      ]
    },
    {
      "cell_type": "code",
      "metadata": {
        "id": "wnFVQVpVNxpM"
      },
      "source": [
        "df_enti = df_enti_0.copy(deep=True)\n",
        "df_cand_1 = df_cand_10.copy(deep=True)\n",
        "df_cand_2 = df_cand_20.copy(deep=True)\n",
        "df_poli_1 = df_poli_10.copy(deep=True)\n",
        "df_poli_2 = df_poli_20.copy(deep=True)"
      ],
      "execution_count": null,
      "outputs": []
    },
    {
      "cell_type": "code",
      "metadata": {
        "id": "eGqcDrFjNy7m"
      },
      "source": [
        "# Dropping Irrelevant Columns\n",
        "df_enti.drop(['Contributor last name', 'Contributor first name', \n",
        "               'Contributor middle initial','Recipient last name', 'Recipient first name', \n",
        "               'Recipient middle initial','Contribution given through'],axis=1, inplace=True)\n",
        "df_cand_2.drop([' Recipient last name', ' Recipient first name', 'Contribution given through', \n",
        "                'Type of organization that contribution was given through',\n",
        "                ' Recipient middle initial','Address of organization that contribution was given through']\n",
        "               ,axis=1, inplace=True)\n",
        "df_poli_1.drop([' Contributor last name', ' Contributor first name'],axis=1, inplace=True)\n",
        "df_poli_2.drop([' Contributor last name', ' Contributor first name', \n",
        "                'Type of organization that contribution was given through',\n",
        "                'Contribution given through'],axis=1, inplace=True)\n",
        "\n",
        "# Renaming Columns to remove extra space\n",
        "cols_enti = {'ï»¿Political Entity': 'Political Entity',\n",
        "              'Political Party of Recipient':'Political Party',\n",
        "              'Fiscal/Election date':'Fiscal date'}\n",
        "cols_cand_1 = {' Contributor name': 'Contributor name'}\n",
        "cols_cand_2 = {' Contributor name': 'Contributor name'}\n",
        "cols_poli_1 = {' Contributor name': 'Contributor name', 'Contribution amount' : 'Monetary amount'}\n",
        "cols_poli_2 = {' Contributor name': 'Contributor name'}\n",
        "df_enti.rename(columns = cols_enti, inplace=True)\n",
        "df_cand_1.rename(columns = cols_cand_1, inplace=True)\n",
        "df_cand_2.rename(columns = cols_cand_2, inplace=True)\n",
        "df_poli_1.rename(columns = cols_poli_1, inplace=True)\n",
        "df_poli_2.rename(columns = cols_poli_2, inplace=True)\n",
        "\n",
        "# Replace value to make it common\n",
        "df_enti.replace({'Political Entity' : {   'ï»¿Candidates':'Candidates',\n",
        "                                          'ï»¿Registered associations':'Registered associations',\n",
        "                                          'ï»¿Nomination contestants':'Nomination contestants',\n",
        "                                          'ï»¿Leadership contestants':'Leadership contestants',\n",
        "                                          'ï»¿ï»¿Nomination contestants':'Nomination contestants',\n",
        "                                          'ï»¿Registered parties':'Registered parties',\n",
        "                                          'ï»¿ï»¿Registered parties':'Registered parties'},\n",
        "                 'Political Party' : {\n",
        "                                          'Bloc QuÃ©bÃ©cois':'Bloc Québécois',\n",
        "                                          'Parti RhinocÃ©ros Party':'Parti Rhinocéros Party',\n",
        "                                          'Forces et DÃ©mocratie':'Forces et Démocratie'}}, inplace=True)\n",
        "df_cand_1.replace({'Political Entity' : {'Candidate':'Candidates'},\n",
        "                   'Political Party' : {\n",
        "                                          'Progressive Conservative Party of Canada':'Conservative Party of Canada',\n",
        "                                          'Progressive Conservative':'Conservative Party of Canada',\n",
        "                                          'Reform':'Reform Party of Canada',\n",
        "                                          'N.D.P.':'New Democratic Party',\n",
        "                                          'Independant':'Independent',\n",
        "                                          'C.H.P. of Canada':'Christian Heritage Party of Canada',\n",
        "                                          'Green Party':'Green Party of Canada',\n",
        "                                          'Marxist-Leninist':'Marxist-Leninist Party of Canada'}}, inplace=True)\n",
        "df_cand_2.replace({'Political Entity' : { 'Candidate':'Candidates'}}, inplace=True)\n",
        "df_poli_1.replace({'Political Entity' : { 'Registered Party':'Registered parties'},\n",
        "                   'Political Party' : {\n",
        "                                          'Canadian Reform Conservative Alliance':'Conservative Party of Canada',\n",
        "                                          'Progressive Conservative Party of Canada':'Conservative Party of Canada',\n",
        "                                          'Liberal Party':'Liberal Party of Canada',\n",
        "                                          'Progressive Conservative Party':'Conservative Party of Canada',\n",
        "                                          'Reform Party':'Reform Party of Canada',\n",
        "                                          'Christian Heritage Party':'Christian Heritage Party of Canada',\n",
        "                                          'The Green Party of Canada':'Green Party of Canada',\n",
        "                                          'Green Party':'Green Party of Canada',\n",
        "                                          'Marxist-Leninist Party':'Marxist-Leninist Party of Canada'}}, inplace=True)\n",
        "df_poli_2.replace({'Political Entity' : { 'Registered Party':'Registered parties'},\n",
        "                   'Political Party' : {\n",
        "                                          'Canadian Reform Conservative Alliance':'Conservative Party of Canada',\n",
        "                                          'Progressive Conservative Party of Canada':'Conservative Party of Canada',\n",
        "                                          'The Green Party of Canada':'Green Party of Canada'}}, inplace=True)\n",
        "\n",
        "# Remove errorneous data\n",
        "df_enti = df_enti[df_enti['Political Entity'] != 'ï»¿']\n",
        "\n",
        "# Remove data where both 'Monetary amount' and 'Non-Monetary amount' is empty\n",
        "df_enti.drop(df_enti[(df_enti['Monetary amount'].isnull())&(df_enti['Non-Monetary amount'].isnull())].index, inplace=True)\n",
        "df_cand_1.drop(df_cand_1[(df_cand_1['Monetary amount'].isnull())&(df_cand_1['Non-Monetary amount'].isnull())].index, inplace=True)\n",
        "df_cand_2.drop(df_cand_2[(df_cand_2['Monetary amount'].isnull())&(df_cand_2['Non-Monetary amount'].isnull())].index, inplace=True)\n",
        "df_poli_1.drop(df_poli_1[df_poli_1['Monetary amount'].isnull()].index, inplace=True)\n",
        "df_poli_2.drop(df_poli_2[(df_poli_2['Monetary amount'].isnull())&(df_poli_2['Non-Monetary amount'].isnull())].index, inplace=True)\n",
        "\n",
        "# Remove where 'Contributor Postal code' is empty\n",
        "df_enti[(df_enti['Contributor Postal code'].isnull())]\n",
        "\n",
        "# Fill 0 where 'Non-Monetary amount' and 'Monetary Amount' is blank\n",
        "cols= ['Monetary amount', 'Non-Monetary amount']\n",
        "df_enti[cols]=df_enti[cols].fillna(0)\n",
        "df_cand_1[cols]=df_cand_1[cols].fillna(0)\n",
        "df_cand_2[cols]=df_cand_2[cols].fillna(0)\n",
        "df_poli_1['Monetary amount']=df_poli_1['Monetary amount'].fillna(0)\n",
        "df_poli_2[cols]=df_poli_2[cols].fillna(0)\n",
        "\n",
        "# Remove data where any of the below column is blank\n",
        "cols = ['Contributor Postal code','Contributor City','Contributor Province','Contributor name','Electoral District','Electoral event']\n",
        "cols1 = ['Contributor name','Electoral District','Electoral event']\n",
        "cols2 = ['Contributor name','Electoral event']\n",
        "cols3 = ['Contributor Postal code','Contributor City','Contributor Province','Contributor name','Electoral event']\n",
        "df_enti.drop(df_enti[df_enti[cols].isnull().any(axis = 1)].index, inplace = True)\n",
        "df_cand_1.drop(df_cand_1[df_cand_1[cols1].isnull().any(axis = 1)].index, inplace = True)\n",
        "df_cand_2.drop(df_cand_2[df_cand_2[cols].isnull().any(axis = 1)].index, inplace = True)\n",
        "df_poli_1.drop(df_poli_1[df_poli_1[cols2].isnull().any(axis = 1)].index, inplace = True)\n",
        "df_poli_2.drop(df_poli_2[df_poli_2[cols3].isnull().any(axis = 1)].index, inplace = True)\n",
        "\n",
        "# Changing Datatype\n",
        "df_enti['Recipient ID'] = df_enti['Recipient ID'].astype(int)\n",
        "df_cand_1['Recipient ID'] = df_cand_1['Recipient ID'].astype(int)\n",
        "df_cand_2['Recipient ID'] = df_cand_2['Recipient ID'].astype(int)\n",
        "df_poli_1['Recipient ID'] = df_poli_1['Recipient ID'].astype(int)\n",
        "df_poli_2['Recipient ID'] = df_poli_2['Recipient ID'].astype(int)\n",
        "\n",
        "# df['Contributor type'].fillna(df['Contributor type'].mode()[0], inplace = True)\n",
        "# df['Contributor name'].fillna(df['Contributor name'].mode()[0], inplace = True)\n"
      ],
      "execution_count": null,
      "outputs": []
    },
    {
      "cell_type": "code",
      "metadata": {
        "colab": {
          "base_uri": "https://localhost:8080/"
        },
        "id": "STZvqZnZo5sT",
        "outputId": "bf89621d-be2c-4e1d-d845-d5d0d4e55ad0"
      },
      "source": [
        "df_enti['Contributor Province'].value_counts()"
      ],
      "execution_count": null,
      "outputs": [
        {
          "output_type": "execute_result",
          "data": {
            "text/plain": [
              "ON            277332\n",
              "BC             89372\n",
              "QC             77253\n",
              "AB             41832\n",
              "MB             24251\n",
              "               ...  \n",
              "NAS                1\n",
              "BC'                1\n",
              "Alb                1\n",
              "no address         1\n",
              "-                  1\n",
              "Name: Contributor Province, Length: 192, dtype: int64"
            ]
          },
          "metadata": {},
          "execution_count": 22
        }
      ]
    },
    {
      "cell_type": "code",
      "metadata": {
        "id": "eRExKpEGmVIr"
      },
      "source": [
        "# Creating the tables and Deleting the old instances of the tables\n",
        "def db_createTableSchema():\n",
        "    import sqlite3\n",
        "\n",
        "    conn = sqlite3.connect('documents.db')\n",
        "    c = conn.cursor()\n",
        "\n",
        "    c.execute('''DROP TABLE IF EXISTS eventdetails ''')\n",
        "    c.execute('''DROP TABLE IF EXISTS recipient ''')\n",
        "    c.execute('''DROP TABLE IF EXISTS contributor ''')\n",
        "    c.execute('''DROP TABLE IF EXISTS area ''')\n",
        "    \n",
        "    evnt_query = '''CREATE TABLE IF NOT EXISTS eventdetails (\n",
        "                        FiscalDate DATE PRIMARY KEY NOT NULL,\n",
        "                        ElectoralEvent VARCHAR(100));'''\n",
        "    c.execute(evnt_query)\n",
        "    print('Table eventdetails created.');\n",
        "    \n",
        "    recp_query = '''CREATE TABLE IF NOT EXISTS recipient (\n",
        "                        RecipientID INT PRIMARY KEY NOT NULL, \n",
        "                        Recipient TEXT, \n",
        "                        PoliticalEntity VARCHAR(100),\n",
        "                        PoliticalParty VARCHAR(100),\n",
        "                        FiscalDate DATE,\n",
        "                        FOREIGN KEY (FiscalDate) REFERENCES eventdetails(FiscalDate));'''\n",
        "    c.execute(recp_query)\n",
        "    print('Table recipient created.');\n",
        "    \n",
        "    area_query = '''CREATE TABLE IF NOT EXISTS area ( \n",
        "                        ContributorPost VARCHAR(100) PRIMARY KEY NOT NULL,\n",
        "                        ContributorProv VARCHAR(100), \n",
        "                        ContributorCity VARCHAR(100));'''\n",
        "    c.execute(area_query)\n",
        "    print('Table area created.');\n",
        "    \n",
        "    cont_query = '''CREATE TABLE IF NOT EXISTS contributor (\n",
        "                        ContributorName VARCHAR(100),\n",
        "                        RecipientID INT, \n",
        "                        FiscalDate DATE,\n",
        "                        ContributorType VARCHAR(100), \n",
        "                        ContributorPost VARCHAR(100),\n",
        "                        MonAmount FLOAT,\n",
        "                        NMonAmount FLOAT,\n",
        "                        CONSTRAINT ContriUnq PRIMARY KEY (RecipientID,FiscalDate,ContributorName),\n",
        "                        FOREIGN KEY(ContributorPost) REFERENCES area(ContributorPost),\n",
        "                        FOREIGN KEY (RecipientID) REFERENCES recipient(RecipientID),\n",
        "                        FOREIGN KEY (FiscalDate) REFERENCES eventdetails(FiscalDate));'''\n",
        "    c.execute(cont_query)\n",
        "    print('Table contributor created.');\n",
        "    conn.commit()\n",
        "    \n",
        "# Deleting the content of the tables\n",
        "def db_delete_table_content():\n",
        "    import sqlite3\n",
        "\n",
        "    conn = sqlite3.connect('documents.db')\n",
        "    c = conn.cursor()\n",
        "\n",
        "    evnt_query = \"\"\" DELETE FROM eventdetails\"\"\"\n",
        "    c.execute(evnt_query)\n",
        "    print(\"Content of table 'eventdetails' has been deleted\")\n",
        "    \n",
        "    recp_query = \"\"\" DELETE FROM recipient\"\"\"\n",
        "    c.execute(recp_query)\n",
        "    print(\"Content of table 'recipient' has been deleted\")\n",
        "    \n",
        "    area_query = \"\"\" DELETE FROM area\"\"\"\n",
        "    c.execute(area_query)\n",
        "    print(\"Content of table 'area' has been deleted\")\n",
        "    \n",
        "    cont_query = \"\"\" DELETE FROM contributor\"\"\"\n",
        "    c.execute(cont_query)\n",
        "    print(\"Content of table 'contributor' has been deleted\")\n",
        "    conn.commit()\n",
        "    \n",
        "# Inserting data into the tables from files created\n",
        "def db_insert_data():\n",
        "    import sqlite3\n",
        "    conn = sqlite3.connect('documents.db')\n",
        "    c = conn.cursor()\n",
        "    \n",
        "    # Insert all data in tables\n",
        "    for index, row in df_enti.iterrows():\n",
        "        \n",
        "        evnt_query = \"\"\"INSERT or IGNORE INTO \n",
        "                            eventdetails(FiscalDate,ElectoralEvent) \n",
        "                            values(?,?)\"\"\"\n",
        "        c.execute(evnt_query, (row['Fiscal date'], row['Electoral event']))\n",
        "        \n",
        "        recp_query = \"\"\"INSERT or IGNORE INTO \n",
        "                            recipient(RecipientID,Recipient,PoliticalEntity,PoliticalParty,FiscalDate) \n",
        "                            values(?,?,?,?,?)\"\"\"\n",
        "        c.execute(recp_query, (row['Recipient ID'], row['Recipient'], \n",
        "                               row['Political Entity'], row['Political Party'], row['Fiscal date']))\n",
        "        \n",
        "        area_query = \"\"\"INSERT or IGNORE INTO \n",
        "                            area(ContributorPost,ContributorProv,ContributorCity) \n",
        "                            values(?,?,?)\"\"\"\n",
        "        c.execute(area_query, (row['Contributor Postal code'], row['Contributor Province'], \n",
        "                               row['Contributor City']))\n",
        "        \n",
        "        cont_query = \"\"\"INSERT or IGNORE INTO \n",
        "                            contributor(ContributorName,RecipientID,FiscalDate,ContributorType,ContributorPost,MonAmount,NMonAmount) \n",
        "                            values(?,?,?,?,?,?,?)\"\"\"\n",
        "        c.execute(cont_query, (row['Contributor name'], row['Recipient ID'], \n",
        "                               row['Fiscal date'], row['Contributor type'],\n",
        "                               row['Contributor Postal code'], row['Monetary amount'],\n",
        "                               row['Non-Monetary amount']))\n",
        "        \n",
        "    for index, row in df_cand_1.iterrows():\n",
        "        \n",
        "        evnt_query = \"\"\"INSERT or IGNORE INTO \n",
        "                            eventdetails(FiscalDate,ElectoralEvent) \n",
        "                            values(?,?)\"\"\"\n",
        "        c.execute(evnt_query, (row['Fiscal date'], row['Electoral event']))\n",
        "        \n",
        "        recp_query = \"\"\"INSERT or IGNORE INTO \n",
        "                            recipient(RecipientID,Recipient,PoliticalEntity,PoliticalParty,FiscalDate) \n",
        "                            values(?,?,?,?,?)\"\"\"\n",
        "        c.execute(recp_query, (row['Recipient ID'], row['Recipient'], \n",
        "                               row['Political Entity'], row['Political Party'], row['Fiscal date']))\n",
        "        \n",
        "        cont_query = \"\"\"INSERT or IGNORE INTO \n",
        "                            contributor(ContributorName,RecipientID,FiscalDate,ContributorType,ContributorPost,MonAmount,NMonAmount) \n",
        "                            values(?,?,?,?,?,?,?)\"\"\"\n",
        "        c.execute(cont_query, (row['Contributor name'], row['Recipient ID'], \n",
        "                               row['Fiscal date'], row['Contributor type'],\n",
        "                               '', row['Monetary amount'],\n",
        "                               row['Non-Monetary amount']))\n",
        "        \n",
        "    for index, row in df_cand_2.iterrows():\n",
        "        \n",
        "        evnt_query = \"\"\"INSERT or IGNORE INTO \n",
        "                            eventdetails(FiscalDate,ElectoralEvent) \n",
        "                            values(?,?)\"\"\"\n",
        "        c.execute(evnt_query, (row['Fiscal date'], row['Electoral event']))\n",
        "        \n",
        "        recp_query = \"\"\"INSERT or IGNORE INTO \n",
        "                            recipient(RecipientID,Recipient,PoliticalEntity,PoliticalParty,FiscalDate) \n",
        "                            values(?,?,?,?,?)\"\"\"\n",
        "        c.execute(recp_query, (row['Recipient ID'], row['Recipient'], \n",
        "                               row['Political Entity'], row['Political Party'], row['Fiscal date']))\n",
        "        \n",
        "        area_query = \"\"\"INSERT or IGNORE INTO \n",
        "                            area(ContributorPost,ContributorProv,ContributorCity) \n",
        "                            values(?,?,?)\"\"\"\n",
        "        c.execute(area_query, (row['Contributor Postal code'], row['Contributor Province'], \n",
        "                               row['Contributor City']))\n",
        "        \n",
        "        cont_query = \"\"\"INSERT or IGNORE INTO \n",
        "                            contributor(ContributorName,RecipientID,FiscalDate,ContributorType,ContributorPost,MonAmount,NMonAmount) \n",
        "                            values(?,?,?,?,?,?,?)\"\"\"\n",
        "        c.execute(cont_query, (row['Contributor name'], row['Recipient ID'], \n",
        "                               row['Fiscal date'], row['Contributor type'],\n",
        "                               row['Contributor Postal code'], row['Monetary amount'],\n",
        "                               row['Non-Monetary amount']))\n",
        "        \n",
        "    for index, row in df_poli_1.iterrows():\n",
        "        \n",
        "        evnt_query = \"\"\"INSERT or IGNORE INTO \n",
        "                            eventdetails(FiscalDate,ElectoralEvent) \n",
        "                            values(?,?)\"\"\"\n",
        "        c.execute(evnt_query, (row['Fiscal date'], row['Electoral event']))\n",
        "        \n",
        "        recp_query = \"\"\"INSERT or IGNORE INTO \n",
        "                            recipient(RecipientID,Recipient,PoliticalEntity,PoliticalParty,FiscalDate) \n",
        "                            values(?,?,?,?,?)\"\"\"\n",
        "        c.execute(recp_query, (row['Recipient ID'], row['Recipient'], \n",
        "                               row['Political Entity'], row['Political Party'], row['Fiscal date']))\n",
        "        \n",
        "        cont_query = \"\"\"INSERT or IGNORE INTO \n",
        "                            contributor(ContributorName,RecipientID,FiscalDate,ContributorType,ContributorPost,MonAmount,NMonAmount) \n",
        "                            values(?,?,?,?,?,?,?)\"\"\"\n",
        "        c.execute(cont_query, (row['Contributor name'], row['Recipient ID'], \n",
        "                               row['Fiscal date'], row['Contributor type'],\n",
        "                               '', row['Monetary amount'],\n",
        "                               ''))\n",
        "        \n",
        "    for index, row in df_poli_2.iterrows():\n",
        "        \n",
        "        evnt_query = \"\"\"INSERT or IGNORE INTO \n",
        "                            eventdetails(FiscalDate,ElectoralEvent) \n",
        "                            values(?,?)\"\"\"\n",
        "        c.execute(evnt_query, (row['Fiscal date'], row['Electoral event']))\n",
        "        \n",
        "        recp_query = \"\"\"INSERT or IGNORE INTO \n",
        "                            recipient(RecipientID,Recipient,PoliticalEntity,PoliticalParty,FiscalDate) \n",
        "                            values(?,?,?,?,?)\"\"\"\n",
        "        c.execute(recp_query, (row['Recipient ID'], row['Recipient'], \n",
        "                               row['Political Entity'], row['Political Party'], row['Fiscal date']))\n",
        "        \n",
        "        area_query = \"\"\"INSERT or IGNORE INTO \n",
        "                            area(ContributorPost,ContributorProv,ContributorCity) \n",
        "                            values(?,?,?)\"\"\"\n",
        "        c.execute(area_query, (row['Contributor Postal code'], row['Contributor Province'], \n",
        "                               row['Contributor City']))\n",
        "        \n",
        "        cont_query = \"\"\"INSERT or IGNORE INTO \n",
        "                            contributor(ContributorName,RecipientID,FiscalDate,ContributorType,ContributorPost,MonAmount,NMonAmount) \n",
        "                            values(?,?,?,?,?,?,?)\"\"\"\n",
        "        c.execute(cont_query, (row['Contributor name'], row['Recipient ID'], \n",
        "                               row['Fiscal date'], row['Contributor type'],\n",
        "                               row['Contributor Postal code'], row['Monetary amount'],\n",
        "                               row['Non-Monetary amount']))\n",
        "        \n",
        "    print(\"Insertion into tables are completed\\n\")\n",
        "       \n",
        "    conn.commit()\n",
        "    c.close()"
      ],
      "execution_count": null,
      "outputs": []
    },
    {
      "cell_type": "code",
      "metadata": {
        "id": "CfW75A19Z7xV",
        "colab": {
          "base_uri": "https://localhost:8080/"
        },
        "outputId": "1552fffa-d156-43fe-9272-fbaf2adadf18"
      },
      "source": [
        "# Perform database actions\n",
        "db_createTableSchema()\n",
        "db_delete_table_content()\n",
        "%time db_insert_data()"
      ],
      "execution_count": null,
      "outputs": [
        {
          "output_type": "stream",
          "name": "stdout",
          "text": [
            "Table eventdetails created.\n",
            "Table recipient created.\n",
            "Table area created.\n",
            "Table contributor created.\n",
            "Content of table 'eventdetails' has been deleted\n",
            "Content of table 'recipient' has been deleted\n",
            "Content of table 'area' has been deleted\n",
            "Content of table 'contributor' has been deleted\n",
            "Insertion into tables are completed\n",
            "\n",
            "CPU times: user 3min 17s, sys: 1.83 s, total: 3min 19s\n",
            "Wall time: 3min 20s\n"
          ]
        }
      ]
    },
    {
      "cell_type": "code",
      "metadata": {
        "id": "fmtxxiFbeJdU"
      },
      "source": [
        "import sqlite3\n",
        "conn = sqlite3.connect('documents.db',timeout=10) \n",
        "          \n",
        "sql_query = pd.read_sql_query ('''\n",
        "                               SELECT\n",
        "                               *\n",
        "                               FROM area\n",
        "                               ''', conn)"
      ],
      "execution_count": null,
      "outputs": []
    },
    {
      "cell_type": "code",
      "metadata": {
        "colab": {
          "base_uri": "https://localhost:8080/"
        },
        "id": "4tRjKwYSeSnT",
        "outputId": "3b39454a-0e50-4661-c381-053cfa00e2d2"
      },
      "source": [
        "df = pd.DataFrame(sql_query)\n",
        "print(len(df))"
      ],
      "execution_count": null,
      "outputs": [
        {
          "output_type": "stream",
          "name": "stdout",
          "text": [
            "195251\n"
          ]
        }
      ]
    },
    {
      "cell_type": "code",
      "metadata": {
        "id": "KMp_BH_CaAt9"
      },
      "source": [
        "import sqlite3\n",
        "conn = sqlite3.connect('documents.db',timeout=10) \n",
        "          \n",
        "sql_query1 = pd.read_sql_query ('''\n",
        "                               SELECT\n",
        "                               *\n",
        "                               FROM eventdetails\n",
        "                               ''', conn)\n",
        "sql_query2 = pd.read_sql_query ('''\n",
        "                               SELECT\n",
        "                               *\n",
        "                               FROM recipient\n",
        "                               ''', conn)\n",
        "sql_query3 = pd.read_sql_query ('''\n",
        "                               SELECT\n",
        "                               *\n",
        "                               FROM area\n",
        "                               ''', conn)\n",
        "sql_query4 = pd.read_sql_query ('''\n",
        "                               SELECT\n",
        "                               *\n",
        "                               FROM contributor\n",
        "                               ''', conn)\n",
        "#print(sql_query)\n",
        "\n",
        "df_event = pd.DataFrame(sql_query1, columns = ['FiscalDate','ElectoralEvent'])\n",
        "df_recep = pd.DataFrame(sql_query2, columns = ['RecipientID','Recipient','PoliticalEntity','PoliticalParty','FiscalDate'])\n",
        "df_area = pd.DataFrame(sql_query3, columns = ['ContributorPost','ContributorProv','ContributorCity'])\n",
        "df_contri = pd.DataFrame(sql_query4, columns = ['ContributorName','RecipientID','FiscalDate','ContributorType','ContributorPost','MonAmount','NMonAmount'])\n"
      ],
      "execution_count": null,
      "outputs": []
    },
    {
      "cell_type": "code",
      "metadata": {
        "id": "8RjC4h0My0fZ"
      },
      "source": [
        "df_event.to_csv(r'event.csv')\n",
        "df_recep.to_csv(r'recep.csv')\n",
        "df_area.to_csv(r'area.csv')\n"
      ],
      "execution_count": null,
      "outputs": []
    },
    {
      "cell_type": "code",
      "metadata": {
        "id": "qCsWRRol0vAG"
      },
      "source": [
        "df_contri['ContributorType'].fillna(df_contri['ContributorType'].mode()[0], inplace = True)\n",
        "df_contri.to_csv(r'contri.csv')"
      ],
      "execution_count": null,
      "outputs": []
    },
    {
      "cell_type": "code",
      "metadata": {
        "colab": {
          "base_uri": "https://localhost:8080/",
          "height": 17
        },
        "id": "nyaoQ5lK17RM",
        "outputId": "e2efc35b-f554-4d75-9d7d-c298d700af5e"
      },
      "source": [
        "from google.colab import files\n",
        "files.download('contri.csv') "
      ],
      "execution_count": null,
      "outputs": [
        {
          "output_type": "display_data",
          "data": {
            "application/javascript": [
              "\n",
              "    async function download(id, filename, size) {\n",
              "      if (!google.colab.kernel.accessAllowed) {\n",
              "        return;\n",
              "      }\n",
              "      const div = document.createElement('div');\n",
              "      const label = document.createElement('label');\n",
              "      label.textContent = `Downloading \"${filename}\": `;\n",
              "      div.appendChild(label);\n",
              "      const progress = document.createElement('progress');\n",
              "      progress.max = size;\n",
              "      div.appendChild(progress);\n",
              "      document.body.appendChild(div);\n",
              "\n",
              "      const buffers = [];\n",
              "      let downloaded = 0;\n",
              "\n",
              "      const channel = await google.colab.kernel.comms.open(id);\n",
              "      // Send a message to notify the kernel that we're ready.\n",
              "      channel.send({})\n",
              "\n",
              "      for await (const message of channel.messages) {\n",
              "        // Send a message to notify the kernel that we're ready.\n",
              "        channel.send({})\n",
              "        if (message.buffers) {\n",
              "          for (const buffer of message.buffers) {\n",
              "            buffers.push(buffer);\n",
              "            downloaded += buffer.byteLength;\n",
              "            progress.value = downloaded;\n",
              "          }\n",
              "        }\n",
              "      }\n",
              "      const blob = new Blob(buffers, {type: 'application/binary'});\n",
              "      const a = document.createElement('a');\n",
              "      a.href = window.URL.createObjectURL(blob);\n",
              "      a.download = filename;\n",
              "      div.appendChild(a);\n",
              "      a.click();\n",
              "      div.remove();\n",
              "    }\n",
              "  "
            ],
            "text/plain": [
              "<IPython.core.display.Javascript object>"
            ]
          },
          "metadata": {}
        },
        {
          "output_type": "display_data",
          "data": {
            "application/javascript": [
              "download(\"download_055febc4-4759-499b-817f-b49ae6ada4b7\", \"contri.csv\", 49606429)"
            ],
            "text/plain": [
              "<IPython.core.display.Javascript object>"
            ]
          },
          "metadata": {}
        }
      ]
    }
  ]
}